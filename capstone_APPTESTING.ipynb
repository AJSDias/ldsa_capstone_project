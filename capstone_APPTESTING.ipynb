{
 "cells": [
  {
   "cell_type": "markdown",
   "id": "2eeffa2d",
   "metadata": {},
   "source": [
    "#### Test app locally"
   ]
  },
  {
   "cell_type": "code",
   "execution_count": 1,
   "id": "4dae08fd",
   "metadata": {},
   "outputs": [],
   "source": [
    "import json\n",
    "import requests"
   ]
  },
  {
   "cell_type": "code",
   "execution_count": 2,
   "id": "aabb1f9d",
   "metadata": {},
   "outputs": [],
   "source": [
    "headers = {'Content-Type': 'application/json'}\n",
    "\n",
    "def test_request(url,request):\n",
    "    r = requests.post(url, data=json.dumps(request), headers=headers)\n",
    "    print(r.status_code)\n",
    "    print(r.text)"
   ]
  },
  {
   "cell_type": "markdown",
   "id": "775cbde2",
   "metadata": {},
   "source": [
    "#### should_search/ endpoint"
   ]
  },
  {
   "cell_type": "code",
   "execution_count": 3,
   "id": "f20d2055",
   "metadata": {},
   "outputs": [],
   "source": [
    "# Good Request\n",
    "good_observation = {'data':{\"observation_id\": \"somethingelse11\",\n",
    "                            \"Type\": \"Person search\",\n",
    "                            \"Date\": \"2020-02-01 00:00:00+00:00\",\n",
    "                            \"Part of a policing operation\": True,\n",
    "                            \"Latitude\": 50.798824,\n",
    "                            \"Longitude\": -1.089471,\n",
    "                            \"Gender\": \"Female\",\n",
    "                            \"Age range\": \"18-24\",\n",
    "                            \"Officer-defined ethnicity\": \"Black\",\n",
    "                            \"Legislation\": \"Misuse of Drugs Act 1971 (section 23) \",\n",
    "                            \"Object of search\": \"Firearms\",\n",
    "                            \"station\": \"metropolitan\",\n",
    "                            }\n",
    "                    }"
   ]
  },
  {
   "cell_type": "code",
   "execution_count": 4,
   "id": "6c182179",
   "metadata": {
    "scrolled": true
   },
   "outputs": [
    {
     "name": "stdout",
     "output_type": "stream",
     "text": [
      "200\n",
      "{\n",
      "  \"outcome\": false\n",
      "}\n",
      "\n"
     ]
    }
   ],
   "source": [
    "test_request(url=\"http://127.0.0.1:5000/should_search/\", request=good_observation['data'])"
   ]
  },
  {
   "cell_type": "code",
   "execution_count": 5,
   "id": "947f085a",
   "metadata": {},
   "outputs": [],
   "source": [
    "# Bad Request (Missing field station)\n",
    "bad_observation = {'data':{\"observation_id\": \"somethingelse\", \n",
    "                           \"Type\": \"Person search\",\n",
    "                           \"Date\": \"2020-02-01 00:00:00+00:00\",\n",
    "                           \"Part of a policing operation\": True,\n",
    "                           \"Latitude\": 50.798824,\n",
    "                           \"Longitude\": -1.089471,\n",
    "                           \"Gender\": \"Male\",\n",
    "                           \"Age range\": \"18-24\",\n",
    "                           \"Officer-defined ethnicity\": \"Black\",\n",
    "                           \"Legislation\": \"Misuse of Drugs Act 1971 (section 23) \",\n",
    "                           \"Object of search\": \"Controlled drugs\"\n",
    "                          }\n",
    "                  }"
   ]
  },
  {
   "cell_type": "code",
   "execution_count": 6,
   "id": "134f1048",
   "metadata": {},
   "outputs": [
    {
     "name": "stdout",
     "output_type": "stream",
     "text": [
      "200\n",
      "{\n",
      "  \"error\": \"Field `station` missing from request: {'observation_id': 'somethingelse', 'Type': 'Person search', 'Date': '2020-02-01 00:00:00+00:00', 'Part of a policing operation': True, 'Latitude': 50.798824, 'Longitude': -1.089471, 'Gender': 'Male', 'Age range': '18-24', 'Officer-defined ethnicity': 'Black', 'Legislation': 'Misuse of Drugs Act 1971 (section 23) ', 'Object of search': 'Controlled drugs'}\", \n",
      "  \"observation_id\": \"somethingelse\"\n",
      "}\n",
      "\n"
     ]
    }
   ],
   "source": [
    "test_request(url=\"http://127.0.0.1:5000/should_search/\", request=bad_observation['data'])"
   ]
  },
  {
   "cell_type": "code",
   "execution_count": 7,
   "id": "f3bfdd4f",
   "metadata": {},
   "outputs": [],
   "source": [
    "# Bad Request (Wrong datatype in Latitude)\n",
    "bad_observation1 = {'data':{\"observation_id\": \"something7\", \n",
    "                            \"Type\": \"Person search\",\n",
    "                            \"Date\": \"2020-02-01 00:00:00+00:00\",\n",
    "                            \"Part of a policing operation\": True,\n",
    "                            \"Latitude\": \"50.798824\",\n",
    "                            \"Longitude\": -1.089471,\n",
    "                            \"Gender\": \"Male\",\n",
    "                            \"Age range\": \"18-24\",\n",
    "                            \"Officer-defined ethnicity\": \"Black\",\n",
    "                            \"Legislation\": \"Misuse of Drugs Act 1971 (section 23) \",\n",
    "                            \"Object of search\": \"Controlled drugs\",\n",
    "                            \"station\": 100\n",
    "                            }\n",
    "                   }"
   ]
  },
  {
   "cell_type": "code",
   "execution_count": 8,
   "id": "32b256e0",
   "metadata": {},
   "outputs": [
    {
     "name": "stdout",
     "output_type": "stream",
     "text": [
      "200\n",
      "{\n",
      "  \"outcome\": true\n",
      "}\n",
      "\n"
     ]
    }
   ],
   "source": [
    "test_request(url=\"http://127.0.0.1:5000/should_search/\", request=bad_observation1['data'])"
   ]
  },
  {
   "cell_type": "markdown",
   "id": "506f8081",
   "metadata": {},
   "source": [
    "#### search_result/endpoint"
   ]
  },
  {
   "cell_type": "code",
   "execution_count": 11,
   "id": "329bcd71",
   "metadata": {},
   "outputs": [],
   "source": [
    "# Good Request\n",
    "observation = {'data':{\"observation_id\": \"something7\", \n",
    "                       \"outcome\": False\n",
    "                      }\n",
    "              }"
   ]
  },
  {
   "cell_type": "code",
   "execution_count": 12,
   "id": "402a0751",
   "metadata": {},
   "outputs": [
    {
     "name": "stdout",
     "output_type": "stream",
     "text": [
      "200\n",
      "{\n",
      "  \"observation_id\": \"something7\", \n",
      "  \"outcome\": false, \n",
      "  \"predicted_outcome\": true\n",
      "}\n",
      "\n"
     ]
    }
   ],
   "source": [
    "test_request(url=\"http://127.0.0.1:5000/search_result/\", request=observation['data'])"
   ]
  },
  {
   "cell_type": "markdown",
   "id": "53d6315b",
   "metadata": {},
   "source": [
    "#### LDSA App Testing"
   ]
  },
  {
   "cell_type": "markdown",
   "id": "c70defc9",
   "metadata": {},
   "source": [
    "#### Test /should_search/ endpoint:"
   ]
  },
  {
   "cell_type": "code",
   "execution_count": 13,
   "id": "f346c755",
   "metadata": {},
   "outputs": [],
   "source": [
    "with open('data/trial_moment_1.json') as f:\n",
    "    observation_1 = json.load(f)"
   ]
  },
  {
   "cell_type": "code",
   "execution_count": 14,
   "id": "932081cf",
   "metadata": {
    "scrolled": false
   },
   "outputs": [
    {
     "data": {
      "text/plain": [
       "{'data': {'observation_id': '1558a55e-3df2-4665-8beb-0f0c5eaa0408',\n",
       "  'Type': 'Person search',\n",
       "  'Date': '2022-04-06T18:25:00+00:00',\n",
       "  'Part of a policing operation': True,\n",
       "  'Latitude': nan,\n",
       "  'Longitude': nan,\n",
       "  'Gender': 'Male',\n",
       "  'Age range': '10-17',\n",
       "  'Officer-defined ethnicity': 'White',\n",
       "  'Legislation': 'Misuse of Drugs Act 1971 (section 23)',\n",
       "  'Object of search': 'Controlled drugs',\n",
       "  'station': 'nottinghamshire'},\n",
       " 'outcome': True}"
      ]
     },
     "execution_count": 14,
     "metadata": {},
     "output_type": "execute_result"
    }
   ],
   "source": [
    "ldsa = observation_1[0]\n",
    "ldsa"
   ]
  },
  {
   "cell_type": "code",
   "execution_count": 15,
   "id": "bbbadada",
   "metadata": {},
   "outputs": [
    {
     "name": "stdout",
     "output_type": "stream",
     "text": [
      "200\n",
      "{\n",
      "  \"outcome\": false\n",
      "}\n",
      "\n",
      "200\n",
      "{\n",
      "  \"outcome\": false\n",
      "}\n",
      "\n",
      "200\n",
      "{\n",
      "  \"outcome\": true\n",
      "}\n",
      "\n",
      "200\n",
      "{\n",
      "  \"outcome\": true\n",
      "}\n",
      "\n",
      "200\n",
      "{\n",
      "  \"outcome\": false\n",
      "}\n",
      "\n",
      "200\n",
      "{\n",
      "  \"outcome\": true\n",
      "}\n",
      "\n",
      "200\n",
      "{\n",
      "  \"outcome\": false\n",
      "}\n",
      "\n",
      "200\n",
      "{\n",
      "  \"outcome\": true\n",
      "}\n",
      "\n",
      "200\n",
      "{\n",
      "  \"outcome\": true\n",
      "}\n",
      "\n",
      "200\n",
      "{\n",
      "  \"outcome\": false\n",
      "}\n",
      "\n",
      "200\n",
      "{\n",
      "  \"outcome\": true\n",
      "}\n",
      "\n",
      "200\n",
      "{\n",
      "  \"outcome\": true\n",
      "}\n",
      "\n",
      "200\n",
      "{\n",
      "  \"outcome\": false\n",
      "}\n",
      "\n",
      "200\n",
      "{\n",
      "  \"outcome\": true\n",
      "}\n",
      "\n",
      "200\n",
      "{\n",
      "  \"outcome\": true\n",
      "}\n",
      "\n",
      "200\n",
      "{\n",
      "  \"outcome\": true\n",
      "}\n",
      "\n",
      "200\n",
      "{\n",
      "  \"outcome\": true\n",
      "}\n",
      "\n",
      "200\n",
      "{\n",
      "  \"outcome\": false\n",
      "}\n",
      "\n",
      "200\n",
      "{\n",
      "  \"outcome\": false\n",
      "}\n",
      "\n",
      "200\n",
      "{\n",
      "  \"outcome\": true\n",
      "}\n",
      "\n"
     ]
    }
   ],
   "source": [
    "for obs in observation_1:\n",
    "    test_request(url=\"http://127.0.0.1:5000/should_search/\", request=obs['data'])"
   ]
  },
  {
   "cell_type": "markdown",
   "id": "d56f08ed",
   "metadata": {},
   "source": [
    "#### Test /search_result/ endpoint:"
   ]
  },
  {
   "cell_type": "code",
   "execution_count": 16,
   "id": "95754c89",
   "metadata": {},
   "outputs": [],
   "source": [
    "with open('data/trial_moment_2.json') as f:\n",
    "    observation_2 = json.load(f)"
   ]
  },
  {
   "cell_type": "code",
   "execution_count": 17,
   "id": "fd89c95a",
   "metadata": {},
   "outputs": [
    {
     "data": {
      "text/plain": [
       "{'data': {'observation_id': '1558a55e-3df2-4665-8beb-0f0c5eaa0408',\n",
       "  'outcome': False},\n",
       " 'outcome': False}"
      ]
     },
     "execution_count": 17,
     "metadata": {},
     "output_type": "execute_result"
    }
   ],
   "source": [
    "observation_2[0]"
   ]
  },
  {
   "cell_type": "code",
   "execution_count": 18,
   "id": "b20932f3",
   "metadata": {},
   "outputs": [
    {
     "name": "stdout",
     "output_type": "stream",
     "text": [
      "200\n",
      "{\n",
      "  \"observation_id\": \"1558a55e-3df2-4665-8beb-0f0c5eaa0408\", \n",
      "  \"outcome\": false, \n",
      "  \"predicted_outcome\": false\n",
      "}\n",
      "\n"
     ]
    }
   ],
   "source": [
    "test_request(url=\"http://127.0.0.1:5000/search_result/\", request=observation_2[0]['data'])"
   ]
  },
  {
   "cell_type": "code",
   "execution_count": 19,
   "id": "701c4992",
   "metadata": {},
   "outputs": [
    {
     "name": "stdout",
     "output_type": "stream",
     "text": [
      "200\n",
      "{\n",
      "  \"observation_id\": \"1558a55e-3df2-4665-8beb-0f0c5eaa0408\", \n",
      "  \"outcome\": false, \n",
      "  \"predicted_outcome\": false\n",
      "}\n",
      "\n",
      "200\n",
      "{\n",
      "  \"observation_id\": \"eeb891e3-3913-4590-82a9-dc23c212dceb\", \n",
      "  \"outcome\": true, \n",
      "  \"predicted_outcome\": false\n",
      "}\n",
      "\n",
      "200\n",
      "{\n",
      "  \"observation_id\": \"898d6606-c55b-4a54-9480-f967beaff1cf\", \n",
      "  \"outcome\": false, \n",
      "  \"predicted_outcome\": true\n",
      "}\n",
      "\n",
      "200\n",
      "{\n",
      "  \"observation_id\": \"3ff08b3c-c1fc-4c9f-97fe-470cf3a61cef\", \n",
      "  \"outcome\": false, \n",
      "  \"predicted_outcome\": true\n",
      "}\n",
      "\n",
      "200\n",
      "{\n",
      "  \"observation_id\": \"73d7c589-7605-42ab-9c5c-d0fbb897adb0\", \n",
      "  \"outcome\": false, \n",
      "  \"predicted_outcome\": false\n",
      "}\n",
      "\n",
      "200\n",
      "{\n",
      "  \"observation_id\": \"1d276941-2dd7-4cc0-b14d-764ee8bcd966\", \n",
      "  \"outcome\": false, \n",
      "  \"predicted_outcome\": true\n",
      "}\n",
      "\n",
      "200\n",
      "{\n",
      "  \"observation_id\": \"fd0a32a8-1672-45da-bf93-b93524441b24\", \n",
      "  \"outcome\": true, \n",
      "  \"predicted_outcome\": false\n",
      "}\n",
      "\n",
      "200\n",
      "{\n",
      "  \"observation_id\": \"15af9195-3fa0-40aa-9083-da7767f0c801\", \n",
      "  \"outcome\": true, \n",
      "  \"predicted_outcome\": true\n",
      "}\n",
      "\n",
      "200\n",
      "{\n",
      "  \"observation_id\": \"9ac66922-d13b-4877-8bab-41ef925d3bb8\", \n",
      "  \"outcome\": true, \n",
      "  \"predicted_outcome\": true\n",
      "}\n",
      "\n",
      "200\n",
      "{\n",
      "  \"observation_id\": \"27dc412f-64e2-4245-9a25-db0514b2e980\", \n",
      "  \"outcome\": true, \n",
      "  \"predicted_outcome\": false\n",
      "}\n",
      "\n",
      "200\n",
      "{\n",
      "  \"observation_id\": \"aeed813b-d4e9-489d-81b3-9b8ec8f62d52\", \n",
      "  \"outcome\": false, \n",
      "  \"predicted_outcome\": true\n",
      "}\n",
      "\n",
      "200\n",
      "{\n",
      "  \"observation_id\": \"caabe84e-97e0-4305-b540-eda6d56e51f3\", \n",
      "  \"outcome\": true, \n",
      "  \"predicted_outcome\": true\n",
      "}\n",
      "\n",
      "200\n",
      "{\n",
      "  \"observation_id\": \"29d64e93-a47d-45ba-b02f-258f0c459091\", \n",
      "  \"outcome\": true, \n",
      "  \"predicted_outcome\": false\n",
      "}\n",
      "\n",
      "200\n",
      "{\n",
      "  \"observation_id\": \"1037c940-3a60-47eb-bef4-2596218725f0\", \n",
      "  \"outcome\": false, \n",
      "  \"predicted_outcome\": true\n",
      "}\n",
      "\n",
      "200\n",
      "{\n",
      "  \"observation_id\": \"923a1db5-1a27-4eb0-92ea-819c7ffdf85e\", \n",
      "  \"outcome\": true, \n",
      "  \"predicted_outcome\": true\n",
      "}\n",
      "\n",
      "200\n",
      "{\n",
      "  \"observation_id\": \"9249984b-5b19-4730-95d2-201197fff581\", \n",
      "  \"outcome\": false, \n",
      "  \"predicted_outcome\": true\n",
      "}\n",
      "\n",
      "200\n",
      "{\n",
      "  \"observation_id\": \"e477ebd7-a324-4d63-9def-51b5f6a81a54\", \n",
      "  \"outcome\": true, \n",
      "  \"predicted_outcome\": true\n",
      "}\n",
      "\n",
      "200\n",
      "{\n",
      "  \"observation_id\": \"d46707aa-cf72-4fb4-aa64-fe6eff29e8f7\", \n",
      "  \"outcome\": true, \n",
      "  \"predicted_outcome\": false\n",
      "}\n",
      "\n",
      "200\n",
      "{\n",
      "  \"observation_id\": \"06e5e365-15a8-465a-8092-eef6762a78d7\", \n",
      "  \"outcome\": false, \n",
      "  \"predicted_outcome\": false\n",
      "}\n",
      "\n",
      "200\n",
      "{\n",
      "  \"observation_id\": \"89f0b741-dd82-4600-8b98-4c3230a0540d\", \n",
      "  \"outcome\": false, \n",
      "  \"predicted_outcome\": true\n",
      "}\n",
      "\n"
     ]
    }
   ],
   "source": [
    "for obs in observation_2:\n",
    "    test_request(url=\"http://127.0.0.1:5000/search_result/\", request=obs['data'])"
   ]
  },
  {
   "cell_type": "markdown",
   "id": "adecbcb2",
   "metadata": {},
   "source": [
    "### Test app in railway"
   ]
  },
  {
   "cell_type": "code",
   "execution_count": 4,
   "id": "f5768037",
   "metadata": {},
   "outputs": [],
   "source": [
    "# YOUR CODE HERE\n",
    "APP_NAME = 'ldsacapstone-production-dbe3.up.railway.app'"
   ]
  },
  {
   "cell_type": "code",
   "execution_count": 5,
   "id": "b3b2e953",
   "metadata": {},
   "outputs": [
    {
     "name": "stdout",
     "output_type": "stream",
     "text": [
      "200\n",
      "{\n",
      "  \"error\": \"ERROR: Observation ID: '1558a55e-3df2-4665-8beb-0f0c5eaa0408' already exists\", \n",
      "  \"outcome\": false\n",
      "}\n",
      "\n",
      "200\n",
      "{\n",
      "  \"error\": \"ERROR: Observation ID: 'eeb891e3-3913-4590-82a9-dc23c212dceb' already exists\", \n",
      "  \"outcome\": false\n",
      "}\n",
      "\n",
      "200\n",
      "{\n",
      "  \"error\": \"ERROR: Observation ID: '898d6606-c55b-4a54-9480-f967beaff1cf' already exists\", \n",
      "  \"outcome\": true\n",
      "}\n",
      "\n",
      "200\n",
      "{\n",
      "  \"error\": \"ERROR: Observation ID: '3ff08b3c-c1fc-4c9f-97fe-470cf3a61cef' already exists\", \n",
      "  \"outcome\": true\n",
      "}\n",
      "\n",
      "200\n",
      "{\n",
      "  \"error\": \"ERROR: Observation ID: '73d7c589-7605-42ab-9c5c-d0fbb897adb0' already exists\", \n",
      "  \"outcome\": false\n",
      "}\n",
      "\n",
      "200\n",
      "{\n",
      "  \"error\": \"ERROR: Observation ID: '1d276941-2dd7-4cc0-b14d-764ee8bcd966' already exists\", \n",
      "  \"outcome\": true\n",
      "}\n",
      "\n",
      "200\n",
      "{\n",
      "  \"error\": \"ERROR: Observation ID: 'fd0a32a8-1672-45da-bf93-b93524441b24' already exists\", \n",
      "  \"outcome\": false\n",
      "}\n",
      "\n",
      "200\n",
      "{\n",
      "  \"error\": \"ERROR: Observation ID: '15af9195-3fa0-40aa-9083-da7767f0c801' already exists\", \n",
      "  \"outcome\": true\n",
      "}\n",
      "\n",
      "200\n",
      "{\n",
      "  \"error\": \"ERROR: Observation ID: '9ac66922-d13b-4877-8bab-41ef925d3bb8' already exists\", \n",
      "  \"outcome\": true\n",
      "}\n",
      "\n",
      "200\n",
      "{\n",
      "  \"error\": \"ERROR: Observation ID: '27dc412f-64e2-4245-9a25-db0514b2e980' already exists\", \n",
      "  \"outcome\": false\n",
      "}\n",
      "\n",
      "200\n",
      "{\n",
      "  \"error\": \"ERROR: Observation ID: 'aeed813b-d4e9-489d-81b3-9b8ec8f62d52' already exists\", \n",
      "  \"outcome\": true\n",
      "}\n",
      "\n",
      "200\n",
      "{\n",
      "  \"error\": \"ERROR: Observation ID: 'caabe84e-97e0-4305-b540-eda6d56e51f3' already exists\", \n",
      "  \"outcome\": true\n",
      "}\n",
      "\n",
      "200\n",
      "{\n",
      "  \"error\": \"ERROR: Observation ID: '29d64e93-a47d-45ba-b02f-258f0c459091' already exists\", \n",
      "  \"outcome\": false\n",
      "}\n",
      "\n",
      "200\n",
      "{\n",
      "  \"error\": \"ERROR: Observation ID: '1037c940-3a60-47eb-bef4-2596218725f0' already exists\", \n",
      "  \"outcome\": true\n",
      "}\n",
      "\n",
      "200\n",
      "{\n",
      "  \"error\": \"ERROR: Observation ID: '923a1db5-1a27-4eb0-92ea-819c7ffdf85e' already exists\", \n",
      "  \"outcome\": true\n",
      "}\n",
      "\n",
      "200\n",
      "{\n",
      "  \"error\": \"ERROR: Observation ID: '9249984b-5b19-4730-95d2-201197fff581' already exists\", \n",
      "  \"outcome\": true\n",
      "}\n",
      "\n",
      "200\n",
      "{\n",
      "  \"error\": \"ERROR: Observation ID: 'e477ebd7-a324-4d63-9def-51b5f6a81a54' already exists\", \n",
      "  \"outcome\": true\n",
      "}\n",
      "\n",
      "200\n",
      "{\n",
      "  \"error\": \"ERROR: Observation ID: 'd46707aa-cf72-4fb4-aa64-fe6eff29e8f7' already exists\", \n",
      "  \"outcome\": false\n",
      "}\n",
      "\n",
      "200\n",
      "{\n",
      "  \"error\": \"ERROR: Observation ID: '06e5e365-15a8-465a-8092-eef6762a78d7' already exists\", \n",
      "  \"outcome\": false\n",
      "}\n",
      "\n",
      "200\n",
      "{\n",
      "  \"error\": \"ERROR: Observation ID: '89f0b741-dd82-4600-8b98-4c3230a0540d' already exists\", \n",
      "  \"outcome\": true\n",
      "}\n",
      "\n"
     ]
    }
   ],
   "source": [
    "for obs in observation_1:\n",
    "    test_request(url=\"https://{}/should_search/\".format(APP_NAME), request=obs['data'])"
   ]
  },
  {
   "cell_type": "code",
   "execution_count": 7,
   "id": "0cf43558",
   "metadata": {},
   "outputs": [
    {
     "name": "stdout",
     "output_type": "stream",
     "text": [
      "200\n",
      "{\n",
      "  \"observation_id\": \"1558a55e-3df2-4665-8beb-0f0c5eaa0408\", \n",
      "  \"outcome\": false, \n",
      "  \"predicted_outcome\": false\n",
      "}\n",
      "\n",
      "200\n",
      "{\n",
      "  \"observation_id\": \"eeb891e3-3913-4590-82a9-dc23c212dceb\", \n",
      "  \"outcome\": true, \n",
      "  \"predicted_outcome\": false\n",
      "}\n",
      "\n",
      "200\n",
      "{\n",
      "  \"observation_id\": \"898d6606-c55b-4a54-9480-f967beaff1cf\", \n",
      "  \"outcome\": false, \n",
      "  \"predicted_outcome\": true\n",
      "}\n",
      "\n",
      "200\n",
      "{\n",
      "  \"observation_id\": \"3ff08b3c-c1fc-4c9f-97fe-470cf3a61cef\", \n",
      "  \"outcome\": false, \n",
      "  \"predicted_outcome\": true\n",
      "}\n",
      "\n",
      "200\n",
      "{\n",
      "  \"observation_id\": \"73d7c589-7605-42ab-9c5c-d0fbb897adb0\", \n",
      "  \"outcome\": false, \n",
      "  \"predicted_outcome\": false\n",
      "}\n",
      "\n",
      "200\n",
      "{\n",
      "  \"observation_id\": \"1d276941-2dd7-4cc0-b14d-764ee8bcd966\", \n",
      "  \"outcome\": false, \n",
      "  \"predicted_outcome\": true\n",
      "}\n",
      "\n",
      "200\n",
      "{\n",
      "  \"observation_id\": \"fd0a32a8-1672-45da-bf93-b93524441b24\", \n",
      "  \"outcome\": true, \n",
      "  \"predicted_outcome\": false\n",
      "}\n",
      "\n",
      "200\n",
      "{\n",
      "  \"observation_id\": \"15af9195-3fa0-40aa-9083-da7767f0c801\", \n",
      "  \"outcome\": true, \n",
      "  \"predicted_outcome\": true\n",
      "}\n",
      "\n",
      "200\n",
      "{\n",
      "  \"observation_id\": \"9ac66922-d13b-4877-8bab-41ef925d3bb8\", \n",
      "  \"outcome\": true, \n",
      "  \"predicted_outcome\": true\n",
      "}\n",
      "\n",
      "200\n",
      "{\n",
      "  \"observation_id\": \"27dc412f-64e2-4245-9a25-db0514b2e980\", \n",
      "  \"outcome\": true, \n",
      "  \"predicted_outcome\": false\n",
      "}\n",
      "\n",
      "200\n",
      "{\n",
      "  \"observation_id\": \"aeed813b-d4e9-489d-81b3-9b8ec8f62d52\", \n",
      "  \"outcome\": false, \n",
      "  \"predicted_outcome\": true\n",
      "}\n",
      "\n",
      "200\n",
      "{\n",
      "  \"observation_id\": \"caabe84e-97e0-4305-b540-eda6d56e51f3\", \n",
      "  \"outcome\": true, \n",
      "  \"predicted_outcome\": true\n",
      "}\n",
      "\n",
      "200\n",
      "{\n",
      "  \"observation_id\": \"29d64e93-a47d-45ba-b02f-258f0c459091\", \n",
      "  \"outcome\": true, \n",
      "  \"predicted_outcome\": false\n",
      "}\n",
      "\n",
      "200\n",
      "{\n",
      "  \"observation_id\": \"1037c940-3a60-47eb-bef4-2596218725f0\", \n",
      "  \"outcome\": false, \n",
      "  \"predicted_outcome\": true\n",
      "}\n",
      "\n",
      "200\n",
      "{\n",
      "  \"observation_id\": \"923a1db5-1a27-4eb0-92ea-819c7ffdf85e\", \n",
      "  \"outcome\": true, \n",
      "  \"predicted_outcome\": true\n",
      "}\n",
      "\n",
      "200\n",
      "{\n",
      "  \"observation_id\": \"9249984b-5b19-4730-95d2-201197fff581\", \n",
      "  \"outcome\": false, \n",
      "  \"predicted_outcome\": true\n",
      "}\n",
      "\n",
      "200\n",
      "{\n",
      "  \"observation_id\": \"e477ebd7-a324-4d63-9def-51b5f6a81a54\", \n",
      "  \"outcome\": true, \n",
      "  \"predicted_outcome\": true\n",
      "}\n",
      "\n",
      "200\n",
      "{\n",
      "  \"observation_id\": \"d46707aa-cf72-4fb4-aa64-fe6eff29e8f7\", \n",
      "  \"outcome\": true, \n",
      "  \"predicted_outcome\": false\n",
      "}\n",
      "\n",
      "200\n",
      "{\n",
      "  \"observation_id\": \"06e5e365-15a8-465a-8092-eef6762a78d7\", \n",
      "  \"outcome\": false, \n",
      "  \"predicted_outcome\": false\n",
      "}\n",
      "\n",
      "200\n",
      "{\n",
      "  \"observation_id\": \"89f0b741-dd82-4600-8b98-4c3230a0540d\", \n",
      "  \"outcome\": false, \n",
      "  \"predicted_outcome\": true\n",
      "}\n",
      "\n"
     ]
    }
   ],
   "source": [
    "for obs in observation_2:\n",
    "    test_request(url=\"https://{}/search_result/\".format(APP_NAME), request=obs['data'])"
   ]
  },
  {
   "cell_type": "code",
   "execution_count": 11,
   "id": "6fa3a034",
   "metadata": {
    "scrolled": true
   },
   "outputs": [
    {
     "name": "stdout",
     "output_type": "stream",
     "text": [
      "200\n",
      "{\n",
      "  \"error\": \"Field `station` missing from request: {'observation_id': 'somethingelse', 'Type': 'Person search', 'Date': '2020-02-01 00:00:00+00:00', 'Part of a policing operation': True, 'Latitude': 50.798824, 'Longitude': -1.089471, 'Gender': 'Male', 'Age range': '18-24', 'Officer-defined ethnicity': 'Black', 'Legislation': 'Misuse of Drugs Act 1971 (section 23) ', 'Object of search': 'Controlled drugs'}\", \n",
      "  \"observation_id\": \"somethingelse\"\n",
      "}\n",
      "\n"
     ]
    }
   ],
   "source": [
    "test_request(url=\"https://{}/should_search/\".format(APP_NAME), request=bad_observation['data'])"
   ]
  }
 ],
 "metadata": {
  "kernelspec": {
   "display_name": "Python 3 (ipykernel)",
   "language": "python",
   "name": "python3"
  },
  "language_info": {
   "codemirror_mode": {
    "name": "ipython",
    "version": 3
   },
   "file_extension": ".py",
   "mimetype": "text/x-python",
   "name": "python",
   "nbconvert_exporter": "python",
   "pygments_lexer": "ipython3",
   "version": "3.8.16"
  }
 },
 "nbformat": 4,
 "nbformat_minor": 5
}
