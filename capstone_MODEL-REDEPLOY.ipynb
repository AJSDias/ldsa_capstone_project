{
 "cells": [
  {
   "cell_type": "code",
   "execution_count": 1,
   "id": "eabc7f06",
   "metadata": {},
   "outputs": [],
   "source": [
    "import os\n",
    "import pandas as pd\n",
    "import numpy as np\n",
    "import io\n",
    "import json\n",
    "import pickle\n",
    "import requests\n",
    "import joblib\n",
    "import math\n",
    "from sklearn.model_selection import train_test_split\n",
    "from sklearn.pipeline import make_pipeline, Pipeline\n",
    "from sklearn.preprocessing import OneHotEncoder, StandardScaler, RobustScaler\n",
    "from sklearn.compose import ColumnTransformer\n",
    "from sklearn.impute import SimpleImputer\n",
    "from imblearn.over_sampling import RandomOverSampler\n",
    "from xgboost import XGBClassifier\n",
    "#from sklearn.ensemble import GradientBoostingClassifier\n",
    "#from lightgbm import LGBMClassifier\n",
    "#from sklearn.ensemble import RandomForestClassifier\n",
    "#from sklearn.linear_model import LogisticRegression\n",
    "#from sklearn.naive_bayes import GaussianNB\n",
    "from sklearn.pipeline import Pipeline\n",
    "from sklearn.metrics import precision_score, recall_score, f1_score, accuracy_score, precision_recall_curve\n",
    "from sklearn.metrics import roc_curve, roc_auc_score\n",
    "from sklearn.metrics import confusion_matrix,ConfusionMatrixDisplay\n",
    "import matplotlib.pyplot as plt\n",
    "import seaborn as sns\n",
    "from scipy.stats import ks_2samp\n",
    "import warnings\n",
    "warnings.filterwarnings(\"ignore\")"
   ]
  },
  {
   "cell_type": "markdown",
   "id": "6938d94e",
   "metadata": {},
   "source": [
    "### OPEN THE DATA"
   ]
  },
  {
   "cell_type": "code",
   "execution_count": 2,
   "id": "a4b70093",
   "metadata": {},
   "outputs": [
    {
     "data": {
      "text/html": [
       "<div>\n",
       "<style scoped>\n",
       "    .dataframe tbody tr th:only-of-type {\n",
       "        vertical-align: middle;\n",
       "    }\n",
       "\n",
       "    .dataframe tbody tr th {\n",
       "        vertical-align: top;\n",
       "    }\n",
       "\n",
       "    .dataframe thead th {\n",
       "        text-align: right;\n",
       "    }\n",
       "</style>\n",
       "<table border=\"1\" class=\"dataframe\">\n",
       "  <thead>\n",
       "    <tr style=\"text-align: right;\">\n",
       "      <th></th>\n",
       "      <th>observation_id</th>\n",
       "      <th>Type</th>\n",
       "      <th>Date</th>\n",
       "      <th>Part of a policing operation</th>\n",
       "      <th>Latitude</th>\n",
       "      <th>Longitude</th>\n",
       "      <th>Gender</th>\n",
       "      <th>Age range</th>\n",
       "      <th>Self-defined ethnicity</th>\n",
       "      <th>Officer-defined ethnicity</th>\n",
       "      <th>Legislation</th>\n",
       "      <th>Object of search</th>\n",
       "      <th>Outcome</th>\n",
       "      <th>Outcome linked to object of search</th>\n",
       "      <th>Removal of more than just outer clothing</th>\n",
       "      <th>station</th>\n",
       "    </tr>\n",
       "  </thead>\n",
       "  <tbody>\n",
       "    <tr>\n",
       "      <th>0</th>\n",
       "      <td>2e4d0094-c30b-471b-a211-72a9790feca2</td>\n",
       "      <td>Person search</td>\n",
       "      <td>2020-12-01 01:10:00+00:00</td>\n",
       "      <td>NaN</td>\n",
       "      <td>50.798824</td>\n",
       "      <td>-1.089471</td>\n",
       "      <td>Male</td>\n",
       "      <td>25-34</td>\n",
       "      <td>Other ethnic group - Not stated</td>\n",
       "      <td>White</td>\n",
       "      <td>Police and Criminal Evidence Act 1984 (section 1)</td>\n",
       "      <td>Article for use in theft</td>\n",
       "      <td>Community resolution</td>\n",
       "      <td>False</td>\n",
       "      <td>False</td>\n",
       "      <td>hampshire</td>\n",
       "    </tr>\n",
       "    <tr>\n",
       "      <th>1</th>\n",
       "      <td>4779fbe8-6e05-4534-85fd-db32952ee309</td>\n",
       "      <td>Person search</td>\n",
       "      <td>2020-12-01 02:00:00+00:00</td>\n",
       "      <td>NaN</td>\n",
       "      <td>50.785099</td>\n",
       "      <td>-1.091540</td>\n",
       "      <td>Male</td>\n",
       "      <td>over 34</td>\n",
       "      <td>White - Any other White background</td>\n",
       "      <td>Other</td>\n",
       "      <td>Misuse of Drugs Act 1971 (section 23)</td>\n",
       "      <td>Controlled drugs</td>\n",
       "      <td>A no further action disposal</td>\n",
       "      <td>False</td>\n",
       "      <td>False</td>\n",
       "      <td>hampshire</td>\n",
       "    </tr>\n",
       "    <tr>\n",
       "      <th>2</th>\n",
       "      <td>cb5c685d-acac-42e2-914d-75e6ff73b0a8</td>\n",
       "      <td>Person search</td>\n",
       "      <td>2020-12-01 09:15:00+00:00</td>\n",
       "      <td>NaN</td>\n",
       "      <td>50.952006</td>\n",
       "      <td>-1.403341</td>\n",
       "      <td>Male</td>\n",
       "      <td>over 34</td>\n",
       "      <td>White - English/Welsh/Scottish/Northern Irish/...</td>\n",
       "      <td>White</td>\n",
       "      <td>Misuse of Drugs Act 1971 (section 23)</td>\n",
       "      <td>Controlled drugs</td>\n",
       "      <td>A no further action disposal</td>\n",
       "      <td>False</td>\n",
       "      <td>True</td>\n",
       "      <td>hampshire</td>\n",
       "    </tr>\n",
       "    <tr>\n",
       "      <th>3</th>\n",
       "      <td>f486e116-5b1e-45db-9931-a7f070c5c478</td>\n",
       "      <td>Person search</td>\n",
       "      <td>2020-12-01 10:20:00+00:00</td>\n",
       "      <td>NaN</td>\n",
       "      <td>50.806383</td>\n",
       "      <td>-1.079844</td>\n",
       "      <td>Male</td>\n",
       "      <td>10-17</td>\n",
       "      <td>Other ethnic group - Not stated</td>\n",
       "      <td>White</td>\n",
       "      <td>Police and Criminal Evidence Act 1984 (section 1)</td>\n",
       "      <td>Stolen goods</td>\n",
       "      <td>A no further action disposal</td>\n",
       "      <td>False</td>\n",
       "      <td>False</td>\n",
       "      <td>hampshire</td>\n",
       "    </tr>\n",
       "    <tr>\n",
       "      <th>4</th>\n",
       "      <td>78f4020e-12cc-4889-bf1a-2f2c29b2f662</td>\n",
       "      <td>Person search</td>\n",
       "      <td>2020-12-01 10:24:00+00:00</td>\n",
       "      <td>NaN</td>\n",
       "      <td>50.806670</td>\n",
       "      <td>-1.081982</td>\n",
       "      <td>Male</td>\n",
       "      <td>10-17</td>\n",
       "      <td>Other ethnic group - Not stated</td>\n",
       "      <td>Asian</td>\n",
       "      <td>Police and Criminal Evidence Act 1984 (section 1)</td>\n",
       "      <td>Offensive weapons</td>\n",
       "      <td>A no further action disposal</td>\n",
       "      <td>False</td>\n",
       "      <td>False</td>\n",
       "      <td>hampshire</td>\n",
       "    </tr>\n",
       "  </tbody>\n",
       "</table>\n",
       "</div>"
      ],
      "text/plain": [
       "                         observation_id           Type  \\\n",
       "0  2e4d0094-c30b-471b-a211-72a9790feca2  Person search   \n",
       "1  4779fbe8-6e05-4534-85fd-db32952ee309  Person search   \n",
       "2  cb5c685d-acac-42e2-914d-75e6ff73b0a8  Person search   \n",
       "3  f486e116-5b1e-45db-9931-a7f070c5c478  Person search   \n",
       "4  78f4020e-12cc-4889-bf1a-2f2c29b2f662  Person search   \n",
       "\n",
       "                       Date Part of a policing operation   Latitude  \\\n",
       "0 2020-12-01 01:10:00+00:00                          NaN  50.798824   \n",
       "1 2020-12-01 02:00:00+00:00                          NaN  50.785099   \n",
       "2 2020-12-01 09:15:00+00:00                          NaN  50.952006   \n",
       "3 2020-12-01 10:20:00+00:00                          NaN  50.806383   \n",
       "4 2020-12-01 10:24:00+00:00                          NaN  50.806670   \n",
       "\n",
       "   Longitude Gender Age range  \\\n",
       "0  -1.089471   Male     25-34   \n",
       "1  -1.091540   Male   over 34   \n",
       "2  -1.403341   Male   over 34   \n",
       "3  -1.079844   Male     10-17   \n",
       "4  -1.081982   Male     10-17   \n",
       "\n",
       "                              Self-defined ethnicity  \\\n",
       "0                    Other ethnic group - Not stated   \n",
       "1                 White - Any other White background   \n",
       "2  White - English/Welsh/Scottish/Northern Irish/...   \n",
       "3                    Other ethnic group - Not stated   \n",
       "4                    Other ethnic group - Not stated   \n",
       "\n",
       "  Officer-defined ethnicity  \\\n",
       "0                     White   \n",
       "1                     Other   \n",
       "2                     White   \n",
       "3                     White   \n",
       "4                     Asian   \n",
       "\n",
       "                                         Legislation  \\\n",
       "0  Police and Criminal Evidence Act 1984 (section 1)   \n",
       "1              Misuse of Drugs Act 1971 (section 23)   \n",
       "2              Misuse of Drugs Act 1971 (section 23)   \n",
       "3  Police and Criminal Evidence Act 1984 (section 1)   \n",
       "4  Police and Criminal Evidence Act 1984 (section 1)   \n",
       "\n",
       "           Object of search                       Outcome  \\\n",
       "0  Article for use in theft          Community resolution   \n",
       "1          Controlled drugs  A no further action disposal   \n",
       "2          Controlled drugs  A no further action disposal   \n",
       "3              Stolen goods  A no further action disposal   \n",
       "4         Offensive weapons  A no further action disposal   \n",
       "\n",
       "  Outcome linked to object of search Removal of more than just outer clothing  \\\n",
       "0                              False                                    False   \n",
       "1                              False                                    False   \n",
       "2                              False                                     True   \n",
       "3                              False                                    False   \n",
       "4                              False                                    False   \n",
       "\n",
       "     station  \n",
       "0  hampshire  \n",
       "1  hampshire  \n",
       "2  hampshire  \n",
       "3  hampshire  \n",
       "4  hampshire  "
      ]
     },
     "execution_count": 2,
     "metadata": {},
     "output_type": "execute_result"
    }
   ],
   "source": [
    "# open data and set 'Date' column to datetime format\n",
    "train = pd.read_csv('data/train.csv',parse_dates=['Date'])\n",
    "train.head()"
   ]
  },
  {
   "cell_type": "code",
   "execution_count": 3,
   "id": "b8fd0265",
   "metadata": {},
   "outputs": [
    {
     "name": "stdout",
     "output_type": "stream",
     "text": [
      "<class 'pandas.core.frame.DataFrame'>\n",
      "RangeIndex: 856610 entries, 0 to 856609\n",
      "Data columns (total 16 columns):\n",
      " #   Column                                    Non-Null Count   Dtype              \n",
      "---  ------                                    --------------   -----              \n",
      " 0   observation_id                            856610 non-null  object             \n",
      " 1   Type                                      856610 non-null  object             \n",
      " 2   Date                                      856610 non-null  datetime64[ns, UTC]\n",
      " 3   Part of a policing operation              646620 non-null  object             \n",
      " 4   Latitude                                  700308 non-null  float64            \n",
      " 5   Longitude                                 700308 non-null  float64            \n",
      " 6   Gender                                    856610 non-null  object             \n",
      " 7   Age range                                 856610 non-null  object             \n",
      " 8   Self-defined ethnicity                    841427 non-null  object             \n",
      " 9   Officer-defined ethnicity                 856610 non-null  object             \n",
      " 10  Legislation                               816863 non-null  object             \n",
      " 11  Object of search                          856610 non-null  object             \n",
      " 12  Outcome                                   856610 non-null  object             \n",
      " 13  Outcome linked to object of search        254683 non-null  object             \n",
      " 14  Removal of more than just outer clothing  340097 non-null  object             \n",
      " 15  station                                   856610 non-null  object             \n",
      "dtypes: datetime64[ns, UTC](1), float64(2), object(13)\n",
      "memory usage: 104.6+ MB\n"
     ]
    }
   ],
   "source": [
    "train.info()"
   ]
  },
  {
   "cell_type": "markdown",
   "id": "4285eb26",
   "metadata": {},
   "source": [
    "### FEATURE ENGINEERING"
   ]
  },
  {
   "cell_type": "markdown",
   "id": "f1cbf648",
   "metadata": {},
   "source": [
    "#### Part of a policing operation"
   ]
  },
  {
   "cell_type": "code",
   "execution_count": 4,
   "id": "c342d5be",
   "metadata": {},
   "outputs": [
    {
     "data": {
      "text/plain": [
       "False    628148\n",
       "NaN      209990\n",
       "True      18472\n",
       "Name: Part of a policing operation, dtype: int64"
      ]
     },
     "execution_count": 4,
     "metadata": {},
     "output_type": "execute_result"
    }
   ],
   "source": [
    "# check whether the search opperation was part of a policing operation or not \n",
    "train['Part of a policing operation'].value_counts(dropna=False)"
   ]
  },
  {
   "cell_type": "markdown",
   "id": "654b1600",
   "metadata": {},
   "source": [
    "There's a lot of missing values here. There are 2 options here: either I replace the NaNs with \"Unknown\" or similar to what was done for the \"Removal of clothing\" feature I assume the officers forgot to fill this field and replace NaNs with False"
   ]
  },
  {
   "cell_type": "code",
   "execution_count": 5,
   "id": "6ea88bbe",
   "metadata": {},
   "outputs": [],
   "source": [
    "#train['Part of a policing operation'] = train['Part of a policing operation'].fillna('Unknown')\n",
    "#train['Part of a policing operation'] = train['Part of a policing operation'].fillna(False)\n",
    "#train['Part of a policing operation'].value_counts(dropna=False)"
   ]
  },
  {
   "cell_type": "markdown",
   "id": "3e2453ee",
   "metadata": {},
   "source": [
    "#### Date"
   ]
  },
  {
   "cell_type": "code",
   "execution_count": 6,
   "id": "2d1a54e0",
   "metadata": {},
   "outputs": [],
   "source": [
    "# get the hour and day of the week, maybe they will be useful \n",
    "train['hour'] = train['Date'].dt.hour\n",
    "train['month'] = train['Date'].dt.month\n",
    "train['day_of_week'] = train['Date'].dt.day_name()"
   ]
  },
  {
   "cell_type": "markdown",
   "id": "4b6506ea",
   "metadata": {},
   "source": [
    "#### Gender"
   ]
  },
  {
   "cell_type": "code",
   "execution_count": 7,
   "id": "5214a9a6",
   "metadata": {},
   "outputs": [
    {
     "data": {
      "text/plain": [
       "Male      90.422246\n",
       "Female     9.472105\n",
       "Other      0.105649\n",
       "Name: Gender, dtype: float64"
      ]
     },
     "execution_count": 7,
     "metadata": {},
     "output_type": "execute_result"
    }
   ],
   "source": [
    "# check the gender of the target of the search opperation\n",
    "train['Gender'].value_counts(dropna=False,normalize=True)*100"
   ]
  },
  {
   "cell_type": "markdown",
   "id": "fc7cfbf3",
   "metadata": {},
   "source": [
    "There's no missing values, but the \"Other\" category has very few instances so I might try to drop it and see if it improves the model"
   ]
  },
  {
   "cell_type": "code",
   "execution_count": 8,
   "id": "87b2355e",
   "metadata": {},
   "outputs": [],
   "source": [
    "#train = train[~train['Gender'].isin(['Other'])]\n",
    "#train['Gender'].value_counts(dropna=False)"
   ]
  },
  {
   "cell_type": "markdown",
   "id": "45a70442",
   "metadata": {},
   "source": [
    "#### Age"
   ]
  },
  {
   "cell_type": "code",
   "execution_count": 9,
   "id": "4bf99027",
   "metadata": {},
   "outputs": [
    {
     "data": {
      "text/plain": [
       "18-24       307185\n",
       "25-34       215998\n",
       "over 34     184905\n",
       "10-17       148083\n",
       "under 10       439\n",
       "Name: Age range, dtype: int64"
      ]
     },
     "execution_count": 9,
     "metadata": {},
     "output_type": "execute_result"
    }
   ],
   "source": [
    "# check the age of the target of the search opperation\n",
    "train['Age range'].value_counts(dropna=False)"
   ]
  },
  {
   "cell_type": "markdown",
   "id": "d9b8ee77",
   "metadata": {},
   "source": [
    "There's no missing values, but the \"under 10\" category has very few instances so I might try to drop it and see if it improves the model."
   ]
  },
  {
   "cell_type": "code",
   "execution_count": 10,
   "id": "9d4d0bca",
   "metadata": {},
   "outputs": [],
   "source": [
    "#train = train[~train['Age range'].isin(['under 10'])]\n",
    "#train['Age range'].value_counts(dropna=False)"
   ]
  },
  {
   "cell_type": "markdown",
   "id": "7dad13e4",
   "metadata": {},
   "source": [
    "#### Officer-defined ethinicity"
   ]
  },
  {
   "cell_type": "code",
   "execution_count": 11,
   "id": "db1931d9",
   "metadata": {},
   "outputs": [
    {
     "data": {
      "text/plain": [
       "White    507627\n",
       "Black    197137\n",
       "Asian    119785\n",
       "Other     29035\n",
       "Mixed      3026\n",
       "Name: Officer-defined ethnicity, dtype: int64"
      ]
     },
     "execution_count": 11,
     "metadata": {},
     "output_type": "execute_result"
    }
   ],
   "source": [
    "train['Officer-defined ethnicity'].value_counts(dropna=False)"
   ]
  },
  {
   "cell_type": "markdown",
   "id": "d769290e",
   "metadata": {},
   "source": [
    "Once again there's very few cases of searches in \"Mixed\" ethnicities so I might want to drop those."
   ]
  },
  {
   "cell_type": "code",
   "execution_count": 12,
   "id": "d23b774b",
   "metadata": {},
   "outputs": [],
   "source": [
    "#train = train[~train['Officer-defined ethnicity'].isin(['Mixed','Other'])]\n",
    "#train['Officer-defined ethnicity'].value_counts(dropna=False)"
   ]
  },
  {
   "cell_type": "markdown",
   "id": "70820285",
   "metadata": {},
   "source": [
    "#### Legislation"
   ]
  },
  {
   "cell_type": "code",
   "execution_count": 13,
   "id": "b0168ecd",
   "metadata": {},
   "outputs": [],
   "source": [
    "#legislation_counts = train['Legislation'].value_counts(dropna=False)\n",
    "#legislation_counts"
   ]
  },
  {
   "cell_type": "code",
   "execution_count": 14,
   "id": "1cb1cb8a",
   "metadata": {},
   "outputs": [],
   "source": [
    "# fill missing values with Unknonw\n",
    "#train['Legislation'] = train['Legislation'].fillna('Unknown')"
   ]
  },
  {
   "cell_type": "markdown",
   "id": "9a9c07f3",
   "metadata": {},
   "source": [
    "Maybe I'll want to remove the cases where the legislation were very rare."
   ]
  },
  {
   "cell_type": "code",
   "execution_count": 15,
   "id": "74c59b20",
   "metadata": {},
   "outputs": [],
   "source": [
    "# Get list of legislations that appear less than 100 of times in dataset. Mayve I can try to remove these cases\n",
    "#rare_legistlations = legislation_counts[legislation_counts < 100].index.to_list()\n",
    "#rare_legistlations"
   ]
  },
  {
   "cell_type": "code",
   "execution_count": 16,
   "id": "c0c0c56d",
   "metadata": {},
   "outputs": [],
   "source": [
    "#train = train[~train['Legislation'].isin(rare_legistlations)]\n",
    "#train['Legislation'].value_counts(dropna=False)"
   ]
  },
  {
   "cell_type": "markdown",
   "id": "90388cf4",
   "metadata": {},
   "source": [
    "#### Object of search"
   ]
  },
  {
   "cell_type": "code",
   "execution_count": 17,
   "id": "1847fcc2",
   "metadata": {},
   "outputs": [
    {
     "data": {
      "text/plain": [
       "Controlled drugs                                  558100\n",
       "Offensive weapons                                 112652\n",
       "Stolen goods                                       75698\n",
       "Article for use in theft                           38706\n",
       "Evidence of offences under the Act                 23080\n",
       "Articles for use in criminal damage                16696\n",
       "Anything to threaten or harm anyone                15535\n",
       "Firearms                                            5420\n",
       "Fireworks                                           5072\n",
       "Psychoactive substances                             4805\n",
       "Game or poaching equipment                           321\n",
       "Detailed object of search unavailable                309\n",
       "Goods on which duty has not been paid etc.            97\n",
       "Crossbows                                             54\n",
       "Evidence of wildlife offences                         46\n",
       "Evidence of hunting any wild mammal with a dog        12\n",
       "Seals or hunting equipment                             7\n",
       "Name: Object of search, dtype: int64"
      ]
     },
     "execution_count": 17,
     "metadata": {},
     "output_type": "execute_result"
    }
   ],
   "source": [
    "train['Object of search'].value_counts(dropna=False)"
   ]
  },
  {
   "cell_type": "markdown",
   "id": "a04a512f",
   "metadata": {},
   "source": [
    "Again some rare cases there. I might want to remove these 4/5 instances."
   ]
  },
  {
   "cell_type": "code",
   "execution_count": 18,
   "id": "287f7e00",
   "metadata": {},
   "outputs": [],
   "source": [
    "#object_search_counts = train['Object of search'].value_counts(dropna=False)\n",
    "#rare_objects = object_search_counts[object_search_counts < 5000].index.to_list()\n",
    "#rare_objects"
   ]
  },
  {
   "cell_type": "code",
   "execution_count": 19,
   "id": "af36f0d6",
   "metadata": {},
   "outputs": [],
   "source": [
    "#train = train[~train['Object of search'].isin(rare_objects)]\n",
    "#train['Object of search'].value_counts(dropna=False)"
   ]
  },
  {
   "cell_type": "markdown",
   "id": "5e8c7b26",
   "metadata": {},
   "source": [
    "#### Police station"
   ]
  },
  {
   "cell_type": "code",
   "execution_count": 20,
   "id": "ded518ac",
   "metadata": {
    "scrolled": true
   },
   "outputs": [
    {
     "data": {
      "text/plain": [
       "merseyside            38563\n",
       "thames-valley         31437\n",
       "west-yorkshire        25321\n",
       "hampshire             20230\n",
       "btp                   18557\n",
       "kent                  17875\n",
       "hertfordshire         13971\n",
       "avon-and-somerset     13189\n",
       "essex                 12889\n",
       "sussex                11378\n",
       "devon-and-cornwall    10906\n",
       "surrey                10774\n",
       "west-mercia            9262\n",
       "staffordshire          9039\n",
       "norfolk                8766\n",
       "cheshire               8271\n",
       "northumbria            8034\n",
       "cleveland              7907\n",
       "nottinghamshire        7523\n",
       "north-wales            7044\n",
       "suffolk                6482\n",
       "bedfordshire           5904\n",
       "city-of-london         4539\n",
       "northamptonshire       4427\n",
       "warwickshire           3923\n",
       "durham                 3585\n",
       "north-yorkshire        3563\n",
       "gloucestershire        3542\n",
       "derbyshire             3419\n",
       "cambridgeshire         3367\n",
       "cumbria                3022\n",
       "wiltshire              2867\n",
       "dorset                 2857\n",
       "Name: station, dtype: int64"
      ]
     },
     "execution_count": 20,
     "metadata": {},
     "output_type": "execute_result"
    }
   ],
   "source": [
    "# There are some police stations that have a 0% success rate. Perhaps those should also be excluded from the analsysis\n",
    "no_data_stations = ['humberside','lancashire','metropolitan']\n",
    "almost_no_data_stations = ['humberside','lancashire','metropolitan','leicestershire',\n",
    "                           'west-midlands','south-yorkshire','dyfed-powys','lincolnshire']\n",
    "\n",
    "train = train[~train['station'].isin(almost_no_data_stations)]\n",
    "train['station'].value_counts(dropna=False)"
   ]
  },
  {
   "cell_type": "markdown",
   "id": "a4e69503",
   "metadata": {},
   "source": [
    "#### Create Target Feature"
   ]
  },
  {
   "cell_type": "code",
   "execution_count": 21,
   "id": "6dc20c1d",
   "metadata": {},
   "outputs": [],
   "source": [
    "train['Target'] = (train['Outcome linked to object of search'] == True) & (train['Outcome'] != 'A no further action disposal')"
   ]
  },
  {
   "cell_type": "code",
   "execution_count": 22,
   "id": "70bff027",
   "metadata": {},
   "outputs": [
    {
     "data": {
      "text/plain": [
       "False    80.219196\n",
       "True     19.780804\n",
       "Name: Target, dtype: float64"
      ]
     },
     "execution_count": 22,
     "metadata": {},
     "output_type": "execute_result"
    }
   ],
   "source": [
    "train['Target'].value_counts(dropna=False,normalize=True)*100"
   ]
  },
  {
   "cell_type": "markdown",
   "id": "200a9753",
   "metadata": {},
   "source": [
    "### MODEL"
   ]
  },
  {
   "cell_type": "code",
   "execution_count": 23,
   "id": "aa8766c7",
   "metadata": {},
   "outputs": [],
   "source": [
    "# Other models tried\n",
    "#RandomForestClassifier(max_depth=9,random_state=42)\n",
    "#RandomForestClassifier(max_depth=4,class_weight={0:1,1:2},random_state=42))\n",
    "#LGBMClassifier(max_depth=2,random_state=42)\n",
    "#LogisticRegression(random_state=42,class_weight={0:1,1:2},max_iter=3,solver='newton-cholesky'))\n",
    "#LogisticRegression(random_state=42,solver='newton-cholesky')\n",
    "#XGBClassifier(max_depth=10,random_state=42)"
   ]
  },
  {
   "cell_type": "markdown",
   "id": "42f94328",
   "metadata": {},
   "source": [
    "List all columns that should be dropped (either because they're not useful) or because the officer won't have access to them before doing the search"
   ]
  },
  {
   "cell_type": "code",
   "execution_count": 24,
   "id": "b52ffbd6",
   "metadata": {},
   "outputs": [],
   "source": [
    "cols_to_drop = ['observation_id','Date','Longitude','Latitude','Self-defined ethnicity',\n",
    "                'Outcome','Outcome linked to object of search','Removal of more than just outer clothing']\n",
    "\n",
    "train = train.drop(columns=cols_to_drop)"
   ]
  },
  {
   "cell_type": "code",
   "execution_count": 25,
   "id": "b4957d3d",
   "metadata": {},
   "outputs": [
    {
     "data": {
      "text/html": [
       "<div>\n",
       "<style scoped>\n",
       "    .dataframe tbody tr th:only-of-type {\n",
       "        vertical-align: middle;\n",
       "    }\n",
       "\n",
       "    .dataframe tbody tr th {\n",
       "        vertical-align: top;\n",
       "    }\n",
       "\n",
       "    .dataframe thead th {\n",
       "        text-align: right;\n",
       "    }\n",
       "</style>\n",
       "<table border=\"1\" class=\"dataframe\">\n",
       "  <thead>\n",
       "    <tr style=\"text-align: right;\">\n",
       "      <th></th>\n",
       "      <th>Type</th>\n",
       "      <th>Part of a policing operation</th>\n",
       "      <th>Gender</th>\n",
       "      <th>Age range</th>\n",
       "      <th>Officer-defined ethnicity</th>\n",
       "      <th>Legislation</th>\n",
       "      <th>Object of search</th>\n",
       "      <th>station</th>\n",
       "      <th>hour</th>\n",
       "      <th>month</th>\n",
       "      <th>day_of_week</th>\n",
       "      <th>Target</th>\n",
       "    </tr>\n",
       "  </thead>\n",
       "  <tbody>\n",
       "    <tr>\n",
       "      <th>0</th>\n",
       "      <td>Person search</td>\n",
       "      <td>NaN</td>\n",
       "      <td>Male</td>\n",
       "      <td>25-34</td>\n",
       "      <td>White</td>\n",
       "      <td>Police and Criminal Evidence Act 1984 (section 1)</td>\n",
       "      <td>Article for use in theft</td>\n",
       "      <td>hampshire</td>\n",
       "      <td>1</td>\n",
       "      <td>12</td>\n",
       "      <td>Tuesday</td>\n",
       "      <td>False</td>\n",
       "    </tr>\n",
       "    <tr>\n",
       "      <th>1</th>\n",
       "      <td>Person search</td>\n",
       "      <td>NaN</td>\n",
       "      <td>Male</td>\n",
       "      <td>over 34</td>\n",
       "      <td>Other</td>\n",
       "      <td>Misuse of Drugs Act 1971 (section 23)</td>\n",
       "      <td>Controlled drugs</td>\n",
       "      <td>hampshire</td>\n",
       "      <td>2</td>\n",
       "      <td>12</td>\n",
       "      <td>Tuesday</td>\n",
       "      <td>False</td>\n",
       "    </tr>\n",
       "    <tr>\n",
       "      <th>2</th>\n",
       "      <td>Person search</td>\n",
       "      <td>NaN</td>\n",
       "      <td>Male</td>\n",
       "      <td>over 34</td>\n",
       "      <td>White</td>\n",
       "      <td>Misuse of Drugs Act 1971 (section 23)</td>\n",
       "      <td>Controlled drugs</td>\n",
       "      <td>hampshire</td>\n",
       "      <td>9</td>\n",
       "      <td>12</td>\n",
       "      <td>Tuesday</td>\n",
       "      <td>False</td>\n",
       "    </tr>\n",
       "    <tr>\n",
       "      <th>3</th>\n",
       "      <td>Person search</td>\n",
       "      <td>NaN</td>\n",
       "      <td>Male</td>\n",
       "      <td>10-17</td>\n",
       "      <td>White</td>\n",
       "      <td>Police and Criminal Evidence Act 1984 (section 1)</td>\n",
       "      <td>Stolen goods</td>\n",
       "      <td>hampshire</td>\n",
       "      <td>10</td>\n",
       "      <td>12</td>\n",
       "      <td>Tuesday</td>\n",
       "      <td>False</td>\n",
       "    </tr>\n",
       "    <tr>\n",
       "      <th>4</th>\n",
       "      <td>Person search</td>\n",
       "      <td>NaN</td>\n",
       "      <td>Male</td>\n",
       "      <td>10-17</td>\n",
       "      <td>Asian</td>\n",
       "      <td>Police and Criminal Evidence Act 1984 (section 1)</td>\n",
       "      <td>Offensive weapons</td>\n",
       "      <td>hampshire</td>\n",
       "      <td>10</td>\n",
       "      <td>12</td>\n",
       "      <td>Tuesday</td>\n",
       "      <td>False</td>\n",
       "    </tr>\n",
       "    <tr>\n",
       "      <th>5</th>\n",
       "      <td>Person search</td>\n",
       "      <td>NaN</td>\n",
       "      <td>Male</td>\n",
       "      <td>18-24</td>\n",
       "      <td>Black</td>\n",
       "      <td>Police and Criminal Evidence Act 1984 (section 1)</td>\n",
       "      <td>Offensive weapons</td>\n",
       "      <td>hampshire</td>\n",
       "      <td>10</td>\n",
       "      <td>12</td>\n",
       "      <td>Tuesday</td>\n",
       "      <td>False</td>\n",
       "    </tr>\n",
       "    <tr>\n",
       "      <th>6</th>\n",
       "      <td>Person search</td>\n",
       "      <td>NaN</td>\n",
       "      <td>Male</td>\n",
       "      <td>over 34</td>\n",
       "      <td>Black</td>\n",
       "      <td>Misuse of Drugs Act 1971 (section 23)</td>\n",
       "      <td>Controlled drugs</td>\n",
       "      <td>hampshire</td>\n",
       "      <td>10</td>\n",
       "      <td>12</td>\n",
       "      <td>Tuesday</td>\n",
       "      <td>False</td>\n",
       "    </tr>\n",
       "    <tr>\n",
       "      <th>7</th>\n",
       "      <td>Person search</td>\n",
       "      <td>NaN</td>\n",
       "      <td>Male</td>\n",
       "      <td>18-24</td>\n",
       "      <td>White</td>\n",
       "      <td>Misuse of Drugs Act 1971 (section 23)</td>\n",
       "      <td>Controlled drugs</td>\n",
       "      <td>hampshire</td>\n",
       "      <td>11</td>\n",
       "      <td>12</td>\n",
       "      <td>Tuesday</td>\n",
       "      <td>False</td>\n",
       "    </tr>\n",
       "    <tr>\n",
       "      <th>8</th>\n",
       "      <td>Person search</td>\n",
       "      <td>NaN</td>\n",
       "      <td>Male</td>\n",
       "      <td>18-24</td>\n",
       "      <td>Black</td>\n",
       "      <td>Misuse of Drugs Act 1971 (section 23)</td>\n",
       "      <td>Controlled drugs</td>\n",
       "      <td>hampshire</td>\n",
       "      <td>11</td>\n",
       "      <td>12</td>\n",
       "      <td>Tuesday</td>\n",
       "      <td>False</td>\n",
       "    </tr>\n",
       "    <tr>\n",
       "      <th>9</th>\n",
       "      <td>Person search</td>\n",
       "      <td>NaN</td>\n",
       "      <td>Male</td>\n",
       "      <td>10-17</td>\n",
       "      <td>White</td>\n",
       "      <td>Misuse of Drugs Act 1971 (section 23)</td>\n",
       "      <td>Controlled drugs</td>\n",
       "      <td>hampshire</td>\n",
       "      <td>11</td>\n",
       "      <td>12</td>\n",
       "      <td>Tuesday</td>\n",
       "      <td>False</td>\n",
       "    </tr>\n",
       "  </tbody>\n",
       "</table>\n",
       "</div>"
      ],
      "text/plain": [
       "            Type Part of a policing operation Gender Age range  \\\n",
       "0  Person search                          NaN   Male     25-34   \n",
       "1  Person search                          NaN   Male   over 34   \n",
       "2  Person search                          NaN   Male   over 34   \n",
       "3  Person search                          NaN   Male     10-17   \n",
       "4  Person search                          NaN   Male     10-17   \n",
       "5  Person search                          NaN   Male     18-24   \n",
       "6  Person search                          NaN   Male   over 34   \n",
       "7  Person search                          NaN   Male     18-24   \n",
       "8  Person search                          NaN   Male     18-24   \n",
       "9  Person search                          NaN   Male     10-17   \n",
       "\n",
       "  Officer-defined ethnicity  \\\n",
       "0                     White   \n",
       "1                     Other   \n",
       "2                     White   \n",
       "3                     White   \n",
       "4                     Asian   \n",
       "5                     Black   \n",
       "6                     Black   \n",
       "7                     White   \n",
       "8                     Black   \n",
       "9                     White   \n",
       "\n",
       "                                         Legislation  \\\n",
       "0  Police and Criminal Evidence Act 1984 (section 1)   \n",
       "1              Misuse of Drugs Act 1971 (section 23)   \n",
       "2              Misuse of Drugs Act 1971 (section 23)   \n",
       "3  Police and Criminal Evidence Act 1984 (section 1)   \n",
       "4  Police and Criminal Evidence Act 1984 (section 1)   \n",
       "5  Police and Criminal Evidence Act 1984 (section 1)   \n",
       "6              Misuse of Drugs Act 1971 (section 23)   \n",
       "7              Misuse of Drugs Act 1971 (section 23)   \n",
       "8              Misuse of Drugs Act 1971 (section 23)   \n",
       "9              Misuse of Drugs Act 1971 (section 23)   \n",
       "\n",
       "           Object of search    station  hour  month day_of_week  Target  \n",
       "0  Article for use in theft  hampshire     1     12     Tuesday   False  \n",
       "1          Controlled drugs  hampshire     2     12     Tuesday   False  \n",
       "2          Controlled drugs  hampshire     9     12     Tuesday   False  \n",
       "3              Stolen goods  hampshire    10     12     Tuesday   False  \n",
       "4         Offensive weapons  hampshire    10     12     Tuesday   False  \n",
       "5         Offensive weapons  hampshire    10     12     Tuesday   False  \n",
       "6          Controlled drugs  hampshire    10     12     Tuesday   False  \n",
       "7          Controlled drugs  hampshire    11     12     Tuesday   False  \n",
       "8          Controlled drugs  hampshire    11     12     Tuesday   False  \n",
       "9          Controlled drugs  hampshire    11     12     Tuesday   False  "
      ]
     },
     "execution_count": 25,
     "metadata": {},
     "output_type": "execute_result"
    }
   ],
   "source": [
    "train.head(10)"
   ]
  },
  {
   "cell_type": "code",
   "execution_count": 26,
   "id": "ade2ab56",
   "metadata": {},
   "outputs": [],
   "source": [
    "### New round of requests\n",
    "df_new = pd.read_csv('first_round_requests/firstround_requests_clean.csv',parse_dates=['Date'])"
   ]
  },
  {
   "cell_type": "code",
   "execution_count": 27,
   "id": "a8c6ea0d",
   "metadata": {},
   "outputs": [],
   "source": [
    "df_new['hour'] = df_new['Date'].dt.hour\n",
    "df_new['month'] = df_new['Date'].dt.month\n",
    "df_new['day_of_week'] = df_new['Date'].dt.day_name()"
   ]
  },
  {
   "cell_type": "code",
   "execution_count": 28,
   "id": "4ba7d69d",
   "metadata": {},
   "outputs": [],
   "source": [
    "df_new['Target'] = df_new['true_class'].map({1:bool(True),0:bool(False)})"
   ]
  },
  {
   "cell_type": "code",
   "execution_count": 29,
   "id": "6c4436c6",
   "metadata": {},
   "outputs": [
    {
     "data": {
      "text/html": [
       "<div>\n",
       "<style scoped>\n",
       "    .dataframe tbody tr th:only-of-type {\n",
       "        vertical-align: middle;\n",
       "    }\n",
       "\n",
       "    .dataframe tbody tr th {\n",
       "        vertical-align: top;\n",
       "    }\n",
       "\n",
       "    .dataframe thead th {\n",
       "        text-align: right;\n",
       "    }\n",
       "</style>\n",
       "<table border=\"1\" class=\"dataframe\">\n",
       "  <thead>\n",
       "    <tr style=\"text-align: right;\">\n",
       "      <th></th>\n",
       "      <th>Type</th>\n",
       "      <th>Date</th>\n",
       "      <th>Part of a policing operation</th>\n",
       "      <th>Latitude</th>\n",
       "      <th>Longitude</th>\n",
       "      <th>Gender</th>\n",
       "      <th>Age range</th>\n",
       "      <th>Officer-defined ethnicity</th>\n",
       "      <th>Legislation</th>\n",
       "      <th>Object of search</th>\n",
       "      <th>station</th>\n",
       "      <th>proba</th>\n",
       "      <th>pred</th>\n",
       "      <th>true_class</th>\n",
       "      <th>hour</th>\n",
       "      <th>month</th>\n",
       "      <th>day_of_week</th>\n",
       "      <th>Target</th>\n",
       "    </tr>\n",
       "  </thead>\n",
       "  <tbody>\n",
       "    <tr>\n",
       "      <th>0</th>\n",
       "      <td>Person and Vehicle search</td>\n",
       "      <td>2022-01-01 03:08:37+00:00</td>\n",
       "      <td>NaN</td>\n",
       "      <td>52.312706</td>\n",
       "      <td>-0.225271</td>\n",
       "      <td>Male</td>\n",
       "      <td>18-24</td>\n",
       "      <td>White</td>\n",
       "      <td>Misuse of Drugs Act 1971 (section 23)</td>\n",
       "      <td>Controlled drugs</td>\n",
       "      <td>cambridgeshire</td>\n",
       "      <td>0.715158</td>\n",
       "      <td>True</td>\n",
       "      <td>1.0</td>\n",
       "      <td>3</td>\n",
       "      <td>1</td>\n",
       "      <td>Saturday</td>\n",
       "      <td>True</td>\n",
       "    </tr>\n",
       "    <tr>\n",
       "      <th>1</th>\n",
       "      <td>Person search</td>\n",
       "      <td>2022-01-01 04:29:00+00:00</td>\n",
       "      <td>True</td>\n",
       "      <td>50.625847</td>\n",
       "      <td>-3.546839</td>\n",
       "      <td>Female</td>\n",
       "      <td>25-34</td>\n",
       "      <td>White</td>\n",
       "      <td>Misuse of Drugs Act 1971 (section 23)</td>\n",
       "      <td>Controlled drugs</td>\n",
       "      <td>devon-and-cornwall</td>\n",
       "      <td>0.446089</td>\n",
       "      <td>False</td>\n",
       "      <td>0.0</td>\n",
       "      <td>4</td>\n",
       "      <td>1</td>\n",
       "      <td>Saturday</td>\n",
       "      <td>False</td>\n",
       "    </tr>\n",
       "    <tr>\n",
       "      <th>2</th>\n",
       "      <td>Person search</td>\n",
       "      <td>2022-01-01 05:50:23+00:00</td>\n",
       "      <td>NaN</td>\n",
       "      <td>51.518091</td>\n",
       "      <td>-0.078308</td>\n",
       "      <td>Male</td>\n",
       "      <td>18-24</td>\n",
       "      <td>White</td>\n",
       "      <td>Police and Criminal Evidence Act 1984 (section 1)</td>\n",
       "      <td>Offensive weapons</td>\n",
       "      <td>city-of-london</td>\n",
       "      <td>0.127540</td>\n",
       "      <td>False</td>\n",
       "      <td>0.0</td>\n",
       "      <td>5</td>\n",
       "      <td>1</td>\n",
       "      <td>Saturday</td>\n",
       "      <td>False</td>\n",
       "    </tr>\n",
       "    <tr>\n",
       "      <th>3</th>\n",
       "      <td>Person search</td>\n",
       "      <td>2022-01-01 07:34:03+00:00</td>\n",
       "      <td>NaN</td>\n",
       "      <td>51.506255</td>\n",
       "      <td>-0.074901</td>\n",
       "      <td>Male</td>\n",
       "      <td>10-17</td>\n",
       "      <td>Asian</td>\n",
       "      <td>Police and Criminal Evidence Act 1984 (section 1)</td>\n",
       "      <td>Offensive weapons</td>\n",
       "      <td>city-of-london</td>\n",
       "      <td>0.173887</td>\n",
       "      <td>False</td>\n",
       "      <td>0.0</td>\n",
       "      <td>7</td>\n",
       "      <td>1</td>\n",
       "      <td>Saturday</td>\n",
       "      <td>False</td>\n",
       "    </tr>\n",
       "    <tr>\n",
       "      <th>4</th>\n",
       "      <td>Person search</td>\n",
       "      <td>2022-01-01 16:43:00+00:00</td>\n",
       "      <td>False</td>\n",
       "      <td>50.725010</td>\n",
       "      <td>-3.524855</td>\n",
       "      <td>Male</td>\n",
       "      <td>25-34</td>\n",
       "      <td>White</td>\n",
       "      <td>Misuse of Drugs Act 1971 (section 23)</td>\n",
       "      <td>Controlled drugs</td>\n",
       "      <td>devon-and-cornwall</td>\n",
       "      <td>0.462372</td>\n",
       "      <td>False</td>\n",
       "      <td>1.0</td>\n",
       "      <td>16</td>\n",
       "      <td>1</td>\n",
       "      <td>Saturday</td>\n",
       "      <td>True</td>\n",
       "    </tr>\n",
       "  </tbody>\n",
       "</table>\n",
       "</div>"
      ],
      "text/plain": [
       "                        Type                      Date  \\\n",
       "0  Person and Vehicle search 2022-01-01 03:08:37+00:00   \n",
       "1              Person search 2022-01-01 04:29:00+00:00   \n",
       "2              Person search 2022-01-01 05:50:23+00:00   \n",
       "3              Person search 2022-01-01 07:34:03+00:00   \n",
       "4              Person search 2022-01-01 16:43:00+00:00   \n",
       "\n",
       "  Part of a policing operation   Latitude  Longitude  Gender Age range  \\\n",
       "0                          NaN  52.312706  -0.225271    Male     18-24   \n",
       "1                         True  50.625847  -3.546839  Female     25-34   \n",
       "2                          NaN  51.518091  -0.078308    Male     18-24   \n",
       "3                          NaN  51.506255  -0.074901    Male     10-17   \n",
       "4                        False  50.725010  -3.524855    Male     25-34   \n",
       "\n",
       "  Officer-defined ethnicity  \\\n",
       "0                     White   \n",
       "1                     White   \n",
       "2                     White   \n",
       "3                     Asian   \n",
       "4                     White   \n",
       "\n",
       "                                         Legislation   Object of search  \\\n",
       "0              Misuse of Drugs Act 1971 (section 23)   Controlled drugs   \n",
       "1              Misuse of Drugs Act 1971 (section 23)   Controlled drugs   \n",
       "2  Police and Criminal Evidence Act 1984 (section 1)  Offensive weapons   \n",
       "3  Police and Criminal Evidence Act 1984 (section 1)  Offensive weapons   \n",
       "4              Misuse of Drugs Act 1971 (section 23)   Controlled drugs   \n",
       "\n",
       "              station     proba   pred  true_class  hour  month day_of_week  \\\n",
       "0      cambridgeshire  0.715158   True         1.0     3      1    Saturday   \n",
       "1  devon-and-cornwall  0.446089  False         0.0     4      1    Saturday   \n",
       "2      city-of-london  0.127540  False         0.0     5      1    Saturday   \n",
       "3      city-of-london  0.173887  False         0.0     7      1    Saturday   \n",
       "4  devon-and-cornwall  0.462372  False         1.0    16      1    Saturday   \n",
       "\n",
       "  Target  \n",
       "0   True  \n",
       "1  False  \n",
       "2  False  \n",
       "3  False  \n",
       "4   True  "
      ]
     },
     "execution_count": 29,
     "metadata": {},
     "output_type": "execute_result"
    }
   ],
   "source": [
    "df_new.head()"
   ]
  },
  {
   "cell_type": "code",
   "execution_count": 30,
   "id": "8c44cd45",
   "metadata": {},
   "outputs": [],
   "source": [
    "df_new.drop(columns=['Date','proba','pred'],inplace=True)"
   ]
  },
  {
   "cell_type": "code",
   "execution_count": 31,
   "id": "679ddb72",
   "metadata": {},
   "outputs": [],
   "source": [
    "df_new.drop(columns=['Longitude','Latitude','true_class'],inplace=True)"
   ]
  },
  {
   "cell_type": "code",
   "execution_count": 32,
   "id": "17685439",
   "metadata": {},
   "outputs": [
    {
     "data": {
      "text/plain": [
       "Index(['Type', 'Part of a policing operation', 'Gender', 'Age range',\n",
       "       'Officer-defined ethnicity', 'Legislation', 'Object of search',\n",
       "       'station', 'hour', 'month', 'day_of_week', 'Target'],\n",
       "      dtype='object')"
      ]
     },
     "execution_count": 32,
     "metadata": {},
     "output_type": "execute_result"
    }
   ],
   "source": [
    "df_new.columns"
   ]
  },
  {
   "cell_type": "code",
   "execution_count": 33,
   "id": "74f95f35",
   "metadata": {},
   "outputs": [
    {
     "data": {
      "text/plain": [
       "Index(['Type', 'Part of a policing operation', 'Gender', 'Age range',\n",
       "       'Officer-defined ethnicity', 'Legislation', 'Object of search',\n",
       "       'station', 'hour', 'month', 'day_of_week', 'Target'],\n",
       "      dtype='object')"
      ]
     },
     "execution_count": 33,
     "metadata": {},
     "output_type": "execute_result"
    }
   ],
   "source": [
    "train.columns"
   ]
  },
  {
   "cell_type": "code",
   "execution_count": 34,
   "id": "cdf72407",
   "metadata": {},
   "outputs": [],
   "source": [
    "train_new = train.append(df_new, ignore_index=True)"
   ]
  },
  {
   "cell_type": "code",
   "execution_count": 35,
   "id": "ae290b20",
   "metadata": {},
   "outputs": [
    {
     "data": {
      "text/html": [
       "<div>\n",
       "<style scoped>\n",
       "    .dataframe tbody tr th:only-of-type {\n",
       "        vertical-align: middle;\n",
       "    }\n",
       "\n",
       "    .dataframe tbody tr th {\n",
       "        vertical-align: top;\n",
       "    }\n",
       "\n",
       "    .dataframe thead th {\n",
       "        text-align: right;\n",
       "    }\n",
       "</style>\n",
       "<table border=\"1\" class=\"dataframe\">\n",
       "  <thead>\n",
       "    <tr style=\"text-align: right;\">\n",
       "      <th></th>\n",
       "      <th>Type</th>\n",
       "      <th>Part of a policing operation</th>\n",
       "      <th>Gender</th>\n",
       "      <th>Age range</th>\n",
       "      <th>Officer-defined ethnicity</th>\n",
       "      <th>Legislation</th>\n",
       "      <th>Object of search</th>\n",
       "      <th>station</th>\n",
       "      <th>hour</th>\n",
       "      <th>month</th>\n",
       "      <th>day_of_week</th>\n",
       "      <th>Target</th>\n",
       "    </tr>\n",
       "  </thead>\n",
       "  <tbody>\n",
       "    <tr>\n",
       "      <th>0</th>\n",
       "      <td>Person search</td>\n",
       "      <td>NaN</td>\n",
       "      <td>Male</td>\n",
       "      <td>25-34</td>\n",
       "      <td>White</td>\n",
       "      <td>Police and Criminal Evidence Act 1984 (section 1)</td>\n",
       "      <td>Article for use in theft</td>\n",
       "      <td>hampshire</td>\n",
       "      <td>1</td>\n",
       "      <td>12</td>\n",
       "      <td>Tuesday</td>\n",
       "      <td>False</td>\n",
       "    </tr>\n",
       "    <tr>\n",
       "      <th>1</th>\n",
       "      <td>Person search</td>\n",
       "      <td>NaN</td>\n",
       "      <td>Male</td>\n",
       "      <td>over 34</td>\n",
       "      <td>Other</td>\n",
       "      <td>Misuse of Drugs Act 1971 (section 23)</td>\n",
       "      <td>Controlled drugs</td>\n",
       "      <td>hampshire</td>\n",
       "      <td>2</td>\n",
       "      <td>12</td>\n",
       "      <td>Tuesday</td>\n",
       "      <td>False</td>\n",
       "    </tr>\n",
       "    <tr>\n",
       "      <th>2</th>\n",
       "      <td>Person search</td>\n",
       "      <td>NaN</td>\n",
       "      <td>Male</td>\n",
       "      <td>over 34</td>\n",
       "      <td>White</td>\n",
       "      <td>Misuse of Drugs Act 1971 (section 23)</td>\n",
       "      <td>Controlled drugs</td>\n",
       "      <td>hampshire</td>\n",
       "      <td>9</td>\n",
       "      <td>12</td>\n",
       "      <td>Tuesday</td>\n",
       "      <td>False</td>\n",
       "    </tr>\n",
       "    <tr>\n",
       "      <th>3</th>\n",
       "      <td>Person search</td>\n",
       "      <td>NaN</td>\n",
       "      <td>Male</td>\n",
       "      <td>10-17</td>\n",
       "      <td>White</td>\n",
       "      <td>Police and Criminal Evidence Act 1984 (section 1)</td>\n",
       "      <td>Stolen goods</td>\n",
       "      <td>hampshire</td>\n",
       "      <td>10</td>\n",
       "      <td>12</td>\n",
       "      <td>Tuesday</td>\n",
       "      <td>False</td>\n",
       "    </tr>\n",
       "    <tr>\n",
       "      <th>4</th>\n",
       "      <td>Person search</td>\n",
       "      <td>NaN</td>\n",
       "      <td>Male</td>\n",
       "      <td>10-17</td>\n",
       "      <td>Asian</td>\n",
       "      <td>Police and Criminal Evidence Act 1984 (section 1)</td>\n",
       "      <td>Offensive weapons</td>\n",
       "      <td>hampshire</td>\n",
       "      <td>10</td>\n",
       "      <td>12</td>\n",
       "      <td>Tuesday</td>\n",
       "      <td>False</td>\n",
       "    </tr>\n",
       "  </tbody>\n",
       "</table>\n",
       "</div>"
      ],
      "text/plain": [
       "            Type Part of a policing operation Gender Age range  \\\n",
       "0  Person search                          NaN   Male     25-34   \n",
       "1  Person search                          NaN   Male   over 34   \n",
       "2  Person search                          NaN   Male   over 34   \n",
       "3  Person search                          NaN   Male     10-17   \n",
       "4  Person search                          NaN   Male     10-17   \n",
       "\n",
       "  Officer-defined ethnicity  \\\n",
       "0                     White   \n",
       "1                     Other   \n",
       "2                     White   \n",
       "3                     White   \n",
       "4                     Asian   \n",
       "\n",
       "                                         Legislation  \\\n",
       "0  Police and Criminal Evidence Act 1984 (section 1)   \n",
       "1              Misuse of Drugs Act 1971 (section 23)   \n",
       "2              Misuse of Drugs Act 1971 (section 23)   \n",
       "3  Police and Criminal Evidence Act 1984 (section 1)   \n",
       "4  Police and Criminal Evidence Act 1984 (section 1)   \n",
       "\n",
       "           Object of search    station  hour  month day_of_week Target  \n",
       "0  Article for use in theft  hampshire     1     12     Tuesday  False  \n",
       "1          Controlled drugs  hampshire     2     12     Tuesday  False  \n",
       "2          Controlled drugs  hampshire     9     12     Tuesday  False  \n",
       "3              Stolen goods  hampshire    10     12     Tuesday  False  \n",
       "4         Offensive weapons  hampshire    10     12     Tuesday  False  "
      ]
     },
     "execution_count": 35,
     "metadata": {},
     "output_type": "execute_result"
    }
   ],
   "source": [
    "train_new.head()"
   ]
  },
  {
   "cell_type": "code",
   "execution_count": 36,
   "id": "4faf269b",
   "metadata": {},
   "outputs": [
    {
     "data": {
      "text/plain": [
       "False    80.195016\n",
       "True     19.804695\n",
       "NaN       0.000289\n",
       "Name: Target, dtype: float64"
      ]
     },
     "execution_count": 36,
     "metadata": {},
     "output_type": "execute_result"
    }
   ],
   "source": [
    "train_new['Target'].value_counts(dropna=False,normalize=True)*100"
   ]
  },
  {
   "cell_type": "code",
   "execution_count": 37,
   "id": "f2a012ce",
   "metadata": {},
   "outputs": [],
   "source": [
    "train_new = train_new[train_new['Target'].notna()]"
   ]
  },
  {
   "cell_type": "code",
   "execution_count": 38,
   "id": "440764fd",
   "metadata": {},
   "outputs": [
    {
     "data": {
      "text/plain": [
       "False    80.195248\n",
       "True     19.804752\n",
       "Name: Target, dtype: float64"
      ]
     },
     "execution_count": 38,
     "metadata": {},
     "output_type": "execute_result"
    }
   ],
   "source": [
    "train_new['Target'].value_counts(dropna=False,normalize=True)*100"
   ]
  },
  {
   "cell_type": "code",
   "execution_count": 39,
   "id": "b0eb66c8",
   "metadata": {},
   "outputs": [],
   "source": [
    "train_new['Target'] = train_new['Target'].astype(bool)"
   ]
  },
  {
   "cell_type": "code",
   "execution_count": 40,
   "id": "93692ac9",
   "metadata": {},
   "outputs": [
    {
     "data": {
      "text/plain": [
       "False    80.195248\n",
       "True     19.804752\n",
       "Name: Target, dtype: float64"
      ]
     },
     "execution_count": 40,
     "metadata": {},
     "output_type": "execute_result"
    }
   ],
   "source": [
    "train_new['Target'].value_counts(dropna=False,normalize=True)*100"
   ]
  },
  {
   "cell_type": "code",
   "execution_count": 41,
   "id": "2bb4b23b",
   "metadata": {},
   "outputs": [
    {
     "name": "stdout",
     "output_type": "stream",
     "text": [
      "<class 'pandas.core.frame.DataFrame'>\n",
      "Int64Index: 346432 entries, 0 to 346432\n",
      "Data columns (total 12 columns):\n",
      " #   Column                        Non-Null Count   Dtype \n",
      "---  ------                        --------------   ----- \n",
      " 0   Type                          346432 non-null  object\n",
      " 1   Part of a policing operation  188143 non-null  object\n",
      " 2   Gender                        346432 non-null  object\n",
      " 3   Age range                     346432 non-null  object\n",
      " 4   Officer-defined ethnicity     346432 non-null  object\n",
      " 5   Legislation                   306802 non-null  object\n",
      " 6   Object of search              346432 non-null  object\n",
      " 7   station                       346432 non-null  object\n",
      " 8   hour                          346432 non-null  int64 \n",
      " 9   month                         346432 non-null  int64 \n",
      " 10  day_of_week                   346432 non-null  object\n",
      " 11  Target                        346432 non-null  bool  \n",
      "dtypes: bool(1), int64(2), object(9)\n",
      "memory usage: 32.0+ MB\n"
     ]
    }
   ],
   "source": [
    "train_new.info()"
   ]
  },
  {
   "cell_type": "markdown",
   "id": "049e30b4",
   "metadata": {},
   "source": [
    "#### Baseline Model"
   ]
  },
  {
   "cell_type": "code",
   "execution_count": 42,
   "id": "96f6ce5f",
   "metadata": {},
   "outputs": [
    {
     "name": "stdout",
     "output_type": "stream",
     "text": [
      "Accuracy: 0.599493683035982\n",
      "F1 Score: 0.6997436474027434\n",
      "Precision: 0.5596569858204499\n",
      "Recall: 0.933374926512052\n"
     ]
    }
   ],
   "source": [
    "# Load the data\n",
    "data = train_new\n",
    "\n",
    "# Split the data into features and target\n",
    "X = data.drop(columns=['Target'])\n",
    "y = data['Target']\n",
    "\n",
    "# Oversample minority class\n",
    "oversamp = RandomOverSampler(sampling_strategy='minority',random_state=42) # Using RandomOverSampler\n",
    "X, y = oversamp.fit_resample(X, y)\n",
    "\n",
    "# Split the data into training and testing sets\n",
    "X_train, X_test, y_train, y_test = train_test_split(X, y, stratify=y,test_size=0.3, random_state=42)\n",
    "#X_train,y_train = oversamp.fit_resample(X_train,y_train)\n",
    "\n",
    "# Define the categorical features and the categorical transformer\n",
    "categorical_features = list(X.columns[X.dtypes=='object'])\n",
    "categorical_transformer = Pipeline(steps=[('onehot', OneHotEncoder(handle_unknown='ignore'))])\n",
    "\n",
    "# Define the preprocessor\n",
    "preprocessor = ColumnTransformer(transformers=[('cat', categorical_transformer, categorical_features)])\n",
    "\n",
    "# Set up the pipeline with the preprocessor and the model\n",
    "model = Pipeline(steps=[('preprocessor', preprocessor),\n",
    "                        ('classifier',XGBClassifier(max_depth=10,random_state=42))])\n",
    "\n",
    "# Fit the model on the training data\n",
    "model.fit(X_train, y_train)\n",
    "\n",
    "# Make predictions on the testing data\n",
    "probs = model.predict_proba(X_test)\n",
    "\n",
    "# set the threshold probability to more than 0.1 (10%)\n",
    "preds = (probs[:, 1] > 0.35).astype(int) \n",
    "\n",
    "# Evaluate the model\n",
    "accuracy = accuracy_score(y_test, preds)\n",
    "f1 = f1_score(y_test, preds)\n",
    "precision = precision_score(y_test, preds)\n",
    "recall = recall_score(y_test, preds)\n",
    "\n",
    "# Print the evaluation metrics\n",
    "print('Accuracy:', accuracy)\n",
    "print('F1 Score:', f1)\n",
    "print('Precision:', precision)\n",
    "print('Recall:', recall)"
   ]
  },
  {
   "cell_type": "code",
   "execution_count": 43,
   "id": "845c07a5",
   "metadata": {},
   "outputs": [
    {
     "data": {
      "text/plain": [
       "1    139003\n",
       "0     27691\n",
       "dtype: int64"
      ]
     },
     "execution_count": 43,
     "metadata": {},
     "output_type": "execute_result"
    }
   ],
   "source": [
    "pd.Series(preds).value_counts()"
   ]
  },
  {
   "cell_type": "code",
   "execution_count": 44,
   "id": "5d871867",
   "metadata": {},
   "outputs": [
    {
     "name": "stdout",
     "output_type": "stream",
     "text": [
      "AUC-ROC: 0.599493683035982\n"
     ]
    },
    {
     "data": {
      "image/png": "[encoded data removed]",
      "text/plain": [
       "<Figure size 640x480 with 1 Axes>"
      ]
     },
     "metadata": {},
     "output_type": "display_data"
    }
   ],
   "source": [
    "# Calculate the AUC-ROC score\n",
    "auc_roc = roc_auc_score(y_test, preds)\n",
    "print('AUC-ROC:', auc_roc)\n",
    "\n",
    "# Calculate the false positive rate, true positive rate, and thresholds\n",
    "fpr, tpr, thresholds = roc_curve(y_test, preds)\n",
    "\n",
    "# Plot the ROC curve\n",
    "plt.plot(fpr, tpr, color='darkorange', label='ROC curve (AUC = %0.2f)' % auc_roc)\n",
    "plt.plot([0, 1], [0, 1], color='navy', linestyle='--')\n",
    "plt.xlim([0.0, 1.0])\n",
    "plt.ylim([0.0, 1.05])\n",
    "plt.xlabel('False Positive Rate')\n",
    "plt.ylabel('True Positive Rate')\n",
    "plt.title('Receiver operating characteristic')\n",
    "plt.legend(loc=\"lower right\")\n",
    "plt.show()"
   ]
  },
  {
   "cell_type": "code",
   "execution_count": 45,
   "id": "ac8ae44e",
   "metadata": {},
   "outputs": [
    {
     "name": "stdout",
     "output_type": "stream",
     "text": [
      "Confusion Matrix:\n",
      "[[0.13280622 0.36719378]\n",
      " [0.03331254 0.46668746]]\n"
     ]
    },
    {
     "data": {
      "image/png": "[encoded data removed]",
      "text/plain": [
       "<Figure size 640x480 with 2 Axes>"
      ]
     },
     "metadata": {},
     "output_type": "display_data"
    }
   ],
   "source": [
    "# Calculate the confusion matrix\n",
    "cm = confusion_matrix(y_test, preds,normalize='all')\n",
    "\n",
    "# Plot confusion matrix\n",
    "cmd = ConfusionMatrixDisplay(cm)\n",
    "cmd.plot()\n",
    "\n",
    "# Print confusion matrix\n",
    "print('Confusion Matrix:')\n",
    "print(cm)"
   ]
  },
  {
   "cell_type": "code",
   "execution_count": 46,
   "id": "3a2b8216",
   "metadata": {},
   "outputs": [
    {
     "name": "stdout",
     "output_type": "stream",
     "text": [
      "Feature ranking:\n",
      "1. feature Object of search_Controlled drugs (0.144665)\n",
      "2. feature station_merseyside (0.060642)\n",
      "3. feature station_hampshire (0.038150)\n",
      "4. feature Legislation_Criminal Justice and Public Order Act 1994 (section 60) (0.037885)\n",
      "5. feature station_norfolk (0.032965)\n",
      "6. feature station_durham (0.027982)\n",
      "7. feature station_kent (0.024016)\n",
      "8. feature Object of search_Stolen goods (0.023706)\n",
      "9. feature station_thames-valley (0.023378)\n",
      "10. feature Gender_Male (0.019617)\n",
      "11. feature station_west-yorkshire (0.019139)\n"
     ]
    },
    {
     "data": {
      "image/png": "[encoded data removed]",
      "text/plain": [
       "<Figure size 500x300 with 1 Axes>"
      ]
     },
     "metadata": {},
     "output_type": "display_data"
    }
   ],
   "source": [
    "# Get the feature importances (FOR XGBOOST CLASSIFIER)\n",
    "onehot_columns = model.named_steps['preprocessor'].named_transformers_['cat'].named_steps['onehot']\\\n",
    "                    .get_feature_names_out(input_features=categorical_features)\n",
    "importances = pd.Series(data=model.named_steps['classifier'].feature_importances_, index = np.array(list(onehot_columns)))\n",
    "\n",
    "indices = np.argsort(importances)[::-1]\n",
    "print(\"Feature ranking:\")\n",
    "\n",
    "for f in range(X_train.shape[1]):\n",
    "    print(\"%d. feature %s (%f)\" % (f + 1, importances.index[indices[f]], importances[indices[f]]))\n",
    "\n",
    "# Plot the feature importances\n",
    "plt.figure(figsize=(5,3))\n",
    "plt.title(\"Feature importances\")\n",
    "plt.bar(x=importances.index[indices], height=importances[indices],\n",
    "        color=\"r\", align=\"center\");\n",
    "plt.xticks(range(len(importances.index[indices])), importances.index[indices], rotation=45, ha=\"right\")\n",
    "plt.xlim([-1, X_train.shape[1]+4.5])\n",
    "plt.xlabel('Features');\n",
    "plt.ylabel('Importance');\n",
    "sns.despine()\n",
    "plt.tight_layout()\n",
    "plt.show()"
   ]
  },
  {
   "cell_type": "code",
   "execution_count": 47,
   "id": "fe0dd4c4",
   "metadata": {},
   "outputs": [],
   "source": [
    "def verify_success_rate_above(y_true, y_pred, min_success_rate=0.5):\n",
    "    \"\"\"\n",
    "    Verifies the success rate on a test set is above a provided minimum\n",
    "    \n",
    "    \n",
    "    \"\"\"\n",
    "    \n",
    "    precision = precision_score(y_true, y_pred, pos_label=True)\n",
    "    is_satisfied = (precision >= min_success_rate)\n",
    "    \n",
    "    return is_satisfied, precision"
   ]
  },
  {
   "cell_type": "code",
   "execution_count": 48,
   "id": "a7b4b8c0",
   "metadata": {},
   "outputs": [
    {
     "data": {
      "text/plain": [
       "(True, 0.5596569858204499)"
      ]
     },
     "execution_count": 48,
     "metadata": {},
     "output_type": "execute_result"
    }
   ],
   "source": [
    "verify_success_rate_above(y_test, preds, min_success_rate=0.5)"
   ]
  },
  {
   "cell_type": "code",
   "execution_count": 49,
   "id": "3de1d870",
   "metadata": {},
   "outputs": [],
   "source": [
    "def verify_no_discrimination_stations(X_test, y_true, y_pred, sensitive_column, max_diff=0.05):\n",
    "    \"\"\"\n",
    "    Verifies that no subdeparment has discrimination between \"sensitive_column\" categories\n",
    "    \n",
    "    \"\"\"\n",
    "    \n",
    "    departments = X_test['station'].unique()\n",
    "    sensitive_classes = X_test[sensitive_column].unique()\n",
    "    \n",
    "    is_satisfied = True\n",
    "    problematic_departments = []\n",
    "    good_departments = []\n",
    "    for department in departments:\n",
    "        precisions = {}\n",
    "        for sensitive_class in sensitive_classes:\n",
    "            mask = (X_test[sensitive_column] == sensitive_class) & (X_test['station'] == department)\n",
    "            if mask.sum():\n",
    "                precisions[sensitive_class] = precision_score(y_true[mask], y_pred[mask], pos_label=1, zero_division=0)\n",
    "                \n",
    "        diff = np.max(list(precisions.values())) - np.min(list(precisions.values()))\n",
    "        if diff > max_diff:\n",
    "            is_satisfied = False\n",
    "            problematic_departments.append((department, diff, precisions))\n",
    "        else:\n",
    "            good_departments.append((department, diff, precisions))\n",
    "\n",
    "    return is_satisfied, problematic_departments, good_departments"
   ]
  },
  {
   "cell_type": "code",
   "execution_count": 50,
   "id": "57a3d344",
   "metadata": {},
   "outputs": [
    {
     "name": "stdout",
     "output_type": "stream",
     "text": [
      "Officer-defined ethnicity:\n",
      "\n",
      "Requirement failed 😢\n",
      "Num problematic departments: 8\n",
      "Num good departments: 25\n",
      "\n",
      "\n",
      "Problematic departments: ['durham', 'norfolk', 'northumbria', 'staffordshire', 'northamptonshire', 'dorset', 'north-wales', 'north-yorkshire']\n",
      "\n",
      "\n",
      "Good departments: ['west-yorkshire', 'warwickshire', 'btp', 'surrey', 'hertfordshire', 'kent', 'bedfordshire', 'hampshire', 'west-mercia', 'thames-valley', 'cheshire', 'essex', 'cumbria', 'cleveland', 'avon-and-somerset', 'merseyside', 'nottinghamshire', 'sussex', 'cambridgeshire', 'derbyshire', 'wiltshire', 'city-of-london', 'suffolk', 'devon-and-cornwall', 'gloucestershire']\n",
      "\n",
      "\n",
      "avg diff: 0.3398837480058525\n",
      "Departments analysed: 33\n"
     ]
    }
   ],
   "source": [
    "# Evaluate the model success between (officer-defined) ethnicities\n",
    "print(\"Officer-defined ethnicity:\\n\")\n",
    "\n",
    "is_satisfied, problematic_departments, good_departments = verify_no_discrimination_stations(\n",
    "    X_test, y_test, preds, sensitive_column='Officer-defined ethnicity',max_diff=0.20)\n",
    "\n",
    "\n",
    "if not is_satisfied:\n",
    "    print(\"Requirement failed 😢\")\n",
    "    print(\"Num problematic departments: {}\".format(len(problematic_departments)))\n",
    "    print(\"Num good departments: {}\".format(len(good_departments)))\n",
    "    print ('\\n')\n",
    "    print (\"Problematic departments:\",[i[0] for i in problematic_departments])\n",
    "    print ('\\n')\n",
    "    print (\"Good departments:\",[i[0] for i in good_departments])\n",
    "    print ('\\n')\n",
    "    print(\"avg diff:\", np.mean([p[1] for p in problematic_departments]))\n",
    "\n",
    "print(\"Departments analysed: {}\".format(len(problematic_departments) + len(good_departments)))"
   ]
  },
  {
   "cell_type": "code",
   "execution_count": 51,
   "id": "2cd30ae3",
   "metadata": {},
   "outputs": [],
   "source": [
    "def verify_no_discrimination_object_of_search(X_test, y_true, y_pred, sensitive_column, max_diff=0.05):\n",
    "    \"\"\"\n",
    "    Verifies that no subdeparment has discrimination between \"sensitive_column\" categories\n",
    "    \n",
    "    \"\"\"\n",
    "    \n",
    "    departments = X_test['Object of search'].unique()\n",
    "    sensitive_classes = X_test[sensitive_column].unique()\n",
    "    \n",
    "    is_satisfied = True\n",
    "    problematic_departments = []\n",
    "    good_deparments = []\n",
    "    for department in departments:\n",
    "        precisions = {}\n",
    "        for sensitive_class in sensitive_classes:\n",
    "            mask = (X_test[sensitive_column] == sensitive_class) & (X_test['Object of search'] == department)\n",
    "            if mask.sum():\n",
    "                precisions[sensitive_class] = precision_score(y_true[mask], y_pred[mask], pos_label=1, zero_division=0)\n",
    "                \n",
    "        diff = np.max(list(precisions.values())) - np.min(list(precisions.values()))\n",
    "        if diff > max_diff:\n",
    "            is_satisfied = False\n",
    "            problematic_departments.append((department, diff, precisions))\n",
    "        else:\n",
    "            good_deparments.append((department, diff, precisions))\n",
    "\n",
    "    return is_satisfied, problematic_departments, good_deparments"
   ]
  },
  {
   "cell_type": "code",
   "execution_count": 52,
   "id": "cbd34651",
   "metadata": {
    "scrolled": true
   },
   "outputs": [
    {
     "name": "stdout",
     "output_type": "stream",
     "text": [
      "Object of search:\n",
      "\n",
      "Requirement failed 😢\n",
      "Num problematic search categories: 9\n",
      "Num good search cateogories: 8\n",
      "\n",
      "\n",
      "Problematic search categories: ['Firearms', 'Evidence of offences under the Act', 'Game or poaching equipment', 'Anything to threaten or harm anyone', 'Articles for use in criminal damage', 'Fireworks', 'Detailed object of search unavailable', 'Goods on which duty has not been paid etc.', 'Crossbows']\n",
      "\n",
      "\n",
      "Good search categories: ['Controlled drugs', 'Offensive weapons', 'Stolen goods', 'Psychoactive substances', 'Article for use in theft', 'Evidence of wildlife offences', 'Evidence of hunting any wild mammal with a dog', 'Seals or hunting equipment']\n",
      "\n",
      "\n",
      "avg diff: 0.5678872966303631\n",
      "Objects of search categories analysed: 17\n"
     ]
    }
   ],
   "source": [
    "# Evaluate the model success between \"object of search\" categories\n",
    "print(\"Object of search:\\n\")\n",
    "\n",
    "is_satisfied, problematic_searches, good_searches = verify_no_discrimination_object_of_search(\n",
    "    X_test, y_test, preds, sensitive_column='Officer-defined ethnicity',max_diff=0.30)\n",
    "\n",
    "\n",
    "if not is_satisfied:\n",
    "    print(\"Requirement failed 😢\")\n",
    "    print(\"Num problematic search categories: {}\".format(len(problematic_searches)))\n",
    "    print(\"Num good search cateogories: {}\".format(len(good_searches)))\n",
    "    print ('\\n')\n",
    "    print (\"Problematic search categories:\",[i[0] for i in problematic_searches])\n",
    "    print ('\\n')\n",
    "    print (\"Good search categories:\",[i[0] for i in good_searches])\n",
    "    print ('\\n')\n",
    "    print(\"avg diff:\", np.mean([p[1] for p in problematic_searches]))\n",
    "\n",
    "print(\"Objects of search categories analysed: {}\".format(len(problematic_searches) + len(good_searches)))"
   ]
  },
  {
   "cell_type": "markdown",
   "id": "9e8c45d6",
   "metadata": {},
   "source": [
    "#### SERIALIZE MODEL"
   ]
  },
  {
   "cell_type": "code",
   "execution_count": 53,
   "id": "070679b3",
   "metadata": {},
   "outputs": [],
   "source": [
    "# with open('columns_capstone_v2.json', 'w') as fh:\n",
    "#     json.dump(X_train.columns.tolist(), fh)\n",
    "    \n",
    "# with open('dtypes_capstone_v2.pickle', 'wb') as fh:\n",
    "#     pickle.dump(X_train.dtypes, fh)\n",
    "\n",
    "# joblib.dump(model,'pipeline_capstone_v2.pickle');"
   ]
  }
 ],
 "metadata": {
  "kernelspec": {
   "display_name": "Python 3 (ipykernel)",
   "language": "python",
   "name": "python3"
  },
  "language_info": {
   "codemirror_mode": {
    "name": "ipython",
    "version": 3
   },
   "file_extension": ".py",
   "mimetype": "text/x-python",
   "name": "python",
   "nbconvert_exporter": "python",
   "pygments_lexer": "ipython3",
   "version": "3.8.16"
  }
 },
 "nbformat": 4,
 "nbformat_minor": 5
}
