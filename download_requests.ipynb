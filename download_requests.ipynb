{
 "cells": [
  {
   "cell_type": "code",
   "execution_count": 6,
   "id": "6fb4f941",
   "metadata": {},
   "outputs": [],
   "source": [
    "import sqlalchemy\n",
    "import ast\n",
    "import pandas as pd\n",
    "import json"
   ]
  },
  {
   "cell_type": "code",
   "execution_count": 7,
   "id": "f3cb3593",
   "metadata": {},
   "outputs": [],
   "source": [
    "## Used to download data from Railway\n",
    "# username = 'postgres'\n",
    "# password = 'ms2DxHJGPsRY0qG6zc4G'\n",
    "# host_name = 'containers-us-west-150.railway.app'\n",
    "# port = 7278\n",
    "# db_name = 'railway'\n",
    "\n",
    "# conn_str = 'postgresql://{}:{}@{}:{}/{}'.format(username, password, host_name, port, db_name)\n",
    "# engine = sqlalchemy.create_engine(conn_str)\n",
    "# query = 'SELECT * FROM prediction;'\n",
    "# data_server = pd.read_sql_query(query, engine)"
   ]
  },
  {
   "cell_type": "code",
   "execution_count": 9,
   "id": "525d1017",
   "metadata": {},
   "outputs": [
    {
     "data": {
      "text/html": [
       "<div>\n",
       "<style scoped>\n",
       "    .dataframe tbody tr th:only-of-type {\n",
       "        vertical-align: middle;\n",
       "    }\n",
       "\n",
       "    .dataframe tbody tr th {\n",
       "        vertical-align: top;\n",
       "    }\n",
       "\n",
       "    .dataframe thead th {\n",
       "        text-align: right;\n",
       "    }\n",
       "</style>\n",
       "<table border=\"1\" class=\"dataframe\">\n",
       "  <thead>\n",
       "    <tr style=\"text-align: right;\">\n",
       "      <th></th>\n",
       "      <th>id</th>\n",
       "      <th>observation_id</th>\n",
       "      <th>observation</th>\n",
       "      <th>proba</th>\n",
       "      <th>pred</th>\n",
       "      <th>true_class</th>\n",
       "    </tr>\n",
       "  </thead>\n",
       "  <tbody>\n",
       "    <tr>\n",
       "      <th>0</th>\n",
       "      <td>108</td>\n",
       "      <td>ba91d868-9056-4402-b36e-9e71c90caec3</td>\n",
       "      <td>{'Type': 'Person and Vehicle search', 'Date': ...</td>\n",
       "      <td>0.715158</td>\n",
       "      <td>True</td>\n",
       "      <td>1.0</td>\n",
       "    </tr>\n",
       "    <tr>\n",
       "      <th>1</th>\n",
       "      <td>113</td>\n",
       "      <td>278a05ef-a3d9-42e4-b0ea-65fac9c5b4fd</td>\n",
       "      <td>{'Type': 'Person search', 'Date': '2022-01-01T...</td>\n",
       "      <td>0.446089</td>\n",
       "      <td>False</td>\n",
       "      <td>0.0</td>\n",
       "    </tr>\n",
       "    <tr>\n",
       "      <th>2</th>\n",
       "      <td>118</td>\n",
       "      <td>b5882d71-b142-4ff4-a387-62de28d6bead</td>\n",
       "      <td>{'Type': 'Person search', 'Date': '2022-01-01T...</td>\n",
       "      <td>0.127540</td>\n",
       "      <td>False</td>\n",
       "      <td>0.0</td>\n",
       "    </tr>\n",
       "    <tr>\n",
       "      <th>3</th>\n",
       "      <td>122</td>\n",
       "      <td>c528cf17-8d8d-4271-864d-7f53219201bc</td>\n",
       "      <td>{'Type': 'Person search', 'Date': '2022-01-01T...</td>\n",
       "      <td>0.173887</td>\n",
       "      <td>False</td>\n",
       "      <td>0.0</td>\n",
       "    </tr>\n",
       "    <tr>\n",
       "      <th>4</th>\n",
       "      <td>126</td>\n",
       "      <td>804a0d41-fd29-4d60-890e-9f930501301e</td>\n",
       "      <td>{'Type': 'Person search', 'Date': '2022-01-01T...</td>\n",
       "      <td>0.462372</td>\n",
       "      <td>False</td>\n",
       "      <td>1.0</td>\n",
       "    </tr>\n",
       "  </tbody>\n",
       "</table>\n",
       "</div>"
      ],
      "text/plain": [
       "    id                        observation_id  \\\n",
       "0  108  ba91d868-9056-4402-b36e-9e71c90caec3   \n",
       "1  113  278a05ef-a3d9-42e4-b0ea-65fac9c5b4fd   \n",
       "2  118  b5882d71-b142-4ff4-a387-62de28d6bead   \n",
       "3  122  c528cf17-8d8d-4271-864d-7f53219201bc   \n",
       "4  126  804a0d41-fd29-4d60-890e-9f930501301e   \n",
       "\n",
       "                                         observation     proba   pred  \\\n",
       "0  {'Type': 'Person and Vehicle search', 'Date': ...  0.715158   True   \n",
       "1  {'Type': 'Person search', 'Date': '2022-01-01T...  0.446089  False   \n",
       "2  {'Type': 'Person search', 'Date': '2022-01-01T...  0.127540  False   \n",
       "3  {'Type': 'Person search', 'Date': '2022-01-01T...  0.173887  False   \n",
       "4  {'Type': 'Person search', 'Date': '2022-01-01T...  0.462372  False   \n",
       "\n",
       "   true_class  \n",
       "0         1.0  \n",
       "1         0.0  \n",
       "2         0.0  \n",
       "3         0.0  \n",
       "4         1.0  "
      ]
     },
     "execution_count": 9,
     "metadata": {},
     "output_type": "execute_result"
    }
   ],
   "source": [
    "data_server.head()"
   ]
  },
  {
   "cell_type": "code",
   "execution_count": 10,
   "id": "0181fb53",
   "metadata": {},
   "outputs": [
    {
     "name": "stdout",
     "output_type": "stream",
     "text": [
      "<class 'pandas.core.frame.DataFrame'>\n",
      "RangeIndex: 4000 entries, 0 to 3999\n",
      "Data columns (total 6 columns):\n",
      " #   Column          Non-Null Count  Dtype  \n",
      "---  ------          --------------  -----  \n",
      " 0   id              4000 non-null   int64  \n",
      " 1   observation_id  4000 non-null   object \n",
      " 2   observation     4000 non-null   object \n",
      " 3   proba           4000 non-null   float64\n",
      " 4   pred            4000 non-null   bool   \n",
      " 5   true_class      3999 non-null   float64\n",
      "dtypes: bool(1), float64(2), int64(1), object(2)\n",
      "memory usage: 160.3+ KB\n"
     ]
    }
   ],
   "source": [
    "data_server.info()"
   ]
  },
  {
   "cell_type": "code",
   "execution_count": 5,
   "id": "822ce1e5",
   "metadata": {},
   "outputs": [],
   "source": [
    "# decompose \"observation\" string and create a dataframe with it\n",
    "list_of_dicts = []\n",
    "for obs in data_server.observation:\n",
    "    obs_list = obs.split(\",\")\n",
    "    obs_dict = {}\n",
    "    for item in obs_list:\n",
    "        s = item.replace(\"{\", \"\").replace(\"}\", \"\")\n",
    "        s = s.replace(\"nan\", \"None\")\n",
    "        d = ast.literal_eval(\"{\" + s + \"}\")\n",
    "        obs_dict.update(d)\n",
    "    list_of_dicts.append(obs_dict)\n",
    "\n",
    "output = pd.DataFrame(list_of_dicts)"
   ]
  },
  {
   "cell_type": "code",
   "execution_count": 6,
   "id": "d81d7689",
   "metadata": {},
   "outputs": [
    {
     "data": {
      "text/html": [
       "<div>\n",
       "<style scoped>\n",
       "    .dataframe tbody tr th:only-of-type {\n",
       "        vertical-align: middle;\n",
       "    }\n",
       "\n",
       "    .dataframe tbody tr th {\n",
       "        vertical-align: top;\n",
       "    }\n",
       "\n",
       "    .dataframe thead th {\n",
       "        text-align: right;\n",
       "    }\n",
       "</style>\n",
       "<table border=\"1\" class=\"dataframe\">\n",
       "  <thead>\n",
       "    <tr style=\"text-align: right;\">\n",
       "      <th></th>\n",
       "      <th>Type</th>\n",
       "      <th>Date</th>\n",
       "      <th>Part of a policing operation</th>\n",
       "      <th>Latitude</th>\n",
       "      <th>Longitude</th>\n",
       "      <th>Gender</th>\n",
       "      <th>Age range</th>\n",
       "      <th>Officer-defined ethnicity</th>\n",
       "      <th>Legislation</th>\n",
       "      <th>Object of search</th>\n",
       "      <th>station</th>\n",
       "    </tr>\n",
       "  </thead>\n",
       "  <tbody>\n",
       "    <tr>\n",
       "      <th>0</th>\n",
       "      <td>Person and Vehicle search</td>\n",
       "      <td>2022-01-01T03:08:37+00:00</td>\n",
       "      <td>None</td>\n",
       "      <td>52.312706</td>\n",
       "      <td>-0.225271</td>\n",
       "      <td>Male</td>\n",
       "      <td>18-24</td>\n",
       "      <td>White</td>\n",
       "      <td>Misuse of Drugs Act 1971 (section 23)</td>\n",
       "      <td>Controlled drugs</td>\n",
       "      <td>cambridgeshire</td>\n",
       "    </tr>\n",
       "    <tr>\n",
       "      <th>1</th>\n",
       "      <td>Person search</td>\n",
       "      <td>2022-01-01T04:29:00+00:00</td>\n",
       "      <td>True</td>\n",
       "      <td>50.625847</td>\n",
       "      <td>-3.546839</td>\n",
       "      <td>Female</td>\n",
       "      <td>25-34</td>\n",
       "      <td>White</td>\n",
       "      <td>Misuse of Drugs Act 1971 (section 23)</td>\n",
       "      <td>Controlled drugs</td>\n",
       "      <td>devon-and-cornwall</td>\n",
       "    </tr>\n",
       "    <tr>\n",
       "      <th>2</th>\n",
       "      <td>Person search</td>\n",
       "      <td>2022-01-01T05:50:23+00:00</td>\n",
       "      <td>None</td>\n",
       "      <td>51.518091</td>\n",
       "      <td>-0.078308</td>\n",
       "      <td>Male</td>\n",
       "      <td>18-24</td>\n",
       "      <td>White</td>\n",
       "      <td>Police and Criminal Evidence Act 1984 (section 1)</td>\n",
       "      <td>Offensive weapons</td>\n",
       "      <td>city-of-london</td>\n",
       "    </tr>\n",
       "    <tr>\n",
       "      <th>3</th>\n",
       "      <td>Person search</td>\n",
       "      <td>2022-01-01T07:34:03+00:00</td>\n",
       "      <td>None</td>\n",
       "      <td>51.506255</td>\n",
       "      <td>-0.074901</td>\n",
       "      <td>Male</td>\n",
       "      <td>10-17</td>\n",
       "      <td>Asian</td>\n",
       "      <td>Police and Criminal Evidence Act 1984 (section 1)</td>\n",
       "      <td>Offensive weapons</td>\n",
       "      <td>city-of-london</td>\n",
       "    </tr>\n",
       "    <tr>\n",
       "      <th>4</th>\n",
       "      <td>Person search</td>\n",
       "      <td>2022-01-01T16:43:00+00:00</td>\n",
       "      <td>False</td>\n",
       "      <td>50.725010</td>\n",
       "      <td>-3.524855</td>\n",
       "      <td>Male</td>\n",
       "      <td>25-34</td>\n",
       "      <td>White</td>\n",
       "      <td>Misuse of Drugs Act 1971 (section 23)</td>\n",
       "      <td>Controlled drugs</td>\n",
       "      <td>devon-and-cornwall</td>\n",
       "    </tr>\n",
       "  </tbody>\n",
       "</table>\n",
       "</div>"
      ],
      "text/plain": [
       "                        Type                       Date  \\\n",
       "0  Person and Vehicle search  2022-01-01T03:08:37+00:00   \n",
       "1              Person search  2022-01-01T04:29:00+00:00   \n",
       "2              Person search  2022-01-01T05:50:23+00:00   \n",
       "3              Person search  2022-01-01T07:34:03+00:00   \n",
       "4              Person search  2022-01-01T16:43:00+00:00   \n",
       "\n",
       "  Part of a policing operation   Latitude  Longitude  Gender Age range  \\\n",
       "0                         None  52.312706  -0.225271    Male     18-24   \n",
       "1                         True  50.625847  -3.546839  Female     25-34   \n",
       "2                         None  51.518091  -0.078308    Male     18-24   \n",
       "3                         None  51.506255  -0.074901    Male     10-17   \n",
       "4                        False  50.725010  -3.524855    Male     25-34   \n",
       "\n",
       "  Officer-defined ethnicity  \\\n",
       "0                     White   \n",
       "1                     White   \n",
       "2                     White   \n",
       "3                     Asian   \n",
       "4                     White   \n",
       "\n",
       "                                         Legislation   Object of search  \\\n",
       "0              Misuse of Drugs Act 1971 (section 23)   Controlled drugs   \n",
       "1              Misuse of Drugs Act 1971 (section 23)   Controlled drugs   \n",
       "2  Police and Criminal Evidence Act 1984 (section 1)  Offensive weapons   \n",
       "3  Police and Criminal Evidence Act 1984 (section 1)  Offensive weapons   \n",
       "4              Misuse of Drugs Act 1971 (section 23)   Controlled drugs   \n",
       "\n",
       "              station  \n",
       "0      cambridgeshire  \n",
       "1  devon-and-cornwall  \n",
       "2      city-of-london  \n",
       "3      city-of-london  \n",
       "4  devon-and-cornwall  "
      ]
     },
     "execution_count": 6,
     "metadata": {},
     "output_type": "execute_result"
    }
   ],
   "source": [
    "output.head()"
   ]
  },
  {
   "cell_type": "code",
   "execution_count": 7,
   "id": "173b3ee3",
   "metadata": {},
   "outputs": [
    {
     "data": {
      "text/html": [
       "<div>\n",
       "<style scoped>\n",
       "    .dataframe tbody tr th:only-of-type {\n",
       "        vertical-align: middle;\n",
       "    }\n",
       "\n",
       "    .dataframe tbody tr th {\n",
       "        vertical-align: top;\n",
       "    }\n",
       "\n",
       "    .dataframe thead th {\n",
       "        text-align: right;\n",
       "    }\n",
       "</style>\n",
       "<table border=\"1\" class=\"dataframe\">\n",
       "  <thead>\n",
       "    <tr style=\"text-align: right;\">\n",
       "      <th></th>\n",
       "      <th>Type</th>\n",
       "      <th>Date</th>\n",
       "      <th>Part of a policing operation</th>\n",
       "      <th>Latitude</th>\n",
       "      <th>Longitude</th>\n",
       "      <th>Gender</th>\n",
       "      <th>Age range</th>\n",
       "      <th>Officer-defined ethnicity</th>\n",
       "      <th>Legislation</th>\n",
       "      <th>Object of search</th>\n",
       "      <th>station</th>\n",
       "      <th>proba</th>\n",
       "      <th>pred</th>\n",
       "      <th>true_class</th>\n",
       "    </tr>\n",
       "  </thead>\n",
       "  <tbody>\n",
       "    <tr>\n",
       "      <th>0</th>\n",
       "      <td>Person and Vehicle search</td>\n",
       "      <td>2022-01-01T03:08:37+00:00</td>\n",
       "      <td>None</td>\n",
       "      <td>52.312706</td>\n",
       "      <td>-0.225271</td>\n",
       "      <td>Male</td>\n",
       "      <td>18-24</td>\n",
       "      <td>White</td>\n",
       "      <td>Misuse of Drugs Act 1971 (section 23)</td>\n",
       "      <td>Controlled drugs</td>\n",
       "      <td>cambridgeshire</td>\n",
       "      <td>0.715158</td>\n",
       "      <td>True</td>\n",
       "      <td>1.0</td>\n",
       "    </tr>\n",
       "    <tr>\n",
       "      <th>1</th>\n",
       "      <td>Person search</td>\n",
       "      <td>2022-01-01T04:29:00+00:00</td>\n",
       "      <td>True</td>\n",
       "      <td>50.625847</td>\n",
       "      <td>-3.546839</td>\n",
       "      <td>Female</td>\n",
       "      <td>25-34</td>\n",
       "      <td>White</td>\n",
       "      <td>Misuse of Drugs Act 1971 (section 23)</td>\n",
       "      <td>Controlled drugs</td>\n",
       "      <td>devon-and-cornwall</td>\n",
       "      <td>0.446089</td>\n",
       "      <td>False</td>\n",
       "      <td>0.0</td>\n",
       "    </tr>\n",
       "    <tr>\n",
       "      <th>2</th>\n",
       "      <td>Person search</td>\n",
       "      <td>2022-01-01T05:50:23+00:00</td>\n",
       "      <td>None</td>\n",
       "      <td>51.518091</td>\n",
       "      <td>-0.078308</td>\n",
       "      <td>Male</td>\n",
       "      <td>18-24</td>\n",
       "      <td>White</td>\n",
       "      <td>Police and Criminal Evidence Act 1984 (section 1)</td>\n",
       "      <td>Offensive weapons</td>\n",
       "      <td>city-of-london</td>\n",
       "      <td>0.127540</td>\n",
       "      <td>False</td>\n",
       "      <td>0.0</td>\n",
       "    </tr>\n",
       "    <tr>\n",
       "      <th>3</th>\n",
       "      <td>Person search</td>\n",
       "      <td>2022-01-01T07:34:03+00:00</td>\n",
       "      <td>None</td>\n",
       "      <td>51.506255</td>\n",
       "      <td>-0.074901</td>\n",
       "      <td>Male</td>\n",
       "      <td>10-17</td>\n",
       "      <td>Asian</td>\n",
       "      <td>Police and Criminal Evidence Act 1984 (section 1)</td>\n",
       "      <td>Offensive weapons</td>\n",
       "      <td>city-of-london</td>\n",
       "      <td>0.173887</td>\n",
       "      <td>False</td>\n",
       "      <td>0.0</td>\n",
       "    </tr>\n",
       "    <tr>\n",
       "      <th>4</th>\n",
       "      <td>Person search</td>\n",
       "      <td>2022-01-01T16:43:00+00:00</td>\n",
       "      <td>False</td>\n",
       "      <td>50.725010</td>\n",
       "      <td>-3.524855</td>\n",
       "      <td>Male</td>\n",
       "      <td>25-34</td>\n",
       "      <td>White</td>\n",
       "      <td>Misuse of Drugs Act 1971 (section 23)</td>\n",
       "      <td>Controlled drugs</td>\n",
       "      <td>devon-and-cornwall</td>\n",
       "      <td>0.462372</td>\n",
       "      <td>False</td>\n",
       "      <td>1.0</td>\n",
       "    </tr>\n",
       "  </tbody>\n",
       "</table>\n",
       "</div>"
      ],
      "text/plain": [
       "                        Type                       Date  \\\n",
       "0  Person and Vehicle search  2022-01-01T03:08:37+00:00   \n",
       "1              Person search  2022-01-01T04:29:00+00:00   \n",
       "2              Person search  2022-01-01T05:50:23+00:00   \n",
       "3              Person search  2022-01-01T07:34:03+00:00   \n",
       "4              Person search  2022-01-01T16:43:00+00:00   \n",
       "\n",
       "  Part of a policing operation   Latitude  Longitude  Gender Age range  \\\n",
       "0                         None  52.312706  -0.225271    Male     18-24   \n",
       "1                         True  50.625847  -3.546839  Female     25-34   \n",
       "2                         None  51.518091  -0.078308    Male     18-24   \n",
       "3                         None  51.506255  -0.074901    Male     10-17   \n",
       "4                        False  50.725010  -3.524855    Male     25-34   \n",
       "\n",
       "  Officer-defined ethnicity  \\\n",
       "0                     White   \n",
       "1                     White   \n",
       "2                     White   \n",
       "3                     Asian   \n",
       "4                     White   \n",
       "\n",
       "                                         Legislation   Object of search  \\\n",
       "0              Misuse of Drugs Act 1971 (section 23)   Controlled drugs   \n",
       "1              Misuse of Drugs Act 1971 (section 23)   Controlled drugs   \n",
       "2  Police and Criminal Evidence Act 1984 (section 1)  Offensive weapons   \n",
       "3  Police and Criminal Evidence Act 1984 (section 1)  Offensive weapons   \n",
       "4              Misuse of Drugs Act 1971 (section 23)   Controlled drugs   \n",
       "\n",
       "              station     proba   pred  true_class  \n",
       "0      cambridgeshire  0.715158   True         1.0  \n",
       "1  devon-and-cornwall  0.446089  False         0.0  \n",
       "2      city-of-london  0.127540  False         0.0  \n",
       "3      city-of-london  0.173887  False         0.0  \n",
       "4  devon-and-cornwall  0.462372  False         1.0  "
      ]
     },
     "execution_count": 7,
     "metadata": {},
     "output_type": "execute_result"
    }
   ],
   "source": [
    "# drop not important columns\n",
    "data_server = data_server.drop(columns=['id','observation_id','observation'])\n",
    "\n",
    "# merge output dataframe with original dataframe\n",
    "df_merged = output.merge(data_server,left_index=True,right_index=True)\n",
    "df_merged.head()"
   ]
  },
  {
   "cell_type": "code",
   "execution_count": 8,
   "id": "50e1b6df",
   "metadata": {},
   "outputs": [
    {
     "data": {
      "text/plain": [
       "551"
      ]
     },
     "execution_count": 8,
     "metadata": {},
     "output_type": "execute_result"
    }
   ],
   "source": [
    "# Correct Postive Preds\n",
    "correct_pos = df_merged[(df_merged['pred']==True) & (df_merged['true_class']==1)]\n",
    "len(correct_pos)"
   ]
  },
  {
   "cell_type": "code",
   "execution_count": 9,
   "id": "a319d626",
   "metadata": {},
   "outputs": [
    {
     "data": {
      "text/plain": [
       "1670"
      ]
     },
     "execution_count": 9,
     "metadata": {},
     "output_type": "execute_result"
    }
   ],
   "source": [
    "# Correct Postive Preds\n",
    "correct_neg = df_merged[(df_merged['pred']==False) & (df_merged['true_class']==0)]\n",
    "len(correct_neg)"
   ]
  },
  {
   "cell_type": "code",
   "execution_count": 10,
   "id": "9b16848e",
   "metadata": {},
   "outputs": [
    {
     "data": {
      "text/plain": [
       "1455"
      ]
     },
     "execution_count": 10,
     "metadata": {},
     "output_type": "execute_result"
    }
   ],
   "source": [
    "# Incorrect Postive Preds\n",
    "incorrect_pos = df_merged[(df_merged['pred']==True) & (df_merged['true_class']==0)]\n",
    "len(incorrect_pos)"
   ]
  },
  {
   "cell_type": "code",
   "execution_count": 11,
   "id": "519d01ed",
   "metadata": {},
   "outputs": [
    {
     "data": {
      "text/plain": [
       "323"
      ]
     },
     "execution_count": 11,
     "metadata": {},
     "output_type": "execute_result"
    }
   ],
   "source": [
    "# Incorrect Negative Preds\n",
    "incorrect_neg = df_merged[(df_merged['pred']==False) & (df_merged['true_class']==1)]\n",
    "len(incorrect_neg)"
   ]
  },
  {
   "cell_type": "code",
   "execution_count": 12,
   "id": "93ddf548",
   "metadata": {},
   "outputs": [
    {
     "data": {
      "text/plain": [
       "3999"
      ]
     },
     "execution_count": 12,
     "metadata": {},
     "output_type": "execute_result"
    }
   ],
   "source": [
    "# missing 1? prediction\n",
    "551+1670+1455+323"
   ]
  },
  {
   "cell_type": "code",
   "execution_count": 13,
   "id": "5a848077",
   "metadata": {},
   "outputs": [
    {
     "data": {
      "text/plain": [
       "<AxesSubplot:>"
      ]
     },
     "execution_count": 13,
     "metadata": {},
     "output_type": "execute_result"
    },
    {
     "data": {
      "image/png": "[encoded data removed]",
      "text/plain": [
       "<Figure size 640x480 with 1 Axes>"
      ]
     },
     "metadata": {},
     "output_type": "display_data"
    }
   ],
   "source": [
    "# distribuition of the probabilities of successful search\n",
    "df_merged['proba'].hist()"
   ]
  },
  {
   "cell_type": "code",
   "execution_count": 14,
   "id": "940ab1e4",
   "metadata": {},
   "outputs": [],
   "source": []
  }
 ],
 "metadata": {
  "kernelspec": {
   "display_name": "Python 3 (ipykernel)",
   "language": "python",
   "name": "python3"
  },
  "language_info": {
   "codemirror_mode": {
    "name": "ipython",
    "version": 3
   },
   "file_extension": ".py",
   "mimetype": "text/x-python",
   "name": "python",
   "nbconvert_exporter": "python",
   "pygments_lexer": "ipython3",
   "version": "3.8.16"
  }
 },
 "nbformat": 4,
 "nbformat_minor": 5
}
