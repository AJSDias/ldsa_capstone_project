{
 "cells": [
  {
   "cell_type": "code",
   "execution_count": 1,
   "id": "2f527e6c",
   "metadata": {},
   "outputs": [],
   "source": [
    "import pandas as pd\n",
    "import numpy as np\n",
    "import matplotlib.pyplot as plt\n",
    "import seaborn as sns\n",
    "\n",
    "from sklearn.metrics import precision_score, recall_score, f1_score, accuracy_score, precision_recall_curve\n",
    "from sklearn.metrics import roc_curve, roc_auc_score\n",
    "from sklearn.metrics import confusion_matrix,ConfusionMatrixDisplay"
   ]
  },
  {
   "cell_type": "code",
   "execution_count": 2,
   "id": "801780db",
   "metadata": {},
   "outputs": [
    {
     "data": {
      "text/html": [
       "<div>\n",
       "<style scoped>\n",
       "    .dataframe tbody tr th:only-of-type {\n",
       "        vertical-align: middle;\n",
       "    }\n",
       "\n",
       "    .dataframe tbody tr th {\n",
       "        vertical-align: top;\n",
       "    }\n",
       "\n",
       "    .dataframe thead th {\n",
       "        text-align: right;\n",
       "    }\n",
       "</style>\n",
       "<table border=\"1\" class=\"dataframe\">\n",
       "  <thead>\n",
       "    <tr style=\"text-align: right;\">\n",
       "      <th></th>\n",
       "      <th>Type</th>\n",
       "      <th>Date</th>\n",
       "      <th>Part of a policing operation</th>\n",
       "      <th>Latitude</th>\n",
       "      <th>Longitude</th>\n",
       "      <th>Gender</th>\n",
       "      <th>Age range</th>\n",
       "      <th>Officer-defined ethnicity</th>\n",
       "      <th>Legislation</th>\n",
       "      <th>Object of search</th>\n",
       "      <th>station</th>\n",
       "      <th>proba</th>\n",
       "      <th>pred</th>\n",
       "      <th>true_class</th>\n",
       "    </tr>\n",
       "  </thead>\n",
       "  <tbody>\n",
       "    <tr>\n",
       "      <th>0</th>\n",
       "      <td>Person and Vehicle search</td>\n",
       "      <td>2022-01-01T03:08:37+00:00</td>\n",
       "      <td>NaN</td>\n",
       "      <td>52.312706</td>\n",
       "      <td>-0.225271</td>\n",
       "      <td>Male</td>\n",
       "      <td>18-24</td>\n",
       "      <td>White</td>\n",
       "      <td>Misuse of Drugs Act 1971 (section 23)</td>\n",
       "      <td>Controlled drugs</td>\n",
       "      <td>cambridgeshire</td>\n",
       "      <td>0.715158</td>\n",
       "      <td>True</td>\n",
       "      <td>1.0</td>\n",
       "    </tr>\n",
       "    <tr>\n",
       "      <th>1</th>\n",
       "      <td>Person search</td>\n",
       "      <td>2022-01-01T04:29:00+00:00</td>\n",
       "      <td>True</td>\n",
       "      <td>50.625847</td>\n",
       "      <td>-3.546839</td>\n",
       "      <td>Female</td>\n",
       "      <td>25-34</td>\n",
       "      <td>White</td>\n",
       "      <td>Misuse of Drugs Act 1971 (section 23)</td>\n",
       "      <td>Controlled drugs</td>\n",
       "      <td>devon-and-cornwall</td>\n",
       "      <td>0.446089</td>\n",
       "      <td>False</td>\n",
       "      <td>0.0</td>\n",
       "    </tr>\n",
       "    <tr>\n",
       "      <th>2</th>\n",
       "      <td>Person search</td>\n",
       "      <td>2022-01-01T05:50:23+00:00</td>\n",
       "      <td>NaN</td>\n",
       "      <td>51.518091</td>\n",
       "      <td>-0.078308</td>\n",
       "      <td>Male</td>\n",
       "      <td>18-24</td>\n",
       "      <td>White</td>\n",
       "      <td>Police and Criminal Evidence Act 1984 (section 1)</td>\n",
       "      <td>Offensive weapons</td>\n",
       "      <td>city-of-london</td>\n",
       "      <td>0.127540</td>\n",
       "      <td>False</td>\n",
       "      <td>0.0</td>\n",
       "    </tr>\n",
       "    <tr>\n",
       "      <th>3</th>\n",
       "      <td>Person search</td>\n",
       "      <td>2022-01-01T07:34:03+00:00</td>\n",
       "      <td>NaN</td>\n",
       "      <td>51.506255</td>\n",
       "      <td>-0.074901</td>\n",
       "      <td>Male</td>\n",
       "      <td>10-17</td>\n",
       "      <td>Asian</td>\n",
       "      <td>Police and Criminal Evidence Act 1984 (section 1)</td>\n",
       "      <td>Offensive weapons</td>\n",
       "      <td>city-of-london</td>\n",
       "      <td>0.173887</td>\n",
       "      <td>False</td>\n",
       "      <td>0.0</td>\n",
       "    </tr>\n",
       "    <tr>\n",
       "      <th>4</th>\n",
       "      <td>Person search</td>\n",
       "      <td>2022-01-01T16:43:00+00:00</td>\n",
       "      <td>False</td>\n",
       "      <td>50.725010</td>\n",
       "      <td>-3.524855</td>\n",
       "      <td>Male</td>\n",
       "      <td>25-34</td>\n",
       "      <td>White</td>\n",
       "      <td>Misuse of Drugs Act 1971 (section 23)</td>\n",
       "      <td>Controlled drugs</td>\n",
       "      <td>devon-and-cornwall</td>\n",
       "      <td>0.462372</td>\n",
       "      <td>False</td>\n",
       "      <td>1.0</td>\n",
       "    </tr>\n",
       "  </tbody>\n",
       "</table>\n",
       "</div>"
      ],
      "text/plain": [
       "                        Type                       Date  \\\n",
       "0  Person and Vehicle search  2022-01-01T03:08:37+00:00   \n",
       "1              Person search  2022-01-01T04:29:00+00:00   \n",
       "2              Person search  2022-01-01T05:50:23+00:00   \n",
       "3              Person search  2022-01-01T07:34:03+00:00   \n",
       "4              Person search  2022-01-01T16:43:00+00:00   \n",
       "\n",
       "  Part of a policing operation   Latitude  Longitude  Gender Age range  \\\n",
       "0                          NaN  52.312706  -0.225271    Male     18-24   \n",
       "1                         True  50.625847  -3.546839  Female     25-34   \n",
       "2                          NaN  51.518091  -0.078308    Male     18-24   \n",
       "3                          NaN  51.506255  -0.074901    Male     10-17   \n",
       "4                        False  50.725010  -3.524855    Male     25-34   \n",
       "\n",
       "  Officer-defined ethnicity  \\\n",
       "0                     White   \n",
       "1                     White   \n",
       "2                     White   \n",
       "3                     Asian   \n",
       "4                     White   \n",
       "\n",
       "                                         Legislation   Object of search  \\\n",
       "0              Misuse of Drugs Act 1971 (section 23)   Controlled drugs   \n",
       "1              Misuse of Drugs Act 1971 (section 23)   Controlled drugs   \n",
       "2  Police and Criminal Evidence Act 1984 (section 1)  Offensive weapons   \n",
       "3  Police and Criminal Evidence Act 1984 (section 1)  Offensive weapons   \n",
       "4              Misuse of Drugs Act 1971 (section 23)   Controlled drugs   \n",
       "\n",
       "              station     proba   pred  true_class  \n",
       "0      cambridgeshire  0.715158   True         1.0  \n",
       "1  devon-and-cornwall  0.446089  False         0.0  \n",
       "2      city-of-london  0.127540  False         0.0  \n",
       "3      city-of-london  0.173887  False         0.0  \n",
       "4  devon-and-cornwall  0.462372  False         1.0  "
      ]
     },
     "execution_count": 2,
     "metadata": {},
     "output_type": "execute_result"
    }
   ],
   "source": [
    "df = pd.read_csv('first_round_requests/firstround_requests_clean.csv')\n",
    "df.head()"
   ]
  },
  {
   "cell_type": "code",
   "execution_count": 17,
   "id": "b3f527e9",
   "metadata": {},
   "outputs": [
    {
     "name": "stdout",
     "output_type": "stream",
     "text": [
      "<class 'pandas.core.frame.DataFrame'>\n",
      "RangeIndex: 4000 entries, 0 to 3999\n",
      "Data columns (total 14 columns):\n",
      " #   Column                        Non-Null Count  Dtype  \n",
      "---  ------                        --------------  -----  \n",
      " 0   Type                          4000 non-null   object \n",
      " 1   Date                          4000 non-null   object \n",
      " 2   Part of a policing operation  2691 non-null   object \n",
      " 3   Latitude                      2829 non-null   float64\n",
      " 4   Longitude                     2829 non-null   float64\n",
      " 5   Gender                        4000 non-null   object \n",
      " 6   Age range                     4000 non-null   object \n",
      " 7   Officer-defined ethnicity     4000 non-null   object \n",
      " 8   Legislation                   4000 non-null   object \n",
      " 9   Object of search              4000 non-null   object \n",
      " 10  station                       4000 non-null   object \n",
      " 11  proba                         4000 non-null   float64\n",
      " 12  pred                          4000 non-null   bool   \n",
      " 13  true_class                    3999 non-null   float64\n",
      "dtypes: bool(1), float64(4), object(9)\n",
      "memory usage: 410.3+ KB\n"
     ]
    }
   ],
   "source": [
    "df.info()"
   ]
  },
  {
   "cell_type": "code",
   "execution_count": 3,
   "id": "a9cd130b",
   "metadata": {},
   "outputs": [
    {
     "name": "stdout",
     "output_type": "stream",
     "text": [
      "There are 43 duplicated entries in the dataset\n"
     ]
    },
    {
     "data": {
      "text/html": [
       "<div>\n",
       "<style scoped>\n",
       "    .dataframe tbody tr th:only-of-type {\n",
       "        vertical-align: middle;\n",
       "    }\n",
       "\n",
       "    .dataframe tbody tr th {\n",
       "        vertical-align: top;\n",
       "    }\n",
       "\n",
       "    .dataframe thead th {\n",
       "        text-align: right;\n",
       "    }\n",
       "</style>\n",
       "<table border=\"1\" class=\"dataframe\">\n",
       "  <thead>\n",
       "    <tr style=\"text-align: right;\">\n",
       "      <th></th>\n",
       "      <th>Type</th>\n",
       "      <th>Date</th>\n",
       "      <th>Part of a policing operation</th>\n",
       "      <th>Latitude</th>\n",
       "      <th>Longitude</th>\n",
       "      <th>Gender</th>\n",
       "      <th>Age range</th>\n",
       "      <th>Officer-defined ethnicity</th>\n",
       "      <th>Legislation</th>\n",
       "      <th>Object of search</th>\n",
       "      <th>station</th>\n",
       "      <th>proba</th>\n",
       "      <th>pred</th>\n",
       "      <th>true_class</th>\n",
       "    </tr>\n",
       "  </thead>\n",
       "  <tbody>\n",
       "    <tr>\n",
       "      <th>131</th>\n",
       "      <td>Person search</td>\n",
       "      <td>2022-01-03T21:00:00+00:00</td>\n",
       "      <td>False</td>\n",
       "      <td>51.919520</td>\n",
       "      <td>-0.436911</td>\n",
       "      <td>Male</td>\n",
       "      <td>18-24</td>\n",
       "      <td>Black</td>\n",
       "      <td>Misuse of Drugs Act 1971 (section 23)</td>\n",
       "      <td>Controlled drugs</td>\n",
       "      <td>bedfordshire</td>\n",
       "      <td>0.622636</td>\n",
       "      <td>True</td>\n",
       "      <td>0.0</td>\n",
       "    </tr>\n",
       "    <tr>\n",
       "      <th>199</th>\n",
       "      <td>Person search</td>\n",
       "      <td>2022-01-05T16:00:00+00:00</td>\n",
       "      <td>False</td>\n",
       "      <td>NaN</td>\n",
       "      <td>NaN</td>\n",
       "      <td>Female</td>\n",
       "      <td>18-24</td>\n",
       "      <td>White</td>\n",
       "      <td>Misuse of Drugs Act 1971 (section 23)</td>\n",
       "      <td>Controlled drugs</td>\n",
       "      <td>bedfordshire</td>\n",
       "      <td>0.513703</td>\n",
       "      <td>True</td>\n",
       "      <td>1.0</td>\n",
       "    </tr>\n",
       "    <tr>\n",
       "      <th>313</th>\n",
       "      <td>Person and Vehicle search</td>\n",
       "      <td>2022-01-08T00:15:00+00:00</td>\n",
       "      <td>NaN</td>\n",
       "      <td>54.659516</td>\n",
       "      <td>-1.549268</td>\n",
       "      <td>Male</td>\n",
       "      <td>18-24</td>\n",
       "      <td>White</td>\n",
       "      <td>Misuse of Drugs Act 1971 (section 23)</td>\n",
       "      <td>Controlled drugs</td>\n",
       "      <td>durham</td>\n",
       "      <td>0.651960</td>\n",
       "      <td>True</td>\n",
       "      <td>1.0</td>\n",
       "    </tr>\n",
       "    <tr>\n",
       "      <th>534</th>\n",
       "      <td>Person and Vehicle search</td>\n",
       "      <td>2022-01-12T12:15:00+00:00</td>\n",
       "      <td>False</td>\n",
       "      <td>NaN</td>\n",
       "      <td>NaN</td>\n",
       "      <td>Female</td>\n",
       "      <td>25-34</td>\n",
       "      <td>White</td>\n",
       "      <td>Misuse of Drugs Act 1971 (section 23)</td>\n",
       "      <td>Controlled drugs</td>\n",
       "      <td>bedfordshire</td>\n",
       "      <td>0.607081</td>\n",
       "      <td>True</td>\n",
       "      <td>1.0</td>\n",
       "    </tr>\n",
       "    <tr>\n",
       "      <th>605</th>\n",
       "      <td>Person search</td>\n",
       "      <td>2022-01-13T18:00:00+00:00</td>\n",
       "      <td>NaN</td>\n",
       "      <td>54.775686</td>\n",
       "      <td>-1.505103</td>\n",
       "      <td>Male</td>\n",
       "      <td>over 34</td>\n",
       "      <td>White</td>\n",
       "      <td>Misuse of Drugs Act 1971 (section 23)</td>\n",
       "      <td>Controlled drugs</td>\n",
       "      <td>durham</td>\n",
       "      <td>0.546246</td>\n",
       "      <td>True</td>\n",
       "      <td>1.0</td>\n",
       "    </tr>\n",
       "  </tbody>\n",
       "</table>\n",
       "</div>"
      ],
      "text/plain": [
       "                          Type                       Date  \\\n",
       "131              Person search  2022-01-03T21:00:00+00:00   \n",
       "199              Person search  2022-01-05T16:00:00+00:00   \n",
       "313  Person and Vehicle search  2022-01-08T00:15:00+00:00   \n",
       "534  Person and Vehicle search  2022-01-12T12:15:00+00:00   \n",
       "605              Person search  2022-01-13T18:00:00+00:00   \n",
       "\n",
       "    Part of a policing operation   Latitude  Longitude  Gender Age range  \\\n",
       "131                        False  51.919520  -0.436911    Male     18-24   \n",
       "199                        False        NaN        NaN  Female     18-24   \n",
       "313                          NaN  54.659516  -1.549268    Male     18-24   \n",
       "534                        False        NaN        NaN  Female     25-34   \n",
       "605                          NaN  54.775686  -1.505103    Male   over 34   \n",
       "\n",
       "    Officer-defined ethnicity                            Legislation  \\\n",
       "131                     Black  Misuse of Drugs Act 1971 (section 23)   \n",
       "199                     White  Misuse of Drugs Act 1971 (section 23)   \n",
       "313                     White  Misuse of Drugs Act 1971 (section 23)   \n",
       "534                     White  Misuse of Drugs Act 1971 (section 23)   \n",
       "605                     White  Misuse of Drugs Act 1971 (section 23)   \n",
       "\n",
       "     Object of search       station     proba  pred  true_class  \n",
       "131  Controlled drugs  bedfordshire  0.622636  True         0.0  \n",
       "199  Controlled drugs  bedfordshire  0.513703  True         1.0  \n",
       "313  Controlled drugs        durham  0.651960  True         1.0  \n",
       "534  Controlled drugs  bedfordshire  0.607081  True         1.0  \n",
       "605  Controlled drugs        durham  0.546246  True         1.0  "
      ]
     },
     "execution_count": 3,
     "metadata": {},
     "output_type": "execute_result"
    }
   ],
   "source": [
    "# evaluate duplicates\n",
    "print (f\"There are {df.duplicated().sum()} duplicated entries in the dataset\")\n",
    "\n",
    "mask_duplicates = df.duplicated()\n",
    "df_duplicated = df[mask_duplicates]\n",
    "df_duplicated.head()"
   ]
  },
  {
   "cell_type": "code",
   "execution_count": 4,
   "id": "c30e6efb",
   "metadata": {},
   "outputs": [
    {
     "data": {
      "text/plain": [
       "Type                               0\n",
       "Date                               0\n",
       "Part of a policing operation    1309\n",
       "Latitude                        1171\n",
       "Longitude                       1171\n",
       "Gender                             0\n",
       "Age range                          0\n",
       "Officer-defined ethnicity          0\n",
       "Legislation                        0\n",
       "Object of search                   0\n",
       "station                            0\n",
       "proba                              0\n",
       "pred                               0\n",
       "true_class                         1\n",
       "dtype: int64"
      ]
     },
     "execution_count": 4,
     "metadata": {},
     "output_type": "execute_result"
    }
   ],
   "source": [
    "# check missing values\n",
    "df.isna().sum()"
   ]
  },
  {
   "cell_type": "code",
   "execution_count": 5,
   "id": "384de6d7",
   "metadata": {},
   "outputs": [
    {
     "data": {
      "text/html": [
       "<div>\n",
       "<style scoped>\n",
       "    .dataframe tbody tr th:only-of-type {\n",
       "        vertical-align: middle;\n",
       "    }\n",
       "\n",
       "    .dataframe tbody tr th {\n",
       "        vertical-align: top;\n",
       "    }\n",
       "\n",
       "    .dataframe thead th {\n",
       "        text-align: right;\n",
       "    }\n",
       "</style>\n",
       "<table border=\"1\" class=\"dataframe\">\n",
       "  <thead>\n",
       "    <tr style=\"text-align: right;\">\n",
       "      <th></th>\n",
       "      <th>Type</th>\n",
       "      <th>Date</th>\n",
       "      <th>Part of a policing operation</th>\n",
       "      <th>Latitude</th>\n",
       "      <th>Longitude</th>\n",
       "      <th>Gender</th>\n",
       "      <th>Age range</th>\n",
       "      <th>Officer-defined ethnicity</th>\n",
       "      <th>Legislation</th>\n",
       "      <th>Object of search</th>\n",
       "      <th>station</th>\n",
       "      <th>proba</th>\n",
       "      <th>pred</th>\n",
       "      <th>true_class</th>\n",
       "    </tr>\n",
       "  </thead>\n",
       "  <tbody>\n",
       "    <tr>\n",
       "      <th>607</th>\n",
       "      <td>Person search</td>\n",
       "      <td>2022-01-14T00:20:00+00:00</td>\n",
       "      <td>False</td>\n",
       "      <td>51.01583</td>\n",
       "      <td>-4.205606</td>\n",
       "      <td>Female</td>\n",
       "      <td>10-17</td>\n",
       "      <td>White</td>\n",
       "      <td>Police and Criminal Evidence Act 1984 (section 1)</td>\n",
       "      <td>Article for use in theft</td>\n",
       "      <td>devon-and-cornwall</td>\n",
       "      <td>0.067912</td>\n",
       "      <td>False</td>\n",
       "      <td>NaN</td>\n",
       "    </tr>\n",
       "  </tbody>\n",
       "</table>\n",
       "</div>"
      ],
      "text/plain": [
       "              Type                       Date Part of a policing operation  \\\n",
       "607  Person search  2022-01-14T00:20:00+00:00                        False   \n",
       "\n",
       "     Latitude  Longitude  Gender Age range Officer-defined ethnicity  \\\n",
       "607  51.01583  -4.205606  Female     10-17                     White   \n",
       "\n",
       "                                           Legislation  \\\n",
       "607  Police and Criminal Evidence Act 1984 (section 1)   \n",
       "\n",
       "             Object of search             station     proba   pred  true_class  \n",
       "607  Article for use in theft  devon-and-cornwall  0.067912  False         NaN  "
      ]
     },
     "execution_count": 5,
     "metadata": {},
     "output_type": "execute_result"
    }
   ],
   "source": [
    "# There's an observation were we weren't able to store the true_class\n",
    "df[df['true_class'].isnull()]"
   ]
  },
  {
   "cell_type": "code",
   "execution_count": 6,
   "id": "1976e21b",
   "metadata": {},
   "outputs": [
    {
     "data": {
      "text/plain": [
       "0.0    3125\n",
       "1.0     874\n",
       "NaN       1\n",
       "Name: true_class, dtype: int64"
      ]
     },
     "execution_count": 6,
     "metadata": {},
     "output_type": "execute_result"
    }
   ],
   "source": [
    "df['true_class'].value_counts(dropna=False)"
   ]
  },
  {
   "cell_type": "code",
   "execution_count": 7,
   "id": "d60b41e3",
   "metadata": {},
   "outputs": [
    {
     "data": {
      "text/plain": [
       "0.0    3125\n",
       "1.0     874\n",
       "Name: true_class, dtype: int64"
      ]
     },
     "execution_count": 7,
     "metadata": {},
     "output_type": "execute_result"
    }
   ],
   "source": [
    "# Drop the observation where true_class is NaN\n",
    "df = df[df['true_class'].notna()]\n",
    "df['true_class'].value_counts(dropna=False)"
   ]
  },
  {
   "cell_type": "markdown",
   "id": "5e5c6250",
   "metadata": {},
   "source": [
    "### MODEL EVALUATION  ON NEW REQUESTS"
   ]
  },
  {
   "cell_type": "code",
   "execution_count": 8,
   "id": "eb12de55",
   "metadata": {},
   "outputs": [],
   "source": [
    "y_test = df['true_class']\n",
    "preds = df['pred']"
   ]
  },
  {
   "cell_type": "code",
   "execution_count": 9,
   "id": "45522b5a",
   "metadata": {},
   "outputs": [
    {
     "name": "stdout",
     "output_type": "stream",
     "text": [
      "Accuracy: 0.5553888472118029\n",
      "F1 Score: 0.382638888888889\n",
      "Precision: 0.2746759720837488\n",
      "Recall: 0.6304347826086957\n"
     ]
    }
   ],
   "source": [
    "# Evaluate the model\n",
    "accuracy = accuracy_score(y_test, preds)\n",
    "f1 = f1_score(y_test, preds)\n",
    "precision = precision_score(y_test, preds)\n",
    "recall = recall_score(y_test, preds)\n",
    "\n",
    "# Print the evaluation metrics\n",
    "print('Accuracy:', accuracy)\n",
    "print('F1 Score:', f1)\n",
    "print('Precision:', precision)\n",
    "print('Recall:', recall)"
   ]
  },
  {
   "cell_type": "code",
   "execution_count": 25,
   "id": "b0e26718",
   "metadata": {},
   "outputs": [
    {
     "name": "stdout",
     "output_type": "stream",
     "text": [
      "AUC-ROC: 0.5824173913043479\n"
     ]
    },
    {
     "data": {
      "image/png": "[encoded data removed]",
      "text/plain": [
       "<Figure size 640x480 with 1 Axes>"
      ]
     },
     "metadata": {},
     "output_type": "display_data"
    }
   ],
   "source": [
    "# Calculate the AUC-ROC score\n",
    "auc_roc = roc_auc_score(y_test, preds)\n",
    "print('AUC-ROC:', auc_roc)\n",
    "\n",
    "# Calculate the false positive rate, true positive rate, and thresholds\n",
    "fpr, tpr, thresholds = roc_curve(y_test, preds)\n",
    "\n",
    "# Plot the ROC curve\n",
    "plt.plot(fpr, tpr, color='darkorange', label='ROC curve (AUC = %0.2f)' % auc_roc)\n",
    "plt.plot([0, 1], [0, 1], color='navy', linestyle='--')\n",
    "plt.xlim([0.0, 1.0])\n",
    "plt.ylim([0.0, 1.05])\n",
    "plt.xlabel('False Positive Rate')\n",
    "plt.ylabel('True Positive Rate')\n",
    "plt.title('Receiver operating characteristic')\n",
    "plt.legend(loc=\"lower right\")\n",
    "plt.show()"
   ]
  },
  {
   "cell_type": "code",
   "execution_count": 26,
   "id": "8286cc54",
   "metadata": {},
   "outputs": [
    {
     "name": "stdout",
     "output_type": "stream",
     "text": [
      "Confusion Matrix:\n",
      "[[1670 1455]\n",
      " [ 323  551]]\n"
     ]
    },
    {
     "data": {
      "image/png": "[encoded data removed]",
      "text/plain": [
       "<Figure size 640x480 with 2 Axes>"
      ]
     },
     "metadata": {},
     "output_type": "display_data"
    }
   ],
   "source": [
    "# Calculate the confusion matrix\n",
    "cm = confusion_matrix(y_test, preds)\n",
    "\n",
    "# Plot confusion matrix\n",
    "cmd = ConfusionMatrixDisplay(cm)\n",
    "cmd.plot()\n",
    "\n",
    "# Print confusion matrix\n",
    "print('Confusion Matrix:')\n",
    "print(cm)"
   ]
  },
  {
   "cell_type": "markdown",
   "id": "5e7ce976",
   "metadata": {},
   "source": [
    "### DESCRIPTION OF NEW DATA"
   ]
  },
  {
   "cell_type": "markdown",
   "id": "651bb15c",
   "metadata": {},
   "source": [
    "- Create successful_searches column again\n",
    "- Clean up some columns with NaNs"
   ]
  },
  {
   "cell_type": "code",
   "execution_count": 27,
   "id": "b9bf44a0",
   "metadata": {},
   "outputs": [],
   "source": [
    "new_df = df.copy()\n",
    "new_df['Date'] = pd.to_datetime(new_df['Date'])"
   ]
  },
  {
   "cell_type": "code",
   "execution_count": 28,
   "id": "e9761e9e",
   "metadata": {},
   "outputs": [
    {
     "name": "stdout",
     "output_type": "stream",
     "text": [
      "<class 'pandas.core.frame.DataFrame'>\n",
      "Int64Index: 3999 entries, 0 to 3999\n",
      "Data columns (total 14 columns):\n",
      " #   Column                        Non-Null Count  Dtype              \n",
      "---  ------                        --------------  -----              \n",
      " 0   Type                          3999 non-null   object             \n",
      " 1   Date                          3999 non-null   datetime64[ns, UTC]\n",
      " 2   Part of a policing operation  2690 non-null   object             \n",
      " 3   Latitude                      2828 non-null   float64            \n",
      " 4   Longitude                     2828 non-null   float64            \n",
      " 5   Gender                        3999 non-null   object             \n",
      " 6   Age range                     3999 non-null   object             \n",
      " 7   Officer-defined ethnicity     3999 non-null   object             \n",
      " 8   Legislation                   3999 non-null   object             \n",
      " 9   Object of search              3999 non-null   object             \n",
      " 10  station                       3999 non-null   object             \n",
      " 11  proba                         3999 non-null   float64            \n",
      " 12  pred                          3999 non-null   bool               \n",
      " 13  true_class                    3999 non-null   float64            \n",
      "dtypes: bool(1), datetime64[ns, UTC](1), float64(4), object(8)\n",
      "memory usage: 441.3+ KB\n"
     ]
    }
   ],
   "source": [
    "new_df.info()"
   ]
  },
  {
   "cell_type": "markdown",
   "id": "1c439642",
   "metadata": {},
   "source": [
    "#### Type"
   ]
  },
  {
   "cell_type": "code",
   "execution_count": 29,
   "id": "5efe736b",
   "metadata": {},
   "outputs": [
    {
     "data": {
      "text/plain": [
       "Person search                3180\n",
       "Person and Vehicle search     819\n",
       "Name: Type, dtype: int64"
      ]
     },
     "execution_count": 29,
     "metadata": {},
     "output_type": "execute_result"
    }
   ],
   "source": [
    "# check the types of search operations\n",
    "new_df['Type'].value_counts(dropna=False)"
   ]
  },
  {
   "cell_type": "code",
   "execution_count": 30,
   "id": "5615db6a",
   "metadata": {},
   "outputs": [
    {
     "data": {
      "text/plain": [
       "Person search                0.795199\n",
       "Person and Vehicle search    0.204801\n",
       "Name: Type, dtype: float64"
      ]
     },
     "execution_count": 30,
     "metadata": {},
     "output_type": "execute_result"
    }
   ],
   "source": [
    "# check the types of search operations (normalized)\n",
    "new_df['Type'].value_counts(dropna=False,normalize=True)"
   ]
  },
  {
   "cell_type": "code",
   "execution_count": 31,
   "id": "5d675047",
   "metadata": {},
   "outputs": [
    {
     "data": {
      "image/png": "[encoded data removed]",
      "text/plain": [
       "<Figure size 400x200 with 1 Axes>"
      ]
     },
     "metadata": {},
     "output_type": "display_data"
    }
   ],
   "source": [
    "# Plot horizontal bar-plot of \"Type\" feature\n",
    "plt.figure(figsize=(4,2))\n",
    "plt.title('Type')\n",
    "plt.xlabel('Percentage of operations (%)')\n",
    "new_df['Type'].value_counts(normalize=True).plot(kind='barh')\n",
    "plt.xticks([0,0.2,0.4,0.6,0.8,1],['0','20','40','60','80','100'])\n",
    "plt.yticks([0,1,2],['Person','Person + Vehicle', 'Vehicle'])\n",
    "sns.despine()"
   ]
  },
  {
   "cell_type": "markdown",
   "id": "ff9b5800",
   "metadata": {},
   "source": [
    "#### Date"
   ]
  },
  {
   "cell_type": "code",
   "execution_count": 32,
   "id": "aeacd993",
   "metadata": {},
   "outputs": [
    {
     "name": "stdout",
     "output_type": "stream",
     "text": [
      "2022-01-01 00:35:00+00:00\n",
      "2022-03-14 14:45:00+00:00\n"
     ]
    }
   ],
   "source": [
    "# check range of dates in the dataset\n",
    "print (new_df['Date'].min())\n",
    "print (new_df['Date'].max())"
   ]
  },
  {
   "cell_type": "code",
   "execution_count": 33,
   "id": "a697bcba",
   "metadata": {},
   "outputs": [
    {
     "data": {
      "image/png": "[encoded data removed]",
      "text/plain": [
       "<Figure size 300x200 with 1 Axes>"
      ]
     },
     "metadata": {},
     "output_type": "display_data"
    }
   ],
   "source": [
    "# Plot histogram of date feature\n",
    "plt.figure(figsize=(3,2))\n",
    "plt.title('Date')\n",
    "new_df['Date'].groupby([new_df[\"Date\"].dt.year, new_df[\"Date\"].dt.month]).count().plot(kind=\"bar\",rot=0)\n",
    "plt.xlabel('Date (Year, Month)')\n",
    "plt.ylabel('Total Searches')\n",
    "plt.ylim(0,2000)\n",
    "sns.despine()"
   ]
  },
  {
   "cell_type": "code",
   "execution_count": 55,
   "id": "70ce07e6",
   "metadata": {},
   "outputs": [
    {
     "data": {
      "text/plain": [
       "Date  Date\n",
       "2022  1       1687\n",
       "      2       1487\n",
       "      3        825\n",
       "Name: Date, dtype: int64"
      ]
     },
     "execution_count": 55,
     "metadata": {},
     "output_type": "execute_result"
    }
   ],
   "source": [
    "new_df['Date'].groupby([new_df[\"Date\"].dt.year, new_df[\"Date\"].dt.month]).count()"
   ]
  },
  {
   "cell_type": "markdown",
   "id": "dcf9ffa5",
   "metadata": {},
   "source": [
    "#### Part of a Policing Operation"
   ]
  },
  {
   "cell_type": "code",
   "execution_count": 34,
   "id": "ffcdf8fb",
   "metadata": {},
   "outputs": [
    {
     "data": {
      "text/plain": [
       "False    2240\n",
       "NaN      1309\n",
       "True      450\n",
       "Name: Part of a policing operation, dtype: int64"
      ]
     },
     "execution_count": 34,
     "metadata": {},
     "output_type": "execute_result"
    }
   ],
   "source": [
    "# check whether the search opperation was part of a policing operation or not \n",
    "new_df['Part of a policing operation'].value_counts(dropna=False)"
   ]
  },
  {
   "cell_type": "code",
   "execution_count": 35,
   "id": "0f068c08",
   "metadata": {},
   "outputs": [
    {
     "data": {
      "text/plain": [
       "False    0.560140\n",
       "NaN      0.327332\n",
       "True     0.112528\n",
       "Name: Part of a policing operation, dtype: float64"
      ]
     },
     "execution_count": 35,
     "metadata": {},
     "output_type": "execute_result"
    }
   ],
   "source": [
    "# check whether the search opperation was part of a policing operation or not (normalized)\n",
    "new_df['Part of a policing operation'].value_counts(dropna=False,normalize=True)"
   ]
  },
  {
   "cell_type": "code",
   "execution_count": 36,
   "id": "4c81e12f",
   "metadata": {},
   "outputs": [
    {
     "data": {
      "image/png": "[encoded data removed]",
      "text/plain": [
       "<Figure size 400x200 with 1 Axes>"
      ]
     },
     "metadata": {},
     "output_type": "display_data"
    }
   ],
   "source": [
    "# Plot a bar-plot of \"Part of a Policing Operation\" feature\n",
    "plt.figure(figsize=(4,2))\n",
    "plt.title('Part of a policing operation')\n",
    "plt.xlabel('Percentage of operations (%)')\n",
    "new_df['Part of a policing operation'].value_counts(normalize=True,dropna=False).plot(kind='barh')\n",
    "plt.xticks([0,0.2,0.4,0.6,0.8],['0','20','40','60','80'])\n",
    "plt.yticks([0,1,2],['No','Uknown', 'Yes'])\n",
    "sns.despine()"
   ]
  },
  {
   "cell_type": "markdown",
   "id": "c0b8d8ab",
   "metadata": {},
   "source": [
    "#### Gender"
   ]
  },
  {
   "cell_type": "code",
   "execution_count": 37,
   "id": "a68333e9",
   "metadata": {},
   "outputs": [
    {
     "data": {
      "text/plain": [
       "Male      3506\n",
       "Female     467\n",
       "Other       26\n",
       "Name: Gender, dtype: int64"
      ]
     },
     "execution_count": 37,
     "metadata": {},
     "output_type": "execute_result"
    }
   ],
   "source": [
    "# check the gender of the target of the search opperation\n",
    "new_df['Gender'].value_counts(dropna=False)"
   ]
  },
  {
   "cell_type": "code",
   "execution_count": 38,
   "id": "6e5af16e",
   "metadata": {},
   "outputs": [
    {
     "data": {
      "text/plain": [
       "Male      0.876719\n",
       "Female    0.116779\n",
       "Other     0.006502\n",
       "Name: Gender, dtype: float64"
      ]
     },
     "execution_count": 38,
     "metadata": {},
     "output_type": "execute_result"
    }
   ],
   "source": [
    "# check the gender of the target of the search opperation (normalized)\n",
    "new_df['Gender'].value_counts(dropna=False,normalize=True)"
   ]
  },
  {
   "cell_type": "code",
   "execution_count": 39,
   "id": "aaaf12c5",
   "metadata": {},
   "outputs": [
    {
     "data": {
      "image/png": "[encoded data removed]",
      "text/plain": [
       "<Figure size 300x100 with 1 Axes>"
      ]
     },
     "metadata": {},
     "output_type": "display_data"
    }
   ],
   "source": [
    "# Plot a bar-plot of \"Part of a Policing Operation\" feature\n",
    "plt.figure(figsize=(3,1))\n",
    "plt.title('Gender')\n",
    "plt.xlabel('Percentage of operations (%)')\n",
    "new_df['Gender'].value_counts(normalize=True,dropna=False).plot(kind='barh',rot=0)\n",
    "plt.xticks([0,0.2,0.4,0.6,0.8,1],['0','20','40','60','80','100'])\n",
    "sns.despine()"
   ]
  },
  {
   "cell_type": "markdown",
   "id": "74b05c6b",
   "metadata": {},
   "source": [
    "#### Age"
   ]
  },
  {
   "cell_type": "code",
   "execution_count": 40,
   "id": "e5825887",
   "metadata": {},
   "outputs": [
    {
     "data": {
      "text/plain": [
       "over 34     1185\n",
       "18-24       1143\n",
       "25-34       1028\n",
       "10-17        635\n",
       "under 10       8\n",
       "Name: Age range, dtype: int64"
      ]
     },
     "execution_count": 40,
     "metadata": {},
     "output_type": "execute_result"
    }
   ],
   "source": [
    "# check the age of the target of the search opperation\n",
    "new_df['Age range'].value_counts(dropna=False)"
   ]
  },
  {
   "cell_type": "code",
   "execution_count": 41,
   "id": "89a94e0b",
   "metadata": {},
   "outputs": [
    {
     "data": {
      "text/plain": [
       "over 34     0.296324\n",
       "18-24       0.285821\n",
       "25-34       0.257064\n",
       "10-17       0.158790\n",
       "under 10    0.002001\n",
       "Name: Age range, dtype: float64"
      ]
     },
     "execution_count": 41,
     "metadata": {},
     "output_type": "execute_result"
    }
   ],
   "source": [
    "# check the age of the target of the search opperation (normalized)\n",
    "new_df['Age range'].value_counts(dropna=False,normalize=True)"
   ]
  },
  {
   "cell_type": "code",
   "execution_count": 42,
   "id": "d8bea63e",
   "metadata": {},
   "outputs": [
    {
     "data": {
      "image/png": "[encoded data removed]",
      "text/plain": [
       "<Figure size 400x200 with 1 Axes>"
      ]
     },
     "metadata": {},
     "output_type": "display_data"
    }
   ],
   "source": [
    "# list with order of ages\n",
    "order = [\"over 34\",\"25-34\",\"18-24\",\"10-17\",\"under 10\"]\n",
    "\n",
    "# plot histogram with distribuition of ages in dataset\n",
    "plt.figure(figsize=(4,2))\n",
    "plt.title('Age range')\n",
    "plt.xlabel('Percentage of operations (%)')\n",
    "new_df['Age range'].value_counts(normalize=True,dropna=False).reindex(order).plot(kind='barh')\n",
    "plt.xticks([0,0.1,0.2,0.3,0.4],['0','10','20','30','40'])\n",
    "sns.despine()"
   ]
  },
  {
   "cell_type": "markdown",
   "id": "77183486",
   "metadata": {},
   "source": [
    "#### Self-defined ethnicity"
   ]
  },
  {
   "cell_type": "code",
   "execution_count": 43,
   "id": "ac0145ca",
   "metadata": {},
   "outputs": [
    {
     "data": {
      "text/plain": [
       "White    2992\n",
       "Black     465\n",
       "Asian     399\n",
       "Other      86\n",
       "Mixed      57\n",
       "Name: Officer-defined ethnicity, dtype: int64"
      ]
     },
     "execution_count": 43,
     "metadata": {},
     "output_type": "execute_result"
    }
   ],
   "source": [
    "# check the officer-defined ethinicity of the target of the search opperation\n",
    "new_df['Officer-defined ethnicity'].value_counts(dropna=False)"
   ]
  },
  {
   "cell_type": "code",
   "execution_count": 44,
   "id": "48cb61e6",
   "metadata": {},
   "outputs": [
    {
     "data": {
      "text/plain": [
       "White    0.748187\n",
       "Black    0.116279\n",
       "Asian    0.099775\n",
       "Other    0.021505\n",
       "Mixed    0.014254\n",
       "Name: Officer-defined ethnicity, dtype: float64"
      ]
     },
     "execution_count": 44,
     "metadata": {},
     "output_type": "execute_result"
    }
   ],
   "source": [
    "# check the officer-defined ethinicity of the target of the search opperation (normalized)\n",
    "new_df['Officer-defined ethnicity'].value_counts(dropna=False,normalize=True)"
   ]
  },
  {
   "cell_type": "code",
   "execution_count": 45,
   "id": "14727f8b",
   "metadata": {},
   "outputs": [
    {
     "data": {
      "image/png": "[encoded data removed]",
      "text/plain": [
       "<Figure size 400x200 with 1 Axes>"
      ]
     },
     "metadata": {},
     "output_type": "display_data"
    }
   ],
   "source": [
    "# plot histogram with distribuition of officer-defined ethnicities in dataset\n",
    "plt.figure(figsize=(4,2))\n",
    "plt.title('Officer-defined ethnicity')\n",
    "plt.xlabel('Percentage of operations (%)')\n",
    "new_df['Officer-defined ethnicity'].value_counts(normalize=True,dropna=False).plot(kind='barh')\n",
    "plt.xticks([0,0.2,0.4,0.6,0.8],['0','20','40','60','80'])\n",
    "sns.despine()"
   ]
  },
  {
   "cell_type": "markdown",
   "id": "d22a2ebc",
   "metadata": {},
   "source": [
    "#### Legislation"
   ]
  },
  {
   "cell_type": "code",
   "execution_count": 46,
   "id": "404bcd84",
   "metadata": {},
   "outputs": [
    {
     "data": {
      "text/plain": [
       "Misuse of Drugs Act 1971 (section 23)                      2778\n",
       "Police and Criminal Evidence Act 1984 (section 1)          1174\n",
       "Criminal Justice Act 1988 (section 139B)                     26\n",
       "Criminal Justice and Public Order Act 1994 (section 60)       8\n",
       "Firearms Act 1968 (section 47)                                7\n",
       "Poaching Prevention Act 1862 (section 2)                      5\n",
       "Psychoactive Substances Act 2016 (s36(2))                     1\n",
       "Name: Legislation, dtype: int64"
      ]
     },
     "execution_count": 46,
     "metadata": {},
     "output_type": "execute_result"
    }
   ],
   "source": [
    "# check the legislation under which the search opperation was conducted\n",
    "new_df['Legislation'].value_counts(dropna=False)"
   ]
  },
  {
   "cell_type": "code",
   "execution_count": 56,
   "id": "98dca6c1",
   "metadata": {},
   "outputs": [
    {
     "data": {
      "text/plain": [
       "Misuse of Drugs Act 1971 (section 23)                      69.467367\n",
       "Police and Criminal Evidence Act 1984 (section 1)          29.357339\n",
       "Criminal Justice Act 1988 (section 139B)                    0.650163\n",
       "Criminal Justice and Public Order Act 1994 (section 60)     0.200050\n",
       "Firearms Act 1968 (section 47)                              0.175044\n",
       "Poaching Prevention Act 1862 (section 2)                    0.125031\n",
       "Psychoactive Substances Act 2016 (s36(2))                   0.025006\n",
       "Name: Legislation, dtype: float64"
      ]
     },
     "execution_count": 56,
     "metadata": {},
     "output_type": "execute_result"
    }
   ],
   "source": [
    "# check the legislation under which the search opperation was conducted\n",
    "new_df['Legislation'].value_counts(dropna=False, normalize=True) * 100"
   ]
  },
  {
   "cell_type": "code",
   "execution_count": 47,
   "id": "bf835863",
   "metadata": {},
   "outputs": [
    {
     "data": {
      "text/plain": [
       "7"
      ]
     },
     "execution_count": 47,
     "metadata": {},
     "output_type": "execute_result"
    }
   ],
   "source": [
    "new_df['Legislation'].nunique()"
   ]
  },
  {
   "cell_type": "code",
   "execution_count": 48,
   "id": "28a519fa",
   "metadata": {},
   "outputs": [
    {
     "data": {
      "image/png": "[encoded data removed]",
      "text/plain": [
       "<Figure size 500x200 with 1 Axes>"
      ]
     },
     "metadata": {},
     "output_type": "display_data"
    }
   ],
   "source": [
    "# plot a histogram of all legislations\n",
    "plt.figure(figsize=(5,2))\n",
    "plt.title('Legislation')\n",
    "new_df['Legislation'].value_counts(normalize=True,dropna=False).plot(kind='barh')\n",
    "plt.ylabel('Legislation')\n",
    "plt.xlabel('Percentage of operations (%)')\n",
    "plt.xticks([0,0.2,0.4,0.6,0.8],[\"0\",\"20\",\"40\",\"60\",\"80\"])\n",
    "sns.despine()"
   ]
  },
  {
   "cell_type": "markdown",
   "id": "165cb453",
   "metadata": {},
   "source": [
    "#### Object of Search"
   ]
  },
  {
   "cell_type": "code",
   "execution_count": 49,
   "id": "85a8b911",
   "metadata": {},
   "outputs": [
    {
     "data": {
      "text/plain": [
       "Controlled drugs                       2783\n",
       "Offensive weapons                       500\n",
       "Article for use in theft                399\n",
       "Stolen goods                            262\n",
       "Articles for use in criminal damage      26\n",
       "Firearms                                 10\n",
       "Fireworks                                 8\n",
       "Game or poaching equipment                5\n",
       "Evidence of offences under the Act        5\n",
       "Psychoactive substances                   1\n",
       "Name: Object of search, dtype: int64"
      ]
     },
     "execution_count": 49,
     "metadata": {},
     "output_type": "execute_result"
    }
   ],
   "source": [
    "# check the \"reason\"/object of the search opperation was conducted\n",
    "new_df['Object of search'].value_counts(dropna=False)"
   ]
  },
  {
   "cell_type": "code",
   "execution_count": 50,
   "id": "7df0f482",
   "metadata": {},
   "outputs": [
    {
     "data": {
      "text/plain": [
       "Controlled drugs                       69.592398\n",
       "Offensive weapons                      12.503126\n",
       "Article for use in theft                9.977494\n",
       "Stolen goods                            6.551638\n",
       "Articles for use in criminal damage     0.650163\n",
       "Firearms                                0.250063\n",
       "Fireworks                               0.200050\n",
       "Game or poaching equipment              0.125031\n",
       "Evidence of offences under the Act      0.125031\n",
       "Psychoactive substances                 0.025006\n",
       "Name: Object of search, dtype: float64"
      ]
     },
     "execution_count": 50,
     "metadata": {},
     "output_type": "execute_result"
    }
   ],
   "source": [
    "# check the \"reason\"/object of the search opperation was conducted (normalized)\n",
    "new_df['Object of search'].value_counts(dropna=False, normalize=True) * 100"
   ]
  },
  {
   "cell_type": "code",
   "execution_count": 57,
   "id": "77b11f08",
   "metadata": {},
   "outputs": [
    {
     "data": {
      "text/plain": [
       "10"
      ]
     },
     "execution_count": 57,
     "metadata": {},
     "output_type": "execute_result"
    }
   ],
   "source": [
    "new_df['Object of search'].nunique()"
   ]
  },
  {
   "cell_type": "code",
   "execution_count": 51,
   "id": "7550d0a4",
   "metadata": {},
   "outputs": [
    {
     "data": {
      "image/png": "[encoded data removed]",
      "text/plain": [
       "<Figure size 800x200 with 1 Axes>"
      ]
     },
     "metadata": {},
     "output_type": "display_data"
    }
   ],
   "source": [
    "# plot a histogram of main \"object of search\" category\n",
    "plt.figure(figsize=(8,2))\n",
    "plt.title('Object of search')\n",
    "new_df['Object of search'].value_counts(normalize=True,dropna=False).plot(kind='barh')\n",
    "plt.ylabel('Object of search')\n",
    "plt.xlabel('Percentage of operations (%)')\n",
    "plt.xticks([0,0.2,0.4,0.6,0.8],[\"0\",\"20\",\"40\",\"60\",\"80\"])\n",
    "plt.ylim(-0.5,3.5)\n",
    "sns.despine()"
   ]
  },
  {
   "cell_type": "markdown",
   "id": "c07eeb09",
   "metadata": {},
   "source": [
    "#### Police station"
   ]
  },
  {
   "cell_type": "code",
   "execution_count": 52,
   "id": "0b76441f",
   "metadata": {
    "scrolled": true
   },
   "outputs": [
    {
     "data": {
      "text/plain": [
       "devon-and-cornwall    1090\n",
       "bedfordshire           827\n",
       "nottinghamshire        758\n",
       "city-of-london         473\n",
       "cambridgeshire         430\n",
       "durham                 421\n",
       "Name: station, dtype: int64"
      ]
     },
     "execution_count": 52,
     "metadata": {},
     "output_type": "execute_result"
    }
   ],
   "source": [
    "# check the outcome of the search opperation\n",
    "new_df['station'].value_counts(dropna=False)"
   ]
  },
  {
   "cell_type": "code",
   "execution_count": 53,
   "id": "bc5cf3bf",
   "metadata": {},
   "outputs": [
    {
     "data": {
      "text/plain": [
       "devon-and-cornwall    27.256814\n",
       "bedfordshire          20.680170\n",
       "nottinghamshire       18.954739\n",
       "city-of-london        11.827957\n",
       "cambridgeshire        10.752688\n",
       "durham                10.527632\n",
       "Name: station, dtype: float64"
      ]
     },
     "execution_count": 53,
     "metadata": {},
     "output_type": "execute_result"
    }
   ],
   "source": [
    "# Check the station which conducted the search opperation\n",
    "new_df['station'].value_counts(dropna=False, normalize=True)*100"
   ]
  },
  {
   "cell_type": "code",
   "execution_count": 54,
   "id": "d74f5654",
   "metadata": {},
   "outputs": [
    {
     "data": {
      "text/plain": [
       "6"
      ]
     },
     "execution_count": 54,
     "metadata": {},
     "output_type": "execute_result"
    }
   ],
   "source": [
    "new_df['station'].nunique()"
   ]
  },
  {
   "cell_type": "markdown",
   "id": "b97a6ff0",
   "metadata": {},
   "source": [
    "#### Predicted Successful Searches"
   ]
  },
  {
   "cell_type": "code",
   "execution_count": 39,
   "id": "a91f4044",
   "metadata": {},
   "outputs": [
    {
     "data": {
      "text/plain": [
       "True     50.162541\n",
       "False    49.837459\n",
       "Name: pred, dtype: float64"
      ]
     },
     "execution_count": 39,
     "metadata": {},
     "output_type": "execute_result"
    }
   ],
   "source": [
    "new_df['pred'].value_counts(dropna=False,normalize=True)*100"
   ]
  },
  {
   "cell_type": "code",
   "execution_count": 70,
   "id": "79df0ea7",
   "metadata": {},
   "outputs": [
    {
     "data": {
      "image/png": "[encoded data removed]",
      "text/plain": [
       "<Figure size 300x100 with 1 Axes>"
      ]
     },
     "metadata": {},
     "output_type": "display_data"
    }
   ],
   "source": [
    "plt.figure(figsize=(3,1))\n",
    "plt.title('Predicted Searches')\n",
    "plt.xlabel('Percentage of operations (%)')\n",
    "new_df['pred'].fillna(False).value_counts(normalize=True,dropna=False).plot(kind='barh',rot=0, color='orange')\n",
    "plt.xticks([0,0.2,0.4,0.6,0.8,1],['0','20','40','60','80','100'])\n",
    "plt.yticks([0,1],['Unsuccessful','Successful'])\n",
    "sns.despine()"
   ]
  },
  {
   "cell_type": "markdown",
   "id": "754b2351",
   "metadata": {},
   "source": [
    "#### Successful Searches"
   ]
  },
  {
   "cell_type": "code",
   "execution_count": 41,
   "id": "f9951b24",
   "metadata": {},
   "outputs": [
    {
     "data": {
      "text/plain": [
       "0.0    78.144536\n",
       "1.0    21.855464\n",
       "Name: true_class, dtype: float64"
      ]
     },
     "execution_count": 41,
     "metadata": {},
     "output_type": "execute_result"
    }
   ],
   "source": [
    "new_df['true_class'].value_counts(dropna=False,normalize=True)*100"
   ]
  },
  {
   "cell_type": "code",
   "execution_count": 69,
   "id": "864dba48",
   "metadata": {},
   "outputs": [
    {
     "data": {
      "image/png": "[encoded data removed]",
      "text/plain": [
       "<Figure size 300x100 with 1 Axes>"
      ]
     },
     "metadata": {},
     "output_type": "display_data"
    }
   ],
   "source": [
    "plt.figure(figsize=(3,1))\n",
    "plt.title('Actual Searches')\n",
    "plt.xlabel('Percentage of operations (%)')\n",
    "new_df['true_class'].fillna(False).value_counts(normalize=True,dropna=False).plot(kind='barh',rot=0)\n",
    "plt.xticks([0,0.2,0.4,0.6,0.8,1],['0','20','40','60','80','100'])\n",
    "plt.yticks([0,1],['Unsuccessful','Successful'])\n",
    "sns.despine()"
   ]
  },
  {
   "cell_type": "code",
   "execution_count": 43,
   "id": "4d10e951",
   "metadata": {},
   "outputs": [
    {
     "data": {
      "text/plain": [
       "station\n",
       "bedfordshire           827\n",
       "cambridgeshire         430\n",
       "city-of-london         473\n",
       "devon-and-cornwall    1090\n",
       "durham                 421\n",
       "nottinghamshire        758\n",
       "Name: true_class, dtype: int64"
      ]
     },
     "execution_count": 43,
     "metadata": {},
     "output_type": "execute_result"
    }
   ],
   "source": [
    "new_df.groupby(['station']).count()['true_class']"
   ]
  },
  {
   "cell_type": "code",
   "execution_count": 44,
   "id": "0809aa2d",
   "metadata": {},
   "outputs": [
    {
     "data": {
      "text/plain": [
       "station\n",
       "bedfordshire          653\n",
       "cambridgeshire        314\n",
       "city-of-london        367\n",
       "devon-and-cornwall    896\n",
       "durham                310\n",
       "nottinghamshire       585\n",
       "Name: true_class, dtype: int64"
      ]
     },
     "execution_count": 44,
     "metadata": {},
     "output_type": "execute_result"
    }
   ],
   "source": [
    "new_df[new_df['true_class']==0].groupby(['station']).count()['true_class']"
   ]
  },
  {
   "cell_type": "code",
   "execution_count": 45,
   "id": "2486b733",
   "metadata": {},
   "outputs": [
    {
     "data": {
      "text/plain": [
       "station\n",
       "bedfordshire          174\n",
       "cambridgeshire        116\n",
       "city-of-london        106\n",
       "devon-and-cornwall    194\n",
       "durham                111\n",
       "nottinghamshire       173\n",
       "Name: true_class, dtype: int64"
      ]
     },
     "execution_count": 45,
     "metadata": {},
     "output_type": "execute_result"
    }
   ],
   "source": [
    "new_df[new_df['true_class']==1].groupby(['station']).count()['true_class']"
   ]
  },
  {
   "cell_type": "code",
   "execution_count": 46,
   "id": "a1e437ea",
   "metadata": {},
   "outputs": [
    {
     "data": {
      "text/plain": [
       "station             true_class\n",
       "bedfordshire        0.0           78.960097\n",
       "                    1.0           21.039903\n",
       "cambridgeshire      0.0           73.023256\n",
       "                    1.0           26.976744\n",
       "city-of-london      0.0           77.589852\n",
       "                    1.0           22.410148\n",
       "devon-and-cornwall  0.0           82.201835\n",
       "                    1.0           17.798165\n",
       "durham              0.0           73.634204\n",
       "                    1.0           26.365796\n",
       "nottinghamshire     0.0           77.176781\n",
       "                    1.0           22.823219\n",
       "Name: true_class, dtype: float64"
      ]
     },
     "execution_count": 46,
     "metadata": {},
     "output_type": "execute_result"
    }
   ],
   "source": [
    "counts_by_station = new_df.groupby('station')['true_class'].value_counts(normalize=True)*100\n",
    "counts_by_station"
   ]
  },
  {
   "cell_type": "code",
   "execution_count": 47,
   "id": "e68d1fee",
   "metadata": {},
   "outputs": [
    {
     "data": {
      "image/png": "[encoded data removed]",
      "text/plain": [
       "<Figure size 600x300 with 1 Axes>"
      ]
     },
     "metadata": {},
     "output_type": "display_data"
    }
   ],
   "source": [
    "counts_by_station.unstack().plot.barh(rot=0, width=0.5,figsize=(6,3))\n",
    "plt.ylabel('Police station')\n",
    "plt.xlabel('Percentage')\n",
    "plt.title('Percentage of Successful Searches')\n",
    "plt.legend(labels=['False', 'True'],frameon=False, ncol=1, bbox_to_anchor=(1, 1.05))\n",
    "sns.despine()\n",
    "plt.tight_layout()"
   ]
  },
  {
   "cell_type": "markdown",
   "id": "0a00cd98",
   "metadata": {},
   "source": [
    "### EVALUATION ON DISCRIMINATION REQUIREMENTS"
   ]
  },
  {
   "cell_type": "code",
   "execution_count": 48,
   "id": "887d36d3",
   "metadata": {},
   "outputs": [],
   "source": [
    "def verify_no_discrimination_stations(X_test, y_true, y_pred, sensitive_column, max_diff=0.05):\n",
    "    \"\"\"\n",
    "    Verifies that no subdeparment has discrimination between \"sensitive_column\" categories\n",
    "    \n",
    "    \"\"\"\n",
    "    \n",
    "    departments = X_test['station'].unique()\n",
    "    sensitive_classes = X_test[sensitive_column].unique()\n",
    "    \n",
    "    is_satisfied = True\n",
    "    problematic_departments = []\n",
    "    good_departments = []\n",
    "    for department in departments:\n",
    "        precisions = {}\n",
    "        for sensitive_class in sensitive_classes:\n",
    "            mask = (X_test[sensitive_column] == sensitive_class) & (X_test['station'] == department)\n",
    "            if mask.sum():\n",
    "                precisions[sensitive_class] = precision_score(y_true[mask], y_pred[mask], pos_label=1, zero_division=0)\n",
    "                \n",
    "        diff = np.max(list(precisions.values())) - np.min(list(precisions.values()))\n",
    "        if diff > max_diff:\n",
    "            is_satisfied = False\n",
    "            problematic_departments.append((department, diff, precisions))\n",
    "        else:\n",
    "            good_departments.append((department, diff, precisions))\n",
    "\n",
    "    return is_satisfied, problematic_departments, good_departments"
   ]
  },
  {
   "cell_type": "code",
   "execution_count": 50,
   "id": "c24f4c3d",
   "metadata": {},
   "outputs": [
    {
     "data": {
      "text/html": [
       "<div>\n",
       "<style scoped>\n",
       "    .dataframe tbody tr th:only-of-type {\n",
       "        vertical-align: middle;\n",
       "    }\n",
       "\n",
       "    .dataframe tbody tr th {\n",
       "        vertical-align: top;\n",
       "    }\n",
       "\n",
       "    .dataframe thead th {\n",
       "        text-align: right;\n",
       "    }\n",
       "</style>\n",
       "<table border=\"1\" class=\"dataframe\">\n",
       "  <thead>\n",
       "    <tr style=\"text-align: right;\">\n",
       "      <th></th>\n",
       "      <th>Type</th>\n",
       "      <th>Date</th>\n",
       "      <th>Part of a policing operation</th>\n",
       "      <th>Latitude</th>\n",
       "      <th>Longitude</th>\n",
       "      <th>Gender</th>\n",
       "      <th>Age range</th>\n",
       "      <th>Officer-defined ethnicity</th>\n",
       "      <th>Legislation</th>\n",
       "      <th>Object of search</th>\n",
       "      <th>station</th>\n",
       "      <th>proba</th>\n",
       "      <th>pred</th>\n",
       "      <th>true_class</th>\n",
       "    </tr>\n",
       "  </thead>\n",
       "  <tbody>\n",
       "    <tr>\n",
       "      <th>0</th>\n",
       "      <td>Person and Vehicle search</td>\n",
       "      <td>2022-01-01 03:08:37+00:00</td>\n",
       "      <td>NaN</td>\n",
       "      <td>52.312706</td>\n",
       "      <td>-0.225271</td>\n",
       "      <td>Male</td>\n",
       "      <td>18-24</td>\n",
       "      <td>White</td>\n",
       "      <td>Misuse of Drugs Act 1971 (section 23)</td>\n",
       "      <td>Controlled drugs</td>\n",
       "      <td>cambridgeshire</td>\n",
       "      <td>0.715158</td>\n",
       "      <td>True</td>\n",
       "      <td>1.0</td>\n",
       "    </tr>\n",
       "    <tr>\n",
       "      <th>1</th>\n",
       "      <td>Person search</td>\n",
       "      <td>2022-01-01 04:29:00+00:00</td>\n",
       "      <td>True</td>\n",
       "      <td>50.625847</td>\n",
       "      <td>-3.546839</td>\n",
       "      <td>Female</td>\n",
       "      <td>25-34</td>\n",
       "      <td>White</td>\n",
       "      <td>Misuse of Drugs Act 1971 (section 23)</td>\n",
       "      <td>Controlled drugs</td>\n",
       "      <td>devon-and-cornwall</td>\n",
       "      <td>0.446089</td>\n",
       "      <td>False</td>\n",
       "      <td>0.0</td>\n",
       "    </tr>\n",
       "    <tr>\n",
       "      <th>2</th>\n",
       "      <td>Person search</td>\n",
       "      <td>2022-01-01 05:50:23+00:00</td>\n",
       "      <td>NaN</td>\n",
       "      <td>51.518091</td>\n",
       "      <td>-0.078308</td>\n",
       "      <td>Male</td>\n",
       "      <td>18-24</td>\n",
       "      <td>White</td>\n",
       "      <td>Police and Criminal Evidence Act 1984 (section 1)</td>\n",
       "      <td>Offensive weapons</td>\n",
       "      <td>city-of-london</td>\n",
       "      <td>0.127540</td>\n",
       "      <td>False</td>\n",
       "      <td>0.0</td>\n",
       "    </tr>\n",
       "    <tr>\n",
       "      <th>3</th>\n",
       "      <td>Person search</td>\n",
       "      <td>2022-01-01 07:34:03+00:00</td>\n",
       "      <td>NaN</td>\n",
       "      <td>51.506255</td>\n",
       "      <td>-0.074901</td>\n",
       "      <td>Male</td>\n",
       "      <td>10-17</td>\n",
       "      <td>Asian</td>\n",
       "      <td>Police and Criminal Evidence Act 1984 (section 1)</td>\n",
       "      <td>Offensive weapons</td>\n",
       "      <td>city-of-london</td>\n",
       "      <td>0.173887</td>\n",
       "      <td>False</td>\n",
       "      <td>0.0</td>\n",
       "    </tr>\n",
       "    <tr>\n",
       "      <th>4</th>\n",
       "      <td>Person search</td>\n",
       "      <td>2022-01-01 16:43:00+00:00</td>\n",
       "      <td>False</td>\n",
       "      <td>50.725010</td>\n",
       "      <td>-3.524855</td>\n",
       "      <td>Male</td>\n",
       "      <td>25-34</td>\n",
       "      <td>White</td>\n",
       "      <td>Misuse of Drugs Act 1971 (section 23)</td>\n",
       "      <td>Controlled drugs</td>\n",
       "      <td>devon-and-cornwall</td>\n",
       "      <td>0.462372</td>\n",
       "      <td>False</td>\n",
       "      <td>1.0</td>\n",
       "    </tr>\n",
       "  </tbody>\n",
       "</table>\n",
       "</div>"
      ],
      "text/plain": [
       "                        Type                      Date  \\\n",
       "0  Person and Vehicle search 2022-01-01 03:08:37+00:00   \n",
       "1              Person search 2022-01-01 04:29:00+00:00   \n",
       "2              Person search 2022-01-01 05:50:23+00:00   \n",
       "3              Person search 2022-01-01 07:34:03+00:00   \n",
       "4              Person search 2022-01-01 16:43:00+00:00   \n",
       "\n",
       "  Part of a policing operation   Latitude  Longitude  Gender Age range  \\\n",
       "0                          NaN  52.312706  -0.225271    Male     18-24   \n",
       "1                         True  50.625847  -3.546839  Female     25-34   \n",
       "2                          NaN  51.518091  -0.078308    Male     18-24   \n",
       "3                          NaN  51.506255  -0.074901    Male     10-17   \n",
       "4                        False  50.725010  -3.524855    Male     25-34   \n",
       "\n",
       "  Officer-defined ethnicity  \\\n",
       "0                     White   \n",
       "1                     White   \n",
       "2                     White   \n",
       "3                     Asian   \n",
       "4                     White   \n",
       "\n",
       "                                         Legislation   Object of search  \\\n",
       "0              Misuse of Drugs Act 1971 (section 23)   Controlled drugs   \n",
       "1              Misuse of Drugs Act 1971 (section 23)   Controlled drugs   \n",
       "2  Police and Criminal Evidence Act 1984 (section 1)  Offensive weapons   \n",
       "3  Police and Criminal Evidence Act 1984 (section 1)  Offensive weapons   \n",
       "4              Misuse of Drugs Act 1971 (section 23)   Controlled drugs   \n",
       "\n",
       "              station     proba   pred  true_class  \n",
       "0      cambridgeshire  0.715158   True         1.0  \n",
       "1  devon-and-cornwall  0.446089  False         0.0  \n",
       "2      city-of-london  0.127540  False         0.0  \n",
       "3      city-of-london  0.173887  False         0.0  \n",
       "4  devon-and-cornwall  0.462372  False         1.0  "
      ]
     },
     "execution_count": 50,
     "metadata": {},
     "output_type": "execute_result"
    }
   ],
   "source": [
    "new_df.head()"
   ]
  },
  {
   "cell_type": "code",
   "execution_count": 58,
   "id": "993cfd80",
   "metadata": {},
   "outputs": [],
   "source": [
    "# Split the data into features and target\n",
    "X_test = new_df\n",
    "y_test = new_df['true_class']\n",
    "y_preds = new_df['pred']"
   ]
  },
  {
   "cell_type": "code",
   "execution_count": 59,
   "id": "ec05f709",
   "metadata": {},
   "outputs": [],
   "source": [
    "def verify_no_discrimination_stations(X_test, y_true, y_pred, sensitive_column, max_diff=0.05):\n",
    "    \"\"\"\n",
    "    Verifies that no subdeparment has discrimination between \"sensitive_column\" categories\n",
    "    \n",
    "    \"\"\"\n",
    "    \n",
    "    departments = X_test['station'].unique()\n",
    "    sensitive_classes = X_test[sensitive_column].unique()\n",
    "    \n",
    "    is_satisfied = True\n",
    "    problematic_departments = []\n",
    "    good_departments = []\n",
    "    for department in departments:\n",
    "        precisions = {}\n",
    "        for sensitive_class in sensitive_classes:\n",
    "            mask = (X_test[sensitive_column] == sensitive_class) & (X_test['station'] == department)\n",
    "            if mask.sum():\n",
    "                precisions[sensitive_class] = precision_score(y_true[mask], y_pred[mask], pos_label=1, zero_division=0)\n",
    "                \n",
    "        diff = np.max(list(precisions.values())) - np.min(list(precisions.values()))\n",
    "        if diff > max_diff:\n",
    "            is_satisfied = False\n",
    "            problematic_departments.append((department, diff, precisions))\n",
    "        else:\n",
    "            good_departments.append((department, diff, precisions))\n",
    "\n",
    "    return is_satisfied, problematic_departments, good_departments"
   ]
  },
  {
   "cell_type": "code",
   "execution_count": 64,
   "id": "7c8cac58",
   "metadata": {},
   "outputs": [
    {
     "name": "stdout",
     "output_type": "stream",
     "text": [
      "Officer-defined ethnicity:\n",
      "\n",
      "Requirement failed 😢\n",
      "Num problematic departments: 6\n",
      "Num good departments: 0\n",
      "\n",
      "\n",
      "Problematic departments: ['cambridgeshire', 'devon-and-cornwall', 'city-of-london', 'bedfordshire', 'durham', 'nottinghamshire']\n",
      "\n",
      "\n",
      "Good departments: []\n",
      "\n",
      "\n",
      "avg diff: 0.3820252701633342\n",
      "Departments analysed: 6\n"
     ]
    }
   ],
   "source": [
    "# Evaluate the model success between (officer-defined) ethnicities\n",
    "print(\"Officer-defined ethnicity:\\n\")\n",
    "\n",
    "is_satisfied, problematic_departments, good_departments = verify_no_discrimination_stations(\n",
    "    X_test, y_test, preds, sensitive_column='Officer-defined ethnicity',max_diff=0.05)\n",
    "\n",
    "\n",
    "if not is_satisfied:\n",
    "    print(\"Requirement failed 😢\")\n",
    "    print(\"Num problematic departments: {}\".format(len(problematic_departments)))\n",
    "    print(\"Num good departments: {}\".format(len(good_departments)))\n",
    "    print ('\\n')\n",
    "    print (\"Problematic departments:\",[i[0] for i in problematic_departments])\n",
    "    print ('\\n')\n",
    "    print (\"Good departments:\",[i[0] for i in good_departments])\n",
    "    print ('\\n')\n",
    "    print(\"avg diff:\", np.mean([p[1] for p in problematic_departments]))\n",
    "\n",
    "print(\"Departments analysed: {}\".format(len(problematic_departments) + len(good_departments)))"
   ]
  },
  {
   "cell_type": "code",
   "execution_count": 61,
   "id": "05426d44",
   "metadata": {},
   "outputs": [],
   "source": [
    "def verify_no_discrimination_object_of_search(X_test, y_true, y_pred, sensitive_column, max_diff=0.05):\n",
    "    \"\"\"\n",
    "    Verifies that no subdeparment has discrimination between \"sensitive_column\" categories\n",
    "    \n",
    "    \"\"\"\n",
    "    \n",
    "    departments = X_test['Object of search'].unique()\n",
    "    sensitive_classes = X_test[sensitive_column].unique()\n",
    "    \n",
    "    is_satisfied = True\n",
    "    problematic_departments = []\n",
    "    good_deparments = []\n",
    "    for department in departments:\n",
    "        precisions = {}\n",
    "        for sensitive_class in sensitive_classes:\n",
    "            mask = (X_test[sensitive_column] == sensitive_class) & (X_test['Object of search'] == department)\n",
    "            if mask.sum():\n",
    "                precisions[sensitive_class] = precision_score(y_true[mask], y_pred[mask], pos_label=1, zero_division=0)\n",
    "                \n",
    "        diff = np.max(list(precisions.values())) - np.min(list(precisions.values()))\n",
    "        if diff > max_diff:\n",
    "            is_satisfied = False\n",
    "            problematic_departments.append((department, diff, precisions))\n",
    "        else:\n",
    "            good_deparments.append((department, diff, precisions))\n",
    "\n",
    "    return is_satisfied, problematic_departments, good_deparments"
   ]
  },
  {
   "cell_type": "code",
   "execution_count": 62,
   "id": "f5d7e801",
   "metadata": {},
   "outputs": [
    {
     "name": "stdout",
     "output_type": "stream",
     "text": [
      "Object of search:\n",
      "\n",
      "Requirement failed 😢\n",
      "Num problematic search categories: 4\n",
      "Num good search cateogories: 6\n",
      "\n",
      "\n",
      "Problematic search categories: ['Controlled drugs', 'Offensive weapons', 'Article for use in theft', 'Stolen goods']\n",
      "\n",
      "\n",
      "Good search categories: ['Game or poaching equipment', 'Firearms', 'Articles for use in criminal damage', 'Fireworks', 'Psychoactive substances', 'Evidence of offences under the Act']\n",
      "\n",
      "\n",
      "avg diff: 0.34580570291777185\n",
      "Objects of search categories analysed: 10\n"
     ]
    }
   ],
   "source": [
    "# Evaluate the model success between \"object of search\" categories\n",
    "print(\"Object of search:\\n\")\n",
    "\n",
    "is_satisfied, problematic_searches, good_searches = verify_no_discrimination_object_of_search(\n",
    "    X_test, y_test, preds, sensitive_column='Officer-defined ethnicity',max_diff=0.05)\n",
    "\n",
    "\n",
    "if not is_satisfied:\n",
    "    print(\"Requirement failed 😢\")\n",
    "    print(\"Num problematic search categories: {}\".format(len(problematic_searches)))\n",
    "    print(\"Num good search cateogories: {}\".format(len(good_searches)))\n",
    "    print ('\\n')\n",
    "    print (\"Problematic search categories:\",[i[0] for i in problematic_searches])\n",
    "    print ('\\n')\n",
    "    print (\"Good search categories:\",[i[0] for i in good_searches])\n",
    "    print ('\\n')\n",
    "    print(\"avg diff:\", np.mean([p[1] for p in problematic_searches]))\n",
    "\n",
    "    \n",
    "print(\"Objects of search categories analysed: {}\".format(len(problematic_searches) + len(good_searches)))"
   ]
  }
 ],
 "metadata": {
  "kernelspec": {
   "display_name": "Python 3 (ipykernel)",
   "language": "python",
   "name": "python3"
  },
  "language_info": {
   "codemirror_mode": {
    "name": "ipython",
    "version": 3
   },
   "file_extension": ".py",
   "mimetype": "text/x-python",
   "name": "python",
   "nbconvert_exporter": "python",
   "pygments_lexer": "ipython3",
   "version": "3.8.16"
  }
 },
 "nbformat": 4,
 "nbformat_minor": 5
}
